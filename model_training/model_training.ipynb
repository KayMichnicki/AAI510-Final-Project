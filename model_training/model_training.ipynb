{
 "cells": [
  {
   "cell_type": "markdown",
   "metadata": {},
   "source": [
    "# S&P 500 Stock Analysis using Machine Learning (Clustering) "
   ]
  },
  {
   "cell_type": "markdown",
   "metadata": {},
   "source": [
    "## Business Understanding\n",
    "\n",
    "The objective of this project is to perform an unsupervised segmentation of companies based on key financial indicators, with the goal of identifying distinct groups or \"market player types\" that exhibit similar behavior across features such as trading volume, stock price, market capitalization, EBITDA, revenue growth, and portfolio weight.\n",
    "\n",
    "By leveraging KMeans clustering and feature standardization, the project aims to:\n",
    "\n",
    "- Detect underlying patterns in financial performance and market presence\n",
    "- Group companies into data-driven clusters that represent real-world investment types\n",
    "- Enable analysts, portfolio managers, and strategy teams to make targeted decisions based on the clusters"
   ]
  },
  {
   "cell_type": "code",
   "execution_count": 92,
   "metadata": {},
   "outputs": [],
   "source": [
    "import pandas as pd\n",
    "import numpy as np\n",
    "import matplotlib.pyplot as plt\n",
    "import seaborn as sns\n",
    "from sklearn.model_selection import train_test_split\n",
    "from sklearn.metrics import classification_report, roc_auc_score, precision_recall_curve, confusion_matrix\n",
    "from sklearn import metrics \n",
    "from imblearn.over_sampling import SMOTE\n",
    "from sklearn.cluster import KMeans\n",
    "from sklearn.preprocessing import StandardScaler\n",
    "from sklearn.metrics import silhouette_score\n",
    "from sklearn.linear_model import LinearRegression\n",
    "from sklearn.decomposition import PCA\n",
    "from scipy import stats\n",
    "from tqdm import tqdm\n",
    "from sklearn.model_selection import train_test_split\n",
    "import os\n",
    "import joblib\n",
    "from sklearn.metrics import (\n",
    "    classification_report,\n",
    "    roc_auc_score,\n",
    "    confusion_matrix,\n",
    "    auc,\n",
    "    precision_score,\n",
    "    accuracy_score,\n",
    "    recall_score,\n",
    "    f1_score,\n",
    "    roc_curve\n",
    ")\n",
    "\n",
    "from sklearn.model_selection import (\n",
    "    train_test_split,\n",
    "    GridSearchCV,\n",
    ")\n",
    "from xgboost import XGBClassifier\n",
    "\n"
   ]
  },
  {
   "cell_type": "code",
   "execution_count": 93,
   "metadata": {},
   "outputs": [],
   "source": [
    "RAW_DATA_DIR = os.path.join('..', 'data')\n",
    "SAVED_MODEL_DIR = os.path.join('..', 'saved_models')\n",
    "SNP500_COMPANIES_FILE_PATH = os.path.join(RAW_DATA_DIR, 'sp500_companies.csv')\n",
    "SNP500_INDEX_FILE_PATH     = os.path.join(RAW_DATA_DIR, 'sp500_index.csv')\n",
    "SNP500_STOCKS_FILE_PATH    = os.path.join(RAW_DATA_DIR, 'sp500_stocks.csv')\n"
   ]
  },
  {
   "cell_type": "markdown",
   "metadata": {},
   "source": [
    "## Load Datasets"
   ]
  },
  {
   "cell_type": "code",
   "execution_count": 94,
   "metadata": {},
   "outputs": [],
   "source": [
    "def loadDataset(paths):\n",
    "    index = paths[0]    # SP_500 Index\n",
    "    companies = paths[1] # SP_500 Companies\n",
    "    stocks = paths[2] # SP_500 Stocks\n",
    "\n",
    "    # Load datasets \n",
    "    index_df = pd.read_csv(index, parse_dates=['Date'])\n",
    "    companies_df = pd.read_csv(companies)\n",
    "    stocks_df = pd.read_csv(stocks, parse_dates=['Date'])\n",
    "    stocks_df = stocks_df[stocks_df['Close'].isnull() == False]\n",
    "\n",
    "    # Merge datasets for training\n",
    "    merged_df = stocks_df.merge(companies_df, on='Symbol', how='left')\n",
    "\n",
    "    print(f'Shape of the merged dataset: {merged_df.shape}')\n",
    "\n",
    "    # train test split\n",
    "    train, test = train_test_split(merged_df, test_size=0.2, random_state=42)\n",
    "\n",
    "    # Train data\n",
    "    print(f'Shape of Train dataset: {train.shape}')\n",
    "\n",
    "    # Test data\n",
    "    print(f'Shape of Test dataset: {test.shape}')\n",
    "\n",
    "    return train, test, index_df, merged_df"
   ]
  },
  {
   "cell_type": "code",
   "execution_count": 95,
   "metadata": {},
   "outputs": [
    {
     "name": "stdout",
     "output_type": "stream",
     "text": [
      "Shape of the merged dataset: (617831, 23)\n",
      "Shape of Train dataset: (494264, 23)\n",
      "Shape of Test dataset: (123567, 23)\n"
     ]
    }
   ],
   "source": [
    "file_paths = [SNP500_INDEX_FILE_PATH, SNP500_COMPANIES_FILE_PATH, SNP500_STOCKS_FILE_PATH]\n",
    "stocks, stocks_test, df_sp500_index, df_stock_compeny_master = loadDataset(file_paths)"
   ]
  },
  {
   "cell_type": "code",
   "execution_count": 96,
   "metadata": {},
   "outputs": [
    {
     "data": {
      "text/html": [
       "<div>\n",
       "<style scoped>\n",
       "    .dataframe tbody tr th:only-of-type {\n",
       "        vertical-align: middle;\n",
       "    }\n",
       "\n",
       "    .dataframe tbody tr th {\n",
       "        vertical-align: top;\n",
       "    }\n",
       "\n",
       "    .dataframe thead th {\n",
       "        text-align: right;\n",
       "    }\n",
       "</style>\n",
       "<table border=\"1\" class=\"dataframe\">\n",
       "  <thead>\n",
       "    <tr style=\"text-align: right;\">\n",
       "      <th></th>\n",
       "      <th>Symbol</th>\n",
       "      <th>Sector</th>\n",
       "      <th>Volume</th>\n",
       "      <th>Currentprice</th>\n",
       "      <th>Marketcap</th>\n",
       "      <th>Ebitda</th>\n",
       "      <th>Revenuegrowth</th>\n",
       "      <th>Weight</th>\n",
       "    </tr>\n",
       "  </thead>\n",
       "  <tbody>\n",
       "    <tr>\n",
       "      <th>17737</th>\n",
       "      <td>ALB</td>\n",
       "      <td>Basic Materials</td>\n",
       "      <td>2147300.0</td>\n",
       "      <td>88.65</td>\n",
       "      <td>10419920896</td>\n",
       "      <td>-9.350780e+08</td>\n",
       "      <td>-0.414</td>\n",
       "      <td>0.000187</td>\n",
       "    </tr>\n",
       "    <tr>\n",
       "      <th>59311</th>\n",
       "      <td>AJG</td>\n",
       "      <td>Financial Services</td>\n",
       "      <td>533600.0</td>\n",
       "      <td>283.10</td>\n",
       "      <td>70719234048</td>\n",
       "      <td>3.382200e+09</td>\n",
       "      <td>0.119</td>\n",
       "      <td>0.001272</td>\n",
       "    </tr>\n",
       "    <tr>\n",
       "      <th>24725</th>\n",
       "      <td>GOOG</td>\n",
       "      <td>Communication Services</td>\n",
       "      <td>136754676.0</td>\n",
       "      <td>192.96</td>\n",
       "      <td>2351623045120</td>\n",
       "      <td>1.234700e+11</td>\n",
       "      <td>0.151</td>\n",
       "      <td>0.042309</td>\n",
       "    </tr>\n",
       "    <tr>\n",
       "      <th>32251</th>\n",
       "      <td>AMZN</td>\n",
       "      <td>Consumer Cyclical</td>\n",
       "      <td>158006000.0</td>\n",
       "      <td>224.92</td>\n",
       "      <td>2365033807872</td>\n",
       "      <td>1.115830e+11</td>\n",
       "      <td>0.110</td>\n",
       "      <td>0.042550</td>\n",
       "    </tr>\n",
       "    <tr>\n",
       "      <th>246591</th>\n",
       "      <td>FAST</td>\n",
       "      <td>Industrials</td>\n",
       "      <td>2078900.0</td>\n",
       "      <td>74.82</td>\n",
       "      <td>42863333376</td>\n",
       "      <td>1.693200e+09</td>\n",
       "      <td>0.035</td>\n",
       "      <td>0.000771</td>\n",
       "    </tr>\n",
       "  </tbody>\n",
       "</table>\n",
       "</div>"
      ],
      "text/plain": [
       "       Symbol                  Sector       Volume  Currentprice  \\\n",
       "17737     ALB         Basic Materials    2147300.0         88.65   \n",
       "59311     AJG      Financial Services     533600.0        283.10   \n",
       "24725    GOOG  Communication Services  136754676.0        192.96   \n",
       "32251    AMZN       Consumer Cyclical  158006000.0        224.92   \n",
       "246591   FAST             Industrials    2078900.0         74.82   \n",
       "\n",
       "            Marketcap        Ebitda  Revenuegrowth    Weight  \n",
       "17737     10419920896 -9.350780e+08         -0.414  0.000187  \n",
       "59311     70719234048  3.382200e+09          0.119  0.001272  \n",
       "24725   2351623045120  1.234700e+11          0.151  0.042309  \n",
       "32251   2365033807872  1.115830e+11          0.110  0.042550  \n",
       "246591    42863333376  1.693200e+09          0.035  0.000771  "
      ]
     },
     "execution_count": 96,
     "metadata": {},
     "output_type": "execute_result"
    }
   ],
   "source": [
    "def selectFeatures(df):\n",
    "    # Text Features\n",
    "    text_features = ['Symbol','Sector']\n",
    "\n",
    "    # Numerical Features\n",
    "    num_features = ['Volume', 'Currentprice', 'Marketcap', 'Ebitda', 'Revenuegrowth', 'Weight']\n",
    "\n",
    "    # Prepare dataset for clustering\n",
    "    return text_features, num_features, df[text_features + num_features]\n",
    "\n",
    "text_features, num_features, stocks = selectFeatures(stocks)  \n",
    "stocks.head()"
   ]
  },
  {
   "cell_type": "markdown",
   "metadata": {},
   "source": [
    "## Data Preparation"
   ]
  },
  {
   "cell_type": "markdown",
   "metadata": {},
   "source": [
    "#### Methods for Feature engineering"
   ]
  },
  {
   "cell_type": "markdown",
   "metadata": {},
   "source": [
    "Based on the data understanding, following feature engienering techniques are applied\n",
    "\n",
    "1. Remove duplicate samples\n",
    "2. Impute missing values by Mean and Linear Regression\n",
    "3. Log Transformation to balance the skewness\n",
    "4. Normalization using Standard Scalar"
   ]
  },
  {
   "cell_type": "code",
   "execution_count": 97,
   "metadata": {},
   "outputs": [],
   "source": [
    "# Method to drop all duplicate rows\n",
    "def remove_duplicates(df):\n",
    "    print(\"Removing Duplicate Rows\")\n",
    "    duplicate_rows = df[df.duplicated()]\n",
    "    print(f\"Number of duplicate rows: {duplicate_rows.shape[0]}\")\n",
    "    df.drop_duplicates()\n",
    "    print(f\"Shape after removing duplicates: {df.shape}\")\n",
    "    return df\n",
    "\n",
    "# Impute by Mean\n",
    "def imputeByMean(df, feature, groupby_col):\n",
    "    print(\"Imputing missing values by Mean\")\n",
    "    df[feature] = df.groupby(groupby_col)[feature].transform(lambda x: x.fillna(x.mean()))\n",
    "    return df\n",
    "\n",
    "# Impute by Linear Regression\n",
    "def imputeByRegression(df, features, target):\n",
    "    print(\"Imputing missing values by Linear Regression\")\n",
    "    # Prepare the DataFrame for regression\n",
    "    ebitda_df = df[features + [target]]\n",
    "\n",
    "    # df[df['Ebitda'].notnull()]\n",
    "    train = ebitda_df[ebitda_df[target].notnull()]\n",
    "    test = ebitda_df[ebitda_df[target].isnull()]\n",
    "\n",
    "    model = LinearRegression()\n",
    "    model.fit(train[features], train[target])\n",
    "\n",
    "    # Predict Ebitda for stocks with missing values\n",
    "    df.loc[df[target].isnull(), target] = model.predict(test[features])\n",
    "\n",
    "    #result = checkForMissingValues(stocks)\n",
    "    #print(result)\n",
    "    \n",
    "    return df\n",
    "\n",
    "# Log Transformation\n",
    "def logTransform(df, features):\n",
    "    print(\"Applying Log Transformation\")\n",
    "    for feature in features:\n",
    "        df[feature] = np.log1p(df[feature])\n",
    "    \n",
    "    # Plot the distribution of numerical features after log transformation\n",
    "    plot_feature_distribution(stocks, num_features)\n",
    "    return df\n",
    "\n",
    "# Normalize Features\n",
    "def normalize(df, features):\n",
    "    print(\"Normalizing Features\")\n",
    "    scaler = StandardScaler()\n",
    "    df[features] = scaler.fit_transform(df[features])\n",
    "    return df\n",
    "\n",
    "# Plot the distribution of numerical features\n",
    "def plot_feature_distribution(df, features):\n",
    "    fig, ax = plt.subplots(2, 3, figsize=(18, 8))\n",
    "    plt.subplots_adjust(top = 0.99, bottom=0.05, hspace=1, wspace=0.4)\n",
    "    ax = ax.flatten()\n",
    "    for i,col in enumerate(features):\n",
    "        kde = stats.gaussian_kde(stocks[col])\n",
    "        x = np.linspace(stocks[col].min(), stocks[col].max(), 1000)\n",
    "        ax[i].plot(x, kde(x), color='red')\n",
    "        ax[i].hist(stocks[col], bins=50, density=True, alpha=0.75, color='skyblue', edgecolor='black')\n",
    "        ax[i].set_title(f'histogram for {col}')\n",
    "        ax[i].set_xlabel(col)\n",
    "        ax[i].set_ylabel('Density')"
   ]
  },
  {
   "cell_type": "code",
   "execution_count": 98,
   "metadata": {},
   "outputs": [],
   "source": [
    "def performFeatureEngineeing(stocks_df):\n",
    "    # Drop all duplicate rows\n",
    "    stocks_cleaned = remove_duplicates(stocks_df)\n",
    "\n",
    "    # Impute revenue growth by taking a mean of revenue growth for each sector\n",
    "    stocks_cleaned = imputeByMean(stocks_cleaned,\n",
    "                        feature=['Revenuegrowth'],\n",
    "                        groupby_col='Sector')\n",
    "    \n",
    "    # Impute Ebitda by regression\n",
    "    stocks_cleaned = imputeByRegression(stocks_cleaned, features=['Marketcap', 'Revenuegrowth', 'Weight'], target='Ebitda')\n",
    "\n",
    "    # Log Transform selected features\n",
    "    stocks_cleaned = logTransform(stocks_cleaned, ['Volume', 'Currentprice', 'Marketcap', 'Revenuegrowth', 'Weight'])\n",
    "\n",
    "    # Normalize numerical features\n",
    "    stocks_cleaned = normalize(stocks_cleaned, num_features)\n",
    "\n",
    "    return stocks_cleaned"
   ]
  },
  {
   "cell_type": "code",
   "execution_count": 99,
   "metadata": {},
   "outputs": [
    {
     "name": "stdout",
     "output_type": "stream",
     "text": [
      "Removing Duplicate Rows\n",
      "Number of duplicate rows: 29671\n",
      "Shape after removing duplicates: (494264, 8)\n",
      "Imputing missing values by Mean\n",
      "Imputing missing values by Linear Regression\n",
      "Applying Log Transformation\n",
      "Normalizing Features\n"
     ]
    },
    {
     "data": {
      "image/png": "[encoded data removed]",
      "text/plain": [
       "<Figure size 1800x800 with 6 Axes>"
      ]
     },
     "metadata": {},
     "output_type": "display_data"
    }
   ],
   "source": [
    "stocks = performFeatureEngineeing(stocks)\n"
   ]
  },
  {
   "cell_type": "code",
   "execution_count": 100,
   "metadata": {},
   "outputs": [
    {
     "data": {
      "text/html": [
       "<div>\n",
       "<style scoped>\n",
       "    .dataframe tbody tr th:only-of-type {\n",
       "        vertical-align: middle;\n",
       "    }\n",
       "\n",
       "    .dataframe tbody tr th {\n",
       "        vertical-align: top;\n",
       "    }\n",
       "\n",
       "    .dataframe thead th {\n",
       "        text-align: right;\n",
       "    }\n",
       "</style>\n",
       "<table border=\"1\" class=\"dataframe\">\n",
       "  <thead>\n",
       "    <tr style=\"text-align: right;\">\n",
       "      <th></th>\n",
       "      <th>Symbol</th>\n",
       "      <th>Sector</th>\n",
       "      <th>Volume</th>\n",
       "      <th>Currentprice</th>\n",
       "      <th>Marketcap</th>\n",
       "      <th>Ebitda</th>\n",
       "      <th>Revenuegrowth</th>\n",
       "      <th>Weight</th>\n",
       "    </tr>\n",
       "  </thead>\n",
       "  <tbody>\n",
       "    <tr>\n",
       "      <th>17737</th>\n",
       "      <td>ALB</td>\n",
       "      <td>Basic Materials</td>\n",
       "      <td>-0.169948</td>\n",
       "      <td>-0.344756</td>\n",
       "      <td>-1.229153</td>\n",
       "      <td>-0.493463</td>\n",
       "      <td>-4.601036</td>\n",
       "      <td>-0.304722</td>\n",
       "    </tr>\n",
       "    <tr>\n",
       "      <th>59311</th>\n",
       "      <td>AJG</td>\n",
       "      <td>Financial Services</td>\n",
       "      <td>-1.238181</td>\n",
       "      <td>0.953903</td>\n",
       "      <td>0.356761</td>\n",
       "      <td>-0.259420</td>\n",
       "      <td>0.396731</td>\n",
       "      <td>-0.169714</td>\n",
       "    </tr>\n",
       "    <tr>\n",
       "      <th>24725</th>\n",
       "      <td>GOOG</td>\n",
       "      <td>Communication Services</td>\n",
       "      <td>3.017120</td>\n",
       "      <td>0.524166</td>\n",
       "      <td>3.258733</td>\n",
       "      <td>6.250634</td>\n",
       "      <td>0.614573</td>\n",
       "      <td>4.832558</td>\n",
       "    </tr>\n",
       "    <tr>\n",
       "      <th>32251</th>\n",
       "      <td>AMZN</td>\n",
       "      <td>Consumer Cyclical</td>\n",
       "      <td>3.127942</td>\n",
       "      <td>0.695902</td>\n",
       "      <td>3.263442</td>\n",
       "      <td>5.606231</td>\n",
       "      <td>0.334340</td>\n",
       "      <td>4.861384</td>\n",
       "    </tr>\n",
       "    <tr>\n",
       "      <th>246591</th>\n",
       "      <td>FAST</td>\n",
       "      <td>Industrials</td>\n",
       "      <td>-0.194785</td>\n",
       "      <td>-0.533406</td>\n",
       "      <td>-0.057896</td>\n",
       "      <td>-0.350982</td>\n",
       "      <td>-0.206165</td>\n",
       "      <td>-0.232064</td>\n",
       "    </tr>\n",
       "  </tbody>\n",
       "</table>\n",
       "</div>"
      ],
      "text/plain": [
       "       Symbol                  Sector    Volume  Currentprice  Marketcap  \\\n",
       "17737     ALB         Basic Materials -0.169948     -0.344756  -1.229153   \n",
       "59311     AJG      Financial Services -1.238181      0.953903   0.356761   \n",
       "24725    GOOG  Communication Services  3.017120      0.524166   3.258733   \n",
       "32251    AMZN       Consumer Cyclical  3.127942      0.695902   3.263442   \n",
       "246591   FAST             Industrials -0.194785     -0.533406  -0.057896   \n",
       "\n",
       "          Ebitda  Revenuegrowth    Weight  \n",
       "17737  -0.493463      -4.601036 -0.304722  \n",
       "59311  -0.259420       0.396731 -0.169714  \n",
       "24725   6.250634       0.614573  4.832558  \n",
       "32251   5.606231       0.334340  4.861384  \n",
       "246591 -0.350982      -0.206165 -0.232064  "
      ]
     },
     "execution_count": 100,
     "metadata": {},
     "output_type": "execute_result"
    }
   ],
   "source": [
    "\n",
    "stocks.head()"
   ]
  },
  {
   "cell_type": "markdown",
   "metadata": {},
   "source": [
    "## Modelling "
   ]
  },
  {
   "cell_type": "code",
   "execution_count": 101,
   "metadata": {},
   "outputs": [],
   "source": [
    "# Function to perform KMeans clustering\n",
    "# :param data: DataFrame containing the features for clustering\n",
    "# :param n_clusters: Number of clusters to form\n",
    "def kmeans_clustering(data, n_clusters):\n",
    "    kmeans = KMeans(n_clusters=n_clusters, n_init='auto', random_state=0)\n",
    "    kmeans.fit(data)\n",
    "    return kmeans, kmeans.labels_, kmeans.inertia_"
   ]
  },
  {
   "cell_type": "code",
   "execution_count": 102,
   "metadata": {},
   "outputs": [
    {
     "name": "stdout",
     "output_type": "stream",
     "text": [
      "Number of clusters: 2, Inertia: 1838627.0440620692, Silhouette Score: 0.7394423302193156\n",
      "Number of clusters: 3, Inertia: 1438760.4198052427, Silhouette Score: 0.2655336957931047\n",
      "Number of clusters: 4, Inertia: 1120374.1489023985, Silhouette Score: 0.27132620229406756\n",
      "Number of clusters: 5, Inertia: 1007433.6046159667, Silhouette Score: 0.2357965111169148\n",
      "Number of clusters: 6, Inertia: 899358.3671451844, Silhouette Score: 0.2394633420893158\n",
      "Number of clusters: 7, Inertia: 812796.221440249, Silhouette Score: 0.2581823855721697\n"
     ]
    }
   ],
   "source": [
    "\n",
    "inertias = []\n",
    "knn_labels = []\n",
    "train_eval = stocks.copy()\n",
    "\n",
    "# Perform KMeans clustering for different values of k\n",
    "for n_clusters in range(2, 8):\n",
    "    kmeans, labels, inertia = kmeans_clustering(stocks[num_features], n_clusters)\n",
    "    inertias.append(inertia)\n",
    "    knn_labels.append(labels)\n",
    "    \n",
    "    # Calculate silhouette score\n",
    "    silhouette_avg = silhouette_score(stocks[num_features], labels)\n",
    "    print(f'Number of clusters: {n_clusters}, Inertia: {inertia}, Silhouette Score: {silhouette_avg}')\n",
    "    \n",
    "    # Add cluster labels to the DataFrame\n",
    "    stocks[f'cluster_{n_clusters}'] = labels\n",
    "\n",
    "    # Save each KMeans model with the cluster count in the filename\n",
    "    model_path = os.path.join(SAVED_MODEL_DIR, f'kmeans_k{n_clusters}.pkl')\n",
    "    joblib.dump(kmeans, model_path)\n",
    "\n"
   ]
  },
  {
   "cell_type": "markdown",
   "metadata": {},
   "source": [
    "While Silhoutte score is high for K=2, it might be over simplified if we go ahead with just 2 clusters. \n",
    "\n",
    "The elbow plot shows k=4 or k=5. Between these two values, k=5 could provide more balanced set of clusters."
   ]
  },
  {
   "cell_type": "code",
   "execution_count": 103,
   "metadata": {},
   "outputs": [
    {
     "data": {
      "image/png": "[encoded data removed]",
      "text/plain": [
       "<Figure size 640x480 with 1 Axes>"
      ]
     },
     "metadata": {},
     "output_type": "display_data"
    }
   ],
   "source": [
    "# Plot the elbow curve\n",
    "plt.plot(range(2, 8), inertias, 'bo-')\n",
    "plt.xlabel('Number of clusters (k)')\n",
    "plt.ylabel('inertia')\n",
    "plt.title('Elbow Method for K values')\n",
    "plt.show()"
   ]
  },
  {
   "cell_type": "markdown",
   "metadata": {},
   "source": [
    "### Model training with optimal K=5"
   ]
  },
  {
   "cell_type": "code",
   "execution_count": 104,
   "metadata": {},
   "outputs": [
    {
     "name": "stdout",
     "output_type": "stream",
     "text": [
      "Number of clusters: 5, Inertia: 1007433.6046159667, Silhouette Score: 0.2357965111169148\n"
     ]
    }
   ],
   "source": [
    "kmeans, labels, inertia = kmeans_clustering(stocks[num_features], 5)\n",
    "\n",
    "# Calculate silhouette score\n",
    "silhouette_avg = silhouette_score(stocks[num_features], labels)\n",
    "\n",
    "# Calculate silhouette score\n",
    "print(f'Number of clusters: 5, Inertia: {inertia}, Silhouette Score: {silhouette_avg}')\n",
    "\n",
    "# Add cluster labels to the DataFrame\n",
    "stocks[f'optimal_cluster'] = labels\n"
   ]
  },
  {
   "cell_type": "code",
   "execution_count": 105,
   "metadata": {},
   "outputs": [
    {
     "data": {
      "text/html": [
       "<div>\n",
       "<style scoped>\n",
       "    .dataframe tbody tr th:only-of-type {\n",
       "        vertical-align: middle;\n",
       "    }\n",
       "\n",
       "    .dataframe tbody tr th {\n",
       "        vertical-align: top;\n",
       "    }\n",
       "\n",
       "    .dataframe thead th {\n",
       "        text-align: right;\n",
       "    }\n",
       "</style>\n",
       "<table border=\"1\" class=\"dataframe\">\n",
       "  <thead>\n",
       "    <tr style=\"text-align: right;\">\n",
       "      <th></th>\n",
       "      <th>Symbol</th>\n",
       "      <th>Sector</th>\n",
       "      <th>Volume</th>\n",
       "      <th>Currentprice</th>\n",
       "      <th>Marketcap</th>\n",
       "      <th>Ebitda</th>\n",
       "      <th>Revenuegrowth</th>\n",
       "      <th>Weight</th>\n",
       "      <th>cluster_2</th>\n",
       "      <th>cluster_3</th>\n",
       "      <th>cluster_4</th>\n",
       "      <th>cluster_5</th>\n",
       "      <th>cluster_6</th>\n",
       "      <th>cluster_7</th>\n",
       "      <th>optimal_cluster</th>\n",
       "    </tr>\n",
       "  </thead>\n",
       "  <tbody>\n",
       "    <tr>\n",
       "      <th>17737</th>\n",
       "      <td>ALB</td>\n",
       "      <td>Basic Materials</td>\n",
       "      <td>-0.169948</td>\n",
       "      <td>-0.344756</td>\n",
       "      <td>-1.229153</td>\n",
       "      <td>-0.493463</td>\n",
       "      <td>-4.601036</td>\n",
       "      <td>-0.304722</td>\n",
       "      <td>0</td>\n",
       "      <td>2</td>\n",
       "      <td>3</td>\n",
       "      <td>3</td>\n",
       "      <td>3</td>\n",
       "      <td>3</td>\n",
       "      <td>3</td>\n",
       "    </tr>\n",
       "    <tr>\n",
       "      <th>59311</th>\n",
       "      <td>AJG</td>\n",
       "      <td>Financial Services</td>\n",
       "      <td>-1.238181</td>\n",
       "      <td>0.953903</td>\n",
       "      <td>0.356761</td>\n",
       "      <td>-0.259420</td>\n",
       "      <td>0.396731</td>\n",
       "      <td>-0.169714</td>\n",
       "      <td>0</td>\n",
       "      <td>0</td>\n",
       "      <td>2</td>\n",
       "      <td>2</td>\n",
       "      <td>5</td>\n",
       "      <td>5</td>\n",
       "      <td>2</td>\n",
       "    </tr>\n",
       "    <tr>\n",
       "      <th>24725</th>\n",
       "      <td>GOOG</td>\n",
       "      <td>Communication Services</td>\n",
       "      <td>3.017120</td>\n",
       "      <td>0.524166</td>\n",
       "      <td>3.258733</td>\n",
       "      <td>6.250634</td>\n",
       "      <td>0.614573</td>\n",
       "      <td>4.832558</td>\n",
       "      <td>1</td>\n",
       "      <td>1</td>\n",
       "      <td>1</td>\n",
       "      <td>1</td>\n",
       "      <td>1</td>\n",
       "      <td>1</td>\n",
       "      <td>1</td>\n",
       "    </tr>\n",
       "    <tr>\n",
       "      <th>32251</th>\n",
       "      <td>AMZN</td>\n",
       "      <td>Consumer Cyclical</td>\n",
       "      <td>3.127942</td>\n",
       "      <td>0.695902</td>\n",
       "      <td>3.263442</td>\n",
       "      <td>5.606231</td>\n",
       "      <td>0.334340</td>\n",
       "      <td>4.861384</td>\n",
       "      <td>1</td>\n",
       "      <td>1</td>\n",
       "      <td>1</td>\n",
       "      <td>1</td>\n",
       "      <td>1</td>\n",
       "      <td>1</td>\n",
       "      <td>1</td>\n",
       "    </tr>\n",
       "    <tr>\n",
       "      <th>246591</th>\n",
       "      <td>FAST</td>\n",
       "      <td>Industrials</td>\n",
       "      <td>-0.194785</td>\n",
       "      <td>-0.533406</td>\n",
       "      <td>-0.057896</td>\n",
       "      <td>-0.350982</td>\n",
       "      <td>-0.206165</td>\n",
       "      <td>-0.232064</td>\n",
       "      <td>0</td>\n",
       "      <td>2</td>\n",
       "      <td>3</td>\n",
       "      <td>4</td>\n",
       "      <td>2</td>\n",
       "      <td>2</td>\n",
       "      <td>4</td>\n",
       "    </tr>\n",
       "  </tbody>\n",
       "</table>\n",
       "</div>"
      ],
      "text/plain": [
       "       Symbol                  Sector    Volume  Currentprice  Marketcap  \\\n",
       "17737     ALB         Basic Materials -0.169948     -0.344756  -1.229153   \n",
       "59311     AJG      Financial Services -1.238181      0.953903   0.356761   \n",
       "24725    GOOG  Communication Services  3.017120      0.524166   3.258733   \n",
       "32251    AMZN       Consumer Cyclical  3.127942      0.695902   3.263442   \n",
       "246591   FAST             Industrials -0.194785     -0.533406  -0.057896   \n",
       "\n",
       "          Ebitda  Revenuegrowth    Weight  cluster_2  cluster_3  cluster_4  \\\n",
       "17737  -0.493463      -4.601036 -0.304722          0          2          3   \n",
       "59311  -0.259420       0.396731 -0.169714          0          0          2   \n",
       "24725   6.250634       0.614573  4.832558          1          1          1   \n",
       "32251   5.606231       0.334340  4.861384          1          1          1   \n",
       "246591 -0.350982      -0.206165 -0.232064          0          2          3   \n",
       "\n",
       "        cluster_5  cluster_6  cluster_7  optimal_cluster  \n",
       "17737           3          3          3                3  \n",
       "59311           2          5          5                2  \n",
       "24725           1          1          1                1  \n",
       "32251           1          1          1                1  \n",
       "246591          4          2          2                4  "
      ]
     },
     "execution_count": 105,
     "metadata": {},
     "output_type": "execute_result"
    }
   ],
   "source": [
    "stocks.head()"
   ]
  },
  {
   "cell_type": "markdown",
   "metadata": {},
   "source": [
    "Find the average and number of samples for Cluster_5"
   ]
  },
  {
   "cell_type": "code",
   "execution_count": 106,
   "metadata": {},
   "outputs": [
    {
     "data": {
      "text/html": [
       "<div>\n",
       "<style scoped>\n",
       "    .dataframe tbody tr th:only-of-type {\n",
       "        vertical-align: middle;\n",
       "    }\n",
       "\n",
       "    .dataframe tbody tr th {\n",
       "        vertical-align: top;\n",
       "    }\n",
       "\n",
       "    .dataframe thead th {\n",
       "        text-align: right;\n",
       "    }\n",
       "</style>\n",
       "<table border=\"1\" class=\"dataframe\">\n",
       "  <thead>\n",
       "    <tr style=\"text-align: right;\">\n",
       "      <th></th>\n",
       "      <th>optimal_cluster</th>\n",
       "      <th>Volume</th>\n",
       "      <th>Currentprice</th>\n",
       "      <th>Marketcap</th>\n",
       "      <th>Ebitda</th>\n",
       "      <th>Revenuegrowth</th>\n",
       "      <th>Weight</th>\n",
       "    </tr>\n",
       "  </thead>\n",
       "  <tbody>\n",
       "    <tr>\n",
       "      <th>0</th>\n",
       "      <td>0</td>\n",
       "      <td>0.928660</td>\n",
       "      <td>0.163198</td>\n",
       "      <td>1.143483</td>\n",
       "      <td>0.358298</td>\n",
       "      <td>0.036289</td>\n",
       "      <td>0.195873</td>\n",
       "    </tr>\n",
       "    <tr>\n",
       "      <th>1</th>\n",
       "      <td>1</td>\n",
       "      <td>2.451670</td>\n",
       "      <td>0.878046</td>\n",
       "      <td>3.307410</td>\n",
       "      <td>5.145280</td>\n",
       "      <td>1.679028</td>\n",
       "      <td>5.330215</td>\n",
       "    </tr>\n",
       "    <tr>\n",
       "      <th>2</th>\n",
       "      <td>2</td>\n",
       "      <td>-0.759240</td>\n",
       "      <td>0.923710</td>\n",
       "      <td>-0.090185</td>\n",
       "      <td>-0.271086</td>\n",
       "      <td>0.312403</td>\n",
       "      <td>-0.215024</td>\n",
       "    </tr>\n",
       "    <tr>\n",
       "      <th>3</th>\n",
       "      <td>3</td>\n",
       "      <td>-0.539458</td>\n",
       "      <td>-0.373151</td>\n",
       "      <td>-0.815838</td>\n",
       "      <td>-0.326333</td>\n",
       "      <td>-0.886836</td>\n",
       "      <td>-0.283786</td>\n",
       "    </tr>\n",
       "    <tr>\n",
       "      <th>4</th>\n",
       "      <td>4</td>\n",
       "      <td>0.347141</td>\n",
       "      <td>-0.957226</td>\n",
       "      <td>-0.432637</td>\n",
       "      <td>-0.254475</td>\n",
       "      <td>0.119030</td>\n",
       "      <td>-0.256326</td>\n",
       "    </tr>\n",
       "  </tbody>\n",
       "</table>\n",
       "</div>"
      ],
      "text/plain": [
       "   optimal_cluster    Volume  Currentprice  Marketcap    Ebitda  \\\n",
       "0                0  0.928660      0.163198   1.143483  0.358298   \n",
       "1                1  2.451670      0.878046   3.307410  5.145280   \n",
       "2                2 -0.759240      0.923710  -0.090185 -0.271086   \n",
       "3                3 -0.539458     -0.373151  -0.815838 -0.326333   \n",
       "4                4  0.347141     -0.957226  -0.432637 -0.254475   \n",
       "\n",
       "   Revenuegrowth    Weight  \n",
       "0       0.036289  0.195873  \n",
       "1       1.679028  5.330215  \n",
       "2       0.312403 -0.215024  \n",
       "3      -0.886836 -0.283786  \n",
       "4       0.119030 -0.256326  "
      ]
     },
     "execution_count": 106,
     "metadata": {},
     "output_type": "execute_result"
    }
   ],
   "source": [
    "# Choose Cluster 5 based on the elbow method\n",
    "cluster_summary = stocks.groupby('optimal_cluster')[num_features].mean().reset_index()\n",
    "cluster_summary"
   ]
  },
  {
   "cell_type": "code",
   "execution_count": 107,
   "metadata": {},
   "outputs": [
    {
     "data": {
      "image/png": "[encoded data removed]",
      "text/plain": [
       "<Figure size 640x480 with 1 Axes>"
      ]
     },
     "metadata": {},
     "output_type": "display_data"
    }
   ],
   "source": [
    "# find the number of samples in eaach cluster\n",
    "cluster_counts = stocks['optimal_cluster'].value_counts().sort_index()\n",
    "cluster_summary['sample_count'] = cluster_counts\n",
    "plt.bar(cluster_summary['optimal_cluster'], cluster_summary['sample_count'], color='skyblue')\n",
    "plt.xlabel('Cluster')\n",
    "plt.ylabel('Sample Count')\n",
    "plt.title('Sample Count per Cluster')\n",
    "plt.xticks(rotation=0)\n",
    "plt.show()"
   ]
  },
  {
   "cell_type": "markdown",
   "metadata": {},
   "source": [
    "The PCA plot provides the visualization of various clusters"
   ]
  },
  {
   "cell_type": "code",
   "execution_count": 10,
   "metadata": {},
   "outputs": [
    {
     "ename": "ValueError",
     "evalue": "Input X contains NaN.\nPCA does not accept missing values encoded as NaN natively. For supervised learning, you might want to consider sklearn.ensemble.HistGradientBoostingClassifier and Regressor which accept missing values encoded as NaNs natively. Alternatively, it is possible to preprocess the data, for instance by using an imputer transformer in a pipeline or drop samples with missing values. See https://scikit-learn.org/stable/modules/impute.html You can find a list of all estimators that handle NaN values at the following page: https://scikit-learn.org/stable/modules/impute.html#estimators-that-handle-nan-values",
     "output_type": "error",
     "traceback": [
      "\u001b[31m---------------------------------------------------------------------------\u001b[39m",
      "\u001b[31mValueError\u001b[39m                                Traceback (most recent call last)",
      "\u001b[36mCell\u001b[39m\u001b[36m \u001b[39m\u001b[32mIn[10]\u001b[39m\u001b[32m, line 2\u001b[39m\n\u001b[32m      1\u001b[39m pca = PCA(n_components=\u001b[32m2\u001b[39m)\n\u001b[32m----> \u001b[39m\u001b[32m2\u001b[39m X_pca = \u001b[43mpca\u001b[49m\u001b[43m.\u001b[49m\u001b[43mfit_transform\u001b[49m\u001b[43m(\u001b[49m\u001b[43mstocks\u001b[49m\u001b[43m[\u001b[49m\u001b[43mnum_features\u001b[49m\u001b[43m]\u001b[49m\u001b[43m)\u001b[49m\n\u001b[32m      3\u001b[39m stocks[\u001b[33m'\u001b[39m\u001b[33mPCA1\u001b[39m\u001b[33m'\u001b[39m] = X_pca[:, \u001b[32m0\u001b[39m]\n\u001b[32m      4\u001b[39m stocks[\u001b[33m'\u001b[39m\u001b[33mPCA2\u001b[39m\u001b[33m'\u001b[39m] = X_pca[:, \u001b[32m1\u001b[39m]\n",
      "\u001b[36mFile \u001b[39m\u001b[32m~\\AppData\\Local\\Packages\\PythonSoftwareFoundation.Python.3.12_qbz5n2kfra8p0\\LocalCache\\local-packages\\Python312\\site-packages\\sklearn\\utils\\_set_output.py:319\u001b[39m, in \u001b[36m_wrap_method_output.<locals>.wrapped\u001b[39m\u001b[34m(self, X, *args, **kwargs)\u001b[39m\n\u001b[32m    317\u001b[39m \u001b[38;5;129m@wraps\u001b[39m(f)\n\u001b[32m    318\u001b[39m \u001b[38;5;28;01mdef\u001b[39;00m\u001b[38;5;250m \u001b[39m\u001b[34mwrapped\u001b[39m(\u001b[38;5;28mself\u001b[39m, X, *args, **kwargs):\n\u001b[32m--> \u001b[39m\u001b[32m319\u001b[39m     data_to_wrap = \u001b[43mf\u001b[49m\u001b[43m(\u001b[49m\u001b[38;5;28;43mself\u001b[39;49m\u001b[43m,\u001b[49m\u001b[43m \u001b[49m\u001b[43mX\u001b[49m\u001b[43m,\u001b[49m\u001b[43m \u001b[49m\u001b[43m*\u001b[49m\u001b[43margs\u001b[49m\u001b[43m,\u001b[49m\u001b[43m \u001b[49m\u001b[43m*\u001b[49m\u001b[43m*\u001b[49m\u001b[43mkwargs\u001b[49m\u001b[43m)\u001b[49m\n\u001b[32m    320\u001b[39m     \u001b[38;5;28;01mif\u001b[39;00m \u001b[38;5;28misinstance\u001b[39m(data_to_wrap, \u001b[38;5;28mtuple\u001b[39m):\n\u001b[32m    321\u001b[39m         \u001b[38;5;66;03m# only wrap the first output for cross decomposition\u001b[39;00m\n\u001b[32m    322\u001b[39m         return_tuple = (\n\u001b[32m    323\u001b[39m             _wrap_data_with_container(method, data_to_wrap[\u001b[32m0\u001b[39m], X, \u001b[38;5;28mself\u001b[39m),\n\u001b[32m    324\u001b[39m             *data_to_wrap[\u001b[32m1\u001b[39m:],\n\u001b[32m    325\u001b[39m         )\n",
      "\u001b[36mFile \u001b[39m\u001b[32m~\\AppData\\Local\\Packages\\PythonSoftwareFoundation.Python.3.12_qbz5n2kfra8p0\\LocalCache\\local-packages\\Python312\\site-packages\\sklearn\\base.py:1389\u001b[39m, in \u001b[36m_fit_context.<locals>.decorator.<locals>.wrapper\u001b[39m\u001b[34m(estimator, *args, **kwargs)\u001b[39m\n\u001b[32m   1382\u001b[39m     estimator._validate_params()\n\u001b[32m   1384\u001b[39m \u001b[38;5;28;01mwith\u001b[39;00m config_context(\n\u001b[32m   1385\u001b[39m     skip_parameter_validation=(\n\u001b[32m   1386\u001b[39m         prefer_skip_nested_validation \u001b[38;5;129;01mor\u001b[39;00m global_skip_validation\n\u001b[32m   1387\u001b[39m     )\n\u001b[32m   1388\u001b[39m ):\n\u001b[32m-> \u001b[39m\u001b[32m1389\u001b[39m     \u001b[38;5;28;01mreturn\u001b[39;00m \u001b[43mfit_method\u001b[49m\u001b[43m(\u001b[49m\u001b[43mestimator\u001b[49m\u001b[43m,\u001b[49m\u001b[43m \u001b[49m\u001b[43m*\u001b[49m\u001b[43margs\u001b[49m\u001b[43m,\u001b[49m\u001b[43m \u001b[49m\u001b[43m*\u001b[49m\u001b[43m*\u001b[49m\u001b[43mkwargs\u001b[49m\u001b[43m)\u001b[49m\n",
      "\u001b[36mFile \u001b[39m\u001b[32m~\\AppData\\Local\\Packages\\PythonSoftwareFoundation.Python.3.12_qbz5n2kfra8p0\\LocalCache\\local-packages\\Python312\\site-packages\\sklearn\\decomposition\\_pca.py:468\u001b[39m, in \u001b[36mPCA.fit_transform\u001b[39m\u001b[34m(self, X, y)\u001b[39m\n\u001b[32m    445\u001b[39m \u001b[38;5;129m@_fit_context\u001b[39m(prefer_skip_nested_validation=\u001b[38;5;28;01mTrue\u001b[39;00m)\n\u001b[32m    446\u001b[39m \u001b[38;5;28;01mdef\u001b[39;00m\u001b[38;5;250m \u001b[39m\u001b[34mfit_transform\u001b[39m(\u001b[38;5;28mself\u001b[39m, X, y=\u001b[38;5;28;01mNone\u001b[39;00m):\n\u001b[32m    447\u001b[39m \u001b[38;5;250m    \u001b[39m\u001b[33;03m\"\"\"Fit the model with X and apply the dimensionality reduction on X.\u001b[39;00m\n\u001b[32m    448\u001b[39m \n\u001b[32m    449\u001b[39m \u001b[33;03m    Parameters\u001b[39;00m\n\u001b[32m   (...)\u001b[39m\u001b[32m    466\u001b[39m \u001b[33;03m    C-ordered array, use 'np.ascontiguousarray'.\u001b[39;00m\n\u001b[32m    467\u001b[39m \u001b[33;03m    \"\"\"\u001b[39;00m\n\u001b[32m--> \u001b[39m\u001b[32m468\u001b[39m     U, S, _, X, x_is_centered, xp = \u001b[38;5;28;43mself\u001b[39;49m\u001b[43m.\u001b[49m\u001b[43m_fit\u001b[49m\u001b[43m(\u001b[49m\u001b[43mX\u001b[49m\u001b[43m)\u001b[49m\n\u001b[32m    469\u001b[39m     \u001b[38;5;28;01mif\u001b[39;00m U \u001b[38;5;129;01mis\u001b[39;00m \u001b[38;5;129;01mnot\u001b[39;00m \u001b[38;5;28;01mNone\u001b[39;00m:\n\u001b[32m    470\u001b[39m         U = U[:, : \u001b[38;5;28mself\u001b[39m.n_components_]\n",
      "\u001b[36mFile \u001b[39m\u001b[32m~\\AppData\\Local\\Packages\\PythonSoftwareFoundation.Python.3.12_qbz5n2kfra8p0\\LocalCache\\local-packages\\Python312\\site-packages\\sklearn\\decomposition\\_pca.py:505\u001b[39m, in \u001b[36mPCA._fit\u001b[39m\u001b[34m(self, X)\u001b[39m\n\u001b[32m    495\u001b[39m     \u001b[38;5;28;01mraise\u001b[39;00m \u001b[38;5;167;01mValueError\u001b[39;00m(\n\u001b[32m    496\u001b[39m         \u001b[33m\"\u001b[39m\u001b[33mPCA with svd_solver=\u001b[39m\u001b[33m'\u001b[39m\u001b[33marpack\u001b[39m\u001b[33m'\u001b[39m\u001b[33m is not supported for Array API inputs.\u001b[39m\u001b[33m\"\u001b[39m\n\u001b[32m    497\u001b[39m     )\n\u001b[32m    499\u001b[39m \u001b[38;5;66;03m# Validate the data, without ever forcing a copy as any solver that\u001b[39;00m\n\u001b[32m    500\u001b[39m \u001b[38;5;66;03m# supports sparse input data and the `covariance_eigh` solver are\u001b[39;00m\n\u001b[32m    501\u001b[39m \u001b[38;5;66;03m# written in a way to avoid the need for any inplace modification of\u001b[39;00m\n\u001b[32m    502\u001b[39m \u001b[38;5;66;03m# the input data contrary to the other solvers.\u001b[39;00m\n\u001b[32m    503\u001b[39m \u001b[38;5;66;03m# The copy will happen\u001b[39;00m\n\u001b[32m    504\u001b[39m \u001b[38;5;66;03m# later, only if needed, once the solver negotiation below is done.\u001b[39;00m\n\u001b[32m--> \u001b[39m\u001b[32m505\u001b[39m X = \u001b[43mvalidate_data\u001b[49m\u001b[43m(\u001b[49m\n\u001b[32m    506\u001b[39m \u001b[43m    \u001b[49m\u001b[38;5;28;43mself\u001b[39;49m\u001b[43m,\u001b[49m\n\u001b[32m    507\u001b[39m \u001b[43m    \u001b[49m\u001b[43mX\u001b[49m\u001b[43m,\u001b[49m\n\u001b[32m    508\u001b[39m \u001b[43m    \u001b[49m\u001b[43mdtype\u001b[49m\u001b[43m=\u001b[49m\u001b[43m[\u001b[49m\u001b[43mxp\u001b[49m\u001b[43m.\u001b[49m\u001b[43mfloat64\u001b[49m\u001b[43m,\u001b[49m\u001b[43m \u001b[49m\u001b[43mxp\u001b[49m\u001b[43m.\u001b[49m\u001b[43mfloat32\u001b[49m\u001b[43m]\u001b[49m\u001b[43m,\u001b[49m\n\u001b[32m    509\u001b[39m \u001b[43m    \u001b[49m\u001b[43mforce_writeable\u001b[49m\u001b[43m=\u001b[49m\u001b[38;5;28;43;01mTrue\u001b[39;49;00m\u001b[43m,\u001b[49m\n\u001b[32m    510\u001b[39m \u001b[43m    \u001b[49m\u001b[43maccept_sparse\u001b[49m\u001b[43m=\u001b[49m\u001b[43m(\u001b[49m\u001b[33;43m\"\u001b[39;49m\u001b[33;43mcsr\u001b[39;49m\u001b[33;43m\"\u001b[39;49m\u001b[43m,\u001b[49m\u001b[43m \u001b[49m\u001b[33;43m\"\u001b[39;49m\u001b[33;43mcsc\u001b[39;49m\u001b[33;43m\"\u001b[39;49m\u001b[43m)\u001b[49m\u001b[43m,\u001b[49m\n\u001b[32m    511\u001b[39m \u001b[43m    \u001b[49m\u001b[43mensure_2d\u001b[49m\u001b[43m=\u001b[49m\u001b[38;5;28;43;01mTrue\u001b[39;49;00m\u001b[43m,\u001b[49m\n\u001b[32m    512\u001b[39m \u001b[43m    \u001b[49m\u001b[43mcopy\u001b[49m\u001b[43m=\u001b[49m\u001b[38;5;28;43;01mFalse\u001b[39;49;00m\u001b[43m,\u001b[49m\n\u001b[32m    513\u001b[39m \u001b[43m\u001b[49m\u001b[43m)\u001b[49m\n\u001b[32m    514\u001b[39m \u001b[38;5;28mself\u001b[39m._fit_svd_solver = \u001b[38;5;28mself\u001b[39m.svd_solver\n\u001b[32m    515\u001b[39m \u001b[38;5;28;01mif\u001b[39;00m \u001b[38;5;28mself\u001b[39m._fit_svd_solver == \u001b[33m\"\u001b[39m\u001b[33mauto\u001b[39m\u001b[33m\"\u001b[39m \u001b[38;5;129;01mand\u001b[39;00m issparse(X):\n",
      "\u001b[36mFile \u001b[39m\u001b[32m~\\AppData\\Local\\Packages\\PythonSoftwareFoundation.Python.3.12_qbz5n2kfra8p0\\LocalCache\\local-packages\\Python312\\site-packages\\sklearn\\utils\\validation.py:2944\u001b[39m, in \u001b[36mvalidate_data\u001b[39m\u001b[34m(_estimator, X, y, reset, validate_separately, skip_check_array, **check_params)\u001b[39m\n\u001b[32m   2942\u001b[39m         out = X, y\n\u001b[32m   2943\u001b[39m \u001b[38;5;28;01melif\u001b[39;00m \u001b[38;5;129;01mnot\u001b[39;00m no_val_X \u001b[38;5;129;01mand\u001b[39;00m no_val_y:\n\u001b[32m-> \u001b[39m\u001b[32m2944\u001b[39m     out = \u001b[43mcheck_array\u001b[49m\u001b[43m(\u001b[49m\u001b[43mX\u001b[49m\u001b[43m,\u001b[49m\u001b[43m \u001b[49m\u001b[43minput_name\u001b[49m\u001b[43m=\u001b[49m\u001b[33;43m\"\u001b[39;49m\u001b[33;43mX\u001b[39;49m\u001b[33;43m\"\u001b[39;49m\u001b[43m,\u001b[49m\u001b[43m \u001b[49m\u001b[43m*\u001b[49m\u001b[43m*\u001b[49m\u001b[43mcheck_params\u001b[49m\u001b[43m)\u001b[49m\n\u001b[32m   2945\u001b[39m \u001b[38;5;28;01melif\u001b[39;00m no_val_X \u001b[38;5;129;01mand\u001b[39;00m \u001b[38;5;129;01mnot\u001b[39;00m no_val_y:\n\u001b[32m   2946\u001b[39m     out = _check_y(y, **check_params)\n",
      "\u001b[36mFile \u001b[39m\u001b[32m~\\AppData\\Local\\Packages\\PythonSoftwareFoundation.Python.3.12_qbz5n2kfra8p0\\LocalCache\\local-packages\\Python312\\site-packages\\sklearn\\utils\\validation.py:1107\u001b[39m, in \u001b[36mcheck_array\u001b[39m\u001b[34m(array, accept_sparse, accept_large_sparse, dtype, order, copy, force_writeable, force_all_finite, ensure_all_finite, ensure_non_negative, ensure_2d, allow_nd, ensure_min_samples, ensure_min_features, estimator, input_name)\u001b[39m\n\u001b[32m   1101\u001b[39m     \u001b[38;5;28;01mraise\u001b[39;00m \u001b[38;5;167;01mValueError\u001b[39;00m(\n\u001b[32m   1102\u001b[39m         \u001b[33m\"\u001b[39m\u001b[33mFound array with dim \u001b[39m\u001b[38;5;132;01m%d\u001b[39;00m\u001b[33m. \u001b[39m\u001b[38;5;132;01m%s\u001b[39;00m\u001b[33m expected <= 2.\u001b[39m\u001b[33m\"\u001b[39m\n\u001b[32m   1103\u001b[39m         % (array.ndim, estimator_name)\n\u001b[32m   1104\u001b[39m     )\n\u001b[32m   1106\u001b[39m \u001b[38;5;28;01mif\u001b[39;00m ensure_all_finite:\n\u001b[32m-> \u001b[39m\u001b[32m1107\u001b[39m     \u001b[43m_assert_all_finite\u001b[49m\u001b[43m(\u001b[49m\n\u001b[32m   1108\u001b[39m \u001b[43m        \u001b[49m\u001b[43marray\u001b[49m\u001b[43m,\u001b[49m\n\u001b[32m   1109\u001b[39m \u001b[43m        \u001b[49m\u001b[43minput_name\u001b[49m\u001b[43m=\u001b[49m\u001b[43minput_name\u001b[49m\u001b[43m,\u001b[49m\n\u001b[32m   1110\u001b[39m \u001b[43m        \u001b[49m\u001b[43mestimator_name\u001b[49m\u001b[43m=\u001b[49m\u001b[43mestimator_name\u001b[49m\u001b[43m,\u001b[49m\n\u001b[32m   1111\u001b[39m \u001b[43m        \u001b[49m\u001b[43mallow_nan\u001b[49m\u001b[43m=\u001b[49m\u001b[43mensure_all_finite\u001b[49m\u001b[43m \u001b[49m\u001b[43m==\u001b[49m\u001b[43m \u001b[49m\u001b[33;43m\"\u001b[39;49m\u001b[33;43mallow-nan\u001b[39;49m\u001b[33;43m\"\u001b[39;49m\u001b[43m,\u001b[49m\n\u001b[32m   1112\u001b[39m \u001b[43m    \u001b[49m\u001b[43m)\u001b[49m\n\u001b[32m   1114\u001b[39m \u001b[38;5;28;01mif\u001b[39;00m copy:\n\u001b[32m   1115\u001b[39m     \u001b[38;5;28;01mif\u001b[39;00m _is_numpy_namespace(xp):\n\u001b[32m   1116\u001b[39m         \u001b[38;5;66;03m# only make a copy if `array` and `array_orig` may share memory`\u001b[39;00m\n",
      "\u001b[36mFile \u001b[39m\u001b[32m~\\AppData\\Local\\Packages\\PythonSoftwareFoundation.Python.3.12_qbz5n2kfra8p0\\LocalCache\\local-packages\\Python312\\site-packages\\sklearn\\utils\\validation.py:120\u001b[39m, in \u001b[36m_assert_all_finite\u001b[39m\u001b[34m(X, allow_nan, msg_dtype, estimator_name, input_name)\u001b[39m\n\u001b[32m    117\u001b[39m \u001b[38;5;28;01mif\u001b[39;00m first_pass_isfinite:\n\u001b[32m    118\u001b[39m     \u001b[38;5;28;01mreturn\u001b[39;00m\n\u001b[32m--> \u001b[39m\u001b[32m120\u001b[39m \u001b[43m_assert_all_finite_element_wise\u001b[49m\u001b[43m(\u001b[49m\n\u001b[32m    121\u001b[39m \u001b[43m    \u001b[49m\u001b[43mX\u001b[49m\u001b[43m,\u001b[49m\n\u001b[32m    122\u001b[39m \u001b[43m    \u001b[49m\u001b[43mxp\u001b[49m\u001b[43m=\u001b[49m\u001b[43mxp\u001b[49m\u001b[43m,\u001b[49m\n\u001b[32m    123\u001b[39m \u001b[43m    \u001b[49m\u001b[43mallow_nan\u001b[49m\u001b[43m=\u001b[49m\u001b[43mallow_nan\u001b[49m\u001b[43m,\u001b[49m\n\u001b[32m    124\u001b[39m \u001b[43m    \u001b[49m\u001b[43mmsg_dtype\u001b[49m\u001b[43m=\u001b[49m\u001b[43mmsg_dtype\u001b[49m\u001b[43m,\u001b[49m\n\u001b[32m    125\u001b[39m \u001b[43m    \u001b[49m\u001b[43mestimator_name\u001b[49m\u001b[43m=\u001b[49m\u001b[43mestimator_name\u001b[49m\u001b[43m,\u001b[49m\n\u001b[32m    126\u001b[39m \u001b[43m    \u001b[49m\u001b[43minput_name\u001b[49m\u001b[43m=\u001b[49m\u001b[43minput_name\u001b[49m\u001b[43m,\u001b[49m\n\u001b[32m    127\u001b[39m \u001b[43m\u001b[49m\u001b[43m)\u001b[49m\n",
      "\u001b[36mFile \u001b[39m\u001b[32m~\\AppData\\Local\\Packages\\PythonSoftwareFoundation.Python.3.12_qbz5n2kfra8p0\\LocalCache\\local-packages\\Python312\\site-packages\\sklearn\\utils\\validation.py:169\u001b[39m, in \u001b[36m_assert_all_finite_element_wise\u001b[39m\u001b[34m(X, xp, allow_nan, msg_dtype, estimator_name, input_name)\u001b[39m\n\u001b[32m    152\u001b[39m \u001b[38;5;28;01mif\u001b[39;00m estimator_name \u001b[38;5;129;01mand\u001b[39;00m input_name == \u001b[33m\"\u001b[39m\u001b[33mX\u001b[39m\u001b[33m\"\u001b[39m \u001b[38;5;129;01mand\u001b[39;00m has_nan_error:\n\u001b[32m    153\u001b[39m     \u001b[38;5;66;03m# Improve the error message on how to handle missing values in\u001b[39;00m\n\u001b[32m    154\u001b[39m     \u001b[38;5;66;03m# scikit-learn.\u001b[39;00m\n\u001b[32m    155\u001b[39m     msg_err += (\n\u001b[32m    156\u001b[39m         \u001b[33mf\u001b[39m\u001b[33m\"\u001b[39m\u001b[38;5;130;01m\\n\u001b[39;00m\u001b[38;5;132;01m{\u001b[39;00mestimator_name\u001b[38;5;132;01m}\u001b[39;00m\u001b[33m does not accept missing values\u001b[39m\u001b[33m\"\u001b[39m\n\u001b[32m    157\u001b[39m         \u001b[33m\"\u001b[39m\u001b[33m encoded as NaN natively. For supervised learning, you might want\u001b[39m\u001b[33m\"\u001b[39m\n\u001b[32m   (...)\u001b[39m\u001b[32m    167\u001b[39m         \u001b[33m\"\u001b[39m\u001b[33m#estimators-that-handle-nan-values\u001b[39m\u001b[33m\"\u001b[39m\n\u001b[32m    168\u001b[39m     )\n\u001b[32m--> \u001b[39m\u001b[32m169\u001b[39m \u001b[38;5;28;01mraise\u001b[39;00m \u001b[38;5;167;01mValueError\u001b[39;00m(msg_err)\n",
      "\u001b[31mValueError\u001b[39m: Input X contains NaN.\nPCA does not accept missing values encoded as NaN natively. For supervised learning, you might want to consider sklearn.ensemble.HistGradientBoostingClassifier and Regressor which accept missing values encoded as NaNs natively. Alternatively, it is possible to preprocess the data, for instance by using an imputer transformer in a pipeline or drop samples with missing values. See https://scikit-learn.org/stable/modules/impute.html You can find a list of all estimators that handle NaN values at the following page: https://scikit-learn.org/stable/modules/impute.html#estimators-that-handle-nan-values"
     ]
    }
   ],
   "source": [
    "pca = PCA(n_components=2)\n",
    "X_pca = pca.fit_transform(stocks[num_features])\n",
    "stocks['PCA1'] = X_pca[:, 0]\n",
    "stocks['PCA2'] = X_pca[:, 1]\n",
    "\n",
    "# Plot PCA Visualization using 'optimal_cluster' \n",
    "plt.figure(figsize=(10, 6))\n",
    "sns.scatterplot(\n",
    "    data=stocks,\n",
    "    x='PCA1',\n",
    "    y='PCA2',\n",
    "    hue='optimal_cluster',\n",
    "    palette='Set1',\n",
    "    s=100,\n",
    "    alpha=0.8\n",
    ")\n",
    "\n",
    "plt.title('PCA Scatter Plot of Stock Clusters (k=5)')\n",
    "plt.xlabel('PCA1')\n",
    "plt.ylabel('PCA2')\n",
    "plt.legend(title='Cluster')\n",
    "plt.grid(True)\n",
    "plt.tight_layout()\n",
    "plt.show()"
   ]
  },
  {
   "cell_type": "code",
   "execution_count": null,
   "metadata": {},
   "outputs": [
    {
     "data": {
      "image/png": "[encoded data removed]",
      "text/plain": [
       "<Figure size 1000x600 with 1 Axes>"
      ]
     },
     "metadata": {},
     "output_type": "display_data"
    }
   ],
   "source": [
    "# Plot the mean values of each feature for each cluster\n",
    "plt.figure(figsize=(10, 6))\n",
    "for i in range(5):\n",
    "    plt.plot(num_features, cluster_summary.loc[i, num_features], marker='o', label=f'Cluster {i}')\n",
    "plt.title('Line Chart Comparing All Clusters')\n",
    "plt.xlabel('Features')\n",
    "plt.ylabel('Standardized Value (Z-score)')\n",
    "plt.legend()\n",
    "plt.grid(True)\n",
    "plt.xticks(rotation=45)\n",
    "plt.tight_layout()\n",
    "plt.show()"
   ]
  },
  {
   "cell_type": "markdown",
   "metadata": {},
   "source": [
    "Cluster by Cluster Interpretation  \n",
    "  \n",
    "**Cluster 0:** Steady Performers with Above average on all parameters  \n",
    "**Cluster 1**: Market Giants with way above average performance on all parameters - Amazon, Nvidia, Google stocks fall  here.  \n",
    "**Cluster 2**: Over valued stocks with weak foundation on paramters such as volume, market, Ebitda and weight and above average in current price with slightly above average revenue growth  \n",
    "**Cluster 3**: Low value, Low growth stocks with weak fundamentals and growth - Penny stocks mostly fall here  \n",
    "**Cluster 4**: Average/Neutral performers - above average volume and slightly above average Revenue growth. weak in other paramters.  "
   ]
  },
  {
   "cell_type": "code",
   "execution_count": null,
   "metadata": {},
   "outputs": [
    {
     "data": {
      "application/vnd.microsoft.datawrangler.viewer.v0+json": {
       "columns": [
        {
         "name": "index",
         "rawType": "int64",
         "type": "integer"
        },
        {
         "name": "Symbol",
         "rawType": "object",
         "type": "string"
        },
        {
         "name": "Sector",
         "rawType": "object",
         "type": "string"
        }
       ],
       "ref": "ad2c3d48-2b18-4067-ac7f-60357519d7a0",
       "rows": [
        [
         "24725",
         "GOOG",
         "Communication Services"
        ],
        [
         "32251",
         "AMZN",
         "Consumer Cyclical"
        ],
        [
         "32628",
         "AMZN",
         "Consumer Cyclical"
        ],
        [
         "27293",
         "GOOG",
         "Communication Services"
        ],
        [
         "411983",
         "NVDA",
         "Technology"
        ],
        [
         "35656",
         "AMZN",
         "Consumer Cyclical"
        ],
        [
         "27665",
         "GOOG",
         "Communication Services"
        ],
        [
         "34080",
         "AMZN",
         "Consumer Cyclical"
        ],
        [
         "33595",
         "AMZN",
         "Consumer Cyclical"
        ],
        [
         "34207",
         "AMZN",
         "Consumer Cyclical"
        ],
        [
         "392587",
         "MSFT",
         "Technology"
        ],
        [
         "35426",
         "AMZN",
         "Consumer Cyclical"
        ],
        [
         "413514",
         "NVDA",
         "Technology"
        ],
        [
         "35013",
         "AMZN",
         "Consumer Cyclical"
        ],
        [
         "393127",
         "MSFT",
         "Technology"
        ],
        [
         "33569",
         "AMZN",
         "Consumer Cyclical"
        ],
        [
         "35089",
         "AMZN",
         "Consumer Cyclical"
        ],
        [
         "25349",
         "GOOG",
         "Communication Services"
        ],
        [
         "25306",
         "GOOG",
         "Communication Services"
        ],
        [
         "24827",
         "GOOG",
         "Communication Services"
        ],
        [
         "34673",
         "AMZN",
         "Consumer Cyclical"
        ],
        [
         "387652",
         "META",
         "Communication Services"
        ],
        [
         "391773",
         "MSFT",
         "Technology"
        ],
        [
         "387734",
         "META",
         "Communication Services"
        ],
        [
         "411578",
         "NVDA",
         "Technology"
        ],
        [
         "34933",
         "AMZN",
         "Consumer Cyclical"
        ],
        [
         "393935",
         "MSFT",
         "Technology"
        ],
        [
         "387321",
         "META",
         "Communication Services"
        ],
        [
         "35798",
         "AMZN",
         "Consumer Cyclical"
        ],
        [
         "387314",
         "META",
         "Communication Services"
        ],
        [
         "394435",
         "MSFT",
         "Technology"
        ],
        [
         "394810",
         "MSFT",
         "Technology"
        ],
        [
         "33445",
         "AMZN",
         "Consumer Cyclical"
        ],
        [
         "33102",
         "AMZN",
         "Consumer Cyclical"
        ],
        [
         "393717",
         "MSFT",
         "Technology"
        ],
        [
         "385844",
         "META",
         "Communication Services"
        ],
        [
         "27967",
         "GOOG",
         "Communication Services"
        ],
        [
         "27067",
         "GOOG",
         "Communication Services"
        ],
        [
         "28007",
         "GOOG",
         "Communication Services"
        ],
        [
         "26818",
         "GOOG",
         "Communication Services"
        ],
        [
         "392203",
         "MSFT",
         "Technology"
        ],
        [
         "25596",
         "GOOG",
         "Communication Services"
        ],
        [
         "411085",
         "NVDA",
         "Technology"
        ],
        [
         "412421",
         "NVDA",
         "Technology"
        ],
        [
         "33224",
         "AMZN",
         "Consumer Cyclical"
        ],
        [
         "385496",
         "META",
         "Communication Services"
        ],
        [
         "392952",
         "MSFT",
         "Technology"
        ],
        [
         "393126",
         "MSFT",
         "Technology"
        ],
        [
         "32277",
         "AMZN",
         "Consumer Cyclical"
        ],
        [
         "386016",
         "META",
         "Communication Services"
        ]
       ],
       "shape": {
        "columns": 2,
        "rows": 14503
       }
      },
      "text/html": [
       "<div>\n",
       "<style scoped>\n",
       "    .dataframe tbody tr th:only-of-type {\n",
       "        vertical-align: middle;\n",
       "    }\n",
       "\n",
       "    .dataframe tbody tr th {\n",
       "        vertical-align: top;\n",
       "    }\n",
       "\n",
       "    .dataframe thead th {\n",
       "        text-align: right;\n",
       "    }\n",
       "</style>\n",
       "<table border=\"1\" class=\"dataframe\">\n",
       "  <thead>\n",
       "    <tr style=\"text-align: right;\">\n",
       "      <th></th>\n",
       "      <th>Symbol</th>\n",
       "      <th>Sector</th>\n",
       "    </tr>\n",
       "  </thead>\n",
       "  <tbody>\n",
       "    <tr>\n",
       "      <th>24725</th>\n",
       "      <td>GOOG</td>\n",
       "      <td>Communication Services</td>\n",
       "    </tr>\n",
       "    <tr>\n",
       "      <th>32251</th>\n",
       "      <td>AMZN</td>\n",
       "      <td>Consumer Cyclical</td>\n",
       "    </tr>\n",
       "    <tr>\n",
       "      <th>32628</th>\n",
       "      <td>AMZN</td>\n",
       "      <td>Consumer Cyclical</td>\n",
       "    </tr>\n",
       "    <tr>\n",
       "      <th>27293</th>\n",
       "      <td>GOOG</td>\n",
       "      <td>Communication Services</td>\n",
       "    </tr>\n",
       "    <tr>\n",
       "      <th>411983</th>\n",
       "      <td>NVDA</td>\n",
       "      <td>Technology</td>\n",
       "    </tr>\n",
       "    <tr>\n",
       "      <th>...</th>\n",
       "      <td>...</td>\n",
       "      <td>...</td>\n",
       "    </tr>\n",
       "    <tr>\n",
       "      <th>394070</th>\n",
       "      <td>MSFT</td>\n",
       "      <td>Technology</td>\n",
       "    </tr>\n",
       "    <tr>\n",
       "      <th>387261</th>\n",
       "      <td>META</td>\n",
       "      <td>Communication Services</td>\n",
       "    </tr>\n",
       "    <tr>\n",
       "      <th>25939</th>\n",
       "      <td>GOOG</td>\n",
       "      <td>Communication Services</td>\n",
       "    </tr>\n",
       "    <tr>\n",
       "      <th>411357</th>\n",
       "      <td>NVDA</td>\n",
       "      <td>Technology</td>\n",
       "    </tr>\n",
       "    <tr>\n",
       "      <th>384681</th>\n",
       "      <td>META</td>\n",
       "      <td>Communication Services</td>\n",
       "    </tr>\n",
       "  </tbody>\n",
       "</table>\n",
       "<p>14503 rows × 2 columns</p>\n",
       "</div>"
      ],
      "text/plain": [
       "       Symbol                  Sector\n",
       "24725    GOOG  Communication Services\n",
       "32251    AMZN       Consumer Cyclical\n",
       "32628    AMZN       Consumer Cyclical\n",
       "27293    GOOG  Communication Services\n",
       "411983   NVDA              Technology\n",
       "...       ...                     ...\n",
       "394070   MSFT              Technology\n",
       "387261   META  Communication Services\n",
       "25939    GOOG  Communication Services\n",
       "411357   NVDA              Technology\n",
       "384681   META  Communication Services\n",
       "\n",
       "[14503 rows x 2 columns]"
      ]
     },
     "execution_count": 67,
     "metadata": {},
     "output_type": "execute_result"
    }
   ],
   "source": [
    "# High growth stocks\n",
    "stocks[stocks['optimal_cluster'] == 1][['Symbol', 'Sector']]"
   ]
  },
  {
   "cell_type": "code",
   "execution_count": null,
   "metadata": {},
   "outputs": [
    {
     "data": {
      "application/vnd.microsoft.datawrangler.viewer.v0+json": {
       "columns": [
        {
         "name": "index",
         "rawType": "int64",
         "type": "integer"
        },
        {
         "name": "Symbol",
         "rawType": "object",
         "type": "string"
        },
        {
         "name": "Sector",
         "rawType": "object",
         "type": "string"
        }
       ],
       "ref": "af0d6663-3c64-4470-8b24-a06b8ac31487",
       "rows": [
        [
         "17737",
         "ALB",
         "Basic Materials"
        ],
        [
         "594959",
         "WEC",
         "Utilities"
        ],
        [
         "417670",
         "OMC",
         "Communication Services"
        ],
        [
         "349470",
         "JBHT",
         "Industrials"
        ],
        [
         "494",
         "AOS",
         "Industrials"
        ],
        [
         "193225",
         "DTE",
         "Utilities"
        ],
        [
         "352418",
         "JCI",
         "Industrials"
        ],
        [
         "119242",
         "CE",
         "Basic Materials"
        ],
        [
         "466455",
         "PFG",
         "Financial Services"
        ],
        [
         "18280",
         "ALLE",
         "Industrials"
        ],
        [
         "2171",
         "AOS",
         "Industrials"
        ],
        [
         "457783",
         "PPG",
         "Basic Materials"
        ],
        [
         "356124",
         "K",
         "Consumer Defensive"
        ],
        [
         "465069",
         "PFG",
         "Financial Services"
        ],
        [
         "147728",
         "ED",
         "Utilities"
        ],
        [
         "291588",
         "HSIC",
         "Healthcare"
        ],
        [
         "544878",
         "TSN",
         "Consumer Defensive"
        ],
        [
         "565674",
         "VLO",
         "Energy"
        ],
        [
         "308200",
         "HII",
         "Industrials"
        ],
        [
         "617006",
         "XYL",
         "Industrials"
        ],
        [
         "348081",
         "JBHT",
         "Industrials"
        ],
        [
         "319009",
         "IR",
         "Industrials"
        ],
        [
         "376389",
         "LKQ",
         "Consumer Cyclical"
        ],
        [
         "327648",
         "IFF",
         "Basic Materials"
        ],
        [
         "229972",
         "EL",
         "Consumer Defensive"
        ],
        [
         "457036",
         "PPG",
         "Basic Materials"
        ],
        [
         "120910",
         "CE",
         "Basic Materials"
        ],
        [
         "500467",
         "RVTY",
         "Healthcare"
        ],
        [
         "352393",
         "JCI",
         "Industrials"
        ],
        [
         "3756",
         "AOS",
         "Industrials"
        ],
        [
         "594907",
         "WEC",
         "Utilities"
        ],
        [
         "230665",
         "EL",
         "Consumer Defensive"
        ],
        [
         "98989",
         "BLDR",
         "Industrials"
        ],
        [
         "632",
         "AOS",
         "Industrials"
        ],
        [
         "198720",
         "EMN",
         "Basic Materials"
        ],
        [
         "418212",
         "ON",
         "Technology"
        ],
        [
         "330350",
         "IFF",
         "Basic Materials"
        ],
        [
         "250416",
         "FRT",
         "Real Estate"
        ],
        [
         "348076",
         "JBHT",
         "Industrials"
        ],
        [
         "457826",
         "PPG",
         "Basic Materials"
        ],
        [
         "209149",
         "ENPH",
         "Technology"
        ],
        [
         "308839",
         "HII",
         "Industrials"
        ],
        [
         "100687",
         "BLDR",
         "Industrials"
        ],
        [
         "308468",
         "HII",
         "Industrials"
        ],
        [
         "500691",
         "RVTY",
         "Healthcare"
        ],
        [
         "121376",
         "CE",
         "Basic Materials"
        ],
        [
         "556395",
         "UAL",
         "Industrials"
        ],
        [
         "327663",
         "IFF",
         "Basic Materials"
        ],
        [
         "54631",
         "ADM",
         "Consumer Defensive"
        ],
        [
         "448833",
         "PNW",
         "Utilities"
        ]
       ],
       "shape": {
        "columns": 2,
        "rows": 102123
       }
      },
      "text/html": [
       "<div>\n",
       "<style scoped>\n",
       "    .dataframe tbody tr th:only-of-type {\n",
       "        vertical-align: middle;\n",
       "    }\n",
       "\n",
       "    .dataframe tbody tr th {\n",
       "        vertical-align: top;\n",
       "    }\n",
       "\n",
       "    .dataframe thead th {\n",
       "        text-align: right;\n",
       "    }\n",
       "</style>\n",
       "<table border=\"1\" class=\"dataframe\">\n",
       "  <thead>\n",
       "    <tr style=\"text-align: right;\">\n",
       "      <th></th>\n",
       "      <th>Symbol</th>\n",
       "      <th>Sector</th>\n",
       "    </tr>\n",
       "  </thead>\n",
       "  <tbody>\n",
       "    <tr>\n",
       "      <th>17737</th>\n",
       "      <td>ALB</td>\n",
       "      <td>Basic Materials</td>\n",
       "    </tr>\n",
       "    <tr>\n",
       "      <th>594959</th>\n",
       "      <td>WEC</td>\n",
       "      <td>Utilities</td>\n",
       "    </tr>\n",
       "    <tr>\n",
       "      <th>417670</th>\n",
       "      <td>OMC</td>\n",
       "      <td>Communication Services</td>\n",
       "    </tr>\n",
       "    <tr>\n",
       "      <th>349470</th>\n",
       "      <td>JBHT</td>\n",
       "      <td>Industrials</td>\n",
       "    </tr>\n",
       "    <tr>\n",
       "      <th>494</th>\n",
       "      <td>AOS</td>\n",
       "      <td>Industrials</td>\n",
       "    </tr>\n",
       "    <tr>\n",
       "      <th>...</th>\n",
       "      <td>...</td>\n",
       "      <td>...</td>\n",
       "    </tr>\n",
       "    <tr>\n",
       "      <th>347449</th>\n",
       "      <td>JBHT</td>\n",
       "      <td>Industrials</td>\n",
       "    </tr>\n",
       "    <tr>\n",
       "      <th>327069</th>\n",
       "      <td>IFF</td>\n",
       "      <td>Basic Materials</td>\n",
       "    </tr>\n",
       "    <tr>\n",
       "      <th>329365</th>\n",
       "      <td>IFF</td>\n",
       "      <td>Basic Materials</td>\n",
       "    </tr>\n",
       "    <tr>\n",
       "      <th>278167</th>\n",
       "      <td>GPN</td>\n",
       "      <td>Industrials</td>\n",
       "    </tr>\n",
       "    <tr>\n",
       "      <th>191335</th>\n",
       "      <td>DHI</td>\n",
       "      <td>Consumer Cyclical</td>\n",
       "    </tr>\n",
       "  </tbody>\n",
       "</table>\n",
       "<p>102123 rows × 2 columns</p>\n",
       "</div>"
      ],
      "text/plain": [
       "       Symbol                  Sector\n",
       "17737     ALB         Basic Materials\n",
       "594959    WEC               Utilities\n",
       "417670    OMC  Communication Services\n",
       "349470   JBHT             Industrials\n",
       "494       AOS             Industrials\n",
       "...       ...                     ...\n",
       "347449   JBHT             Industrials\n",
       "327069    IFF         Basic Materials\n",
       "329365    IFF         Basic Materials\n",
       "278167    GPN             Industrials\n",
       "191335    DHI       Consumer Cyclical\n",
       "\n",
       "[102123 rows x 2 columns]"
      ]
     },
     "execution_count": 68,
     "metadata": {},
     "output_type": "execute_result"
    }
   ],
   "source": [
    "# Penny stocks\n",
    "stocks[stocks['optimal_cluster'] == 3][['Symbol', 'Sector']]"
   ]
  },
  {
   "cell_type": "code",
   "execution_count": null,
   "metadata": {},
   "outputs": [
    {
     "data": {
      "image/png": "[encoded data removed]",
      "text/plain": [
       "<Figure size 1000x600 with 2 Axes>"
      ]
     },
     "metadata": {},
     "output_type": "display_data"
    }
   ],
   "source": [
    "# Heat map of feature averages by cluster\n",
    "plt.figure(figsize=(10, 6))\n",
    "sns.heatmap(cluster_summary[num_features], annot=True, cmap='coolwarm', center=0)\n",
    "plt.title('Heatmap of Feature Averages by Cluster')\n",
    "plt.xlabel('Feature')\n",
    "plt.ylabel('Cluster')\n",
    "plt.tight_layout()\n",
    "plt.show()"
   ]
  },
  {
   "cell_type": "markdown",
   "metadata": {},
   "source": [
    "The heatmap represents the z-scores of each dimension across each cluster.   \n",
    "\n",
    "For instance, among all clusters, Revenue growth is highest for cluster 1. Based on the line chart, cluster 1 has market influencers or high growth stocks like amazon or google. \n",
    "\n",
    "Another instance is the negative scores for all parameters for Cluster 3 which indicates weak foundation across all paramters. "
   ]
  },
  {
   "cell_type": "markdown",
   "metadata": {},
   "source": [
    "## Model Evaluation"
   ]
  },
  {
   "cell_type": "code",
   "execution_count": null,
   "metadata": {},
   "outputs": [
    {
     "data": {
      "application/vnd.microsoft.datawrangler.viewer.v0+json": {
       "columns": [
        {
         "name": "index",
         "rawType": "int64",
         "type": "integer"
        },
        {
         "name": "Date",
         "rawType": "object",
         "type": "string"
        },
        {
         "name": "Symbol",
         "rawType": "object",
         "type": "string"
        },
        {
         "name": "Adj Close",
         "rawType": "float64",
         "type": "float"
        },
        {
         "name": "Close",
         "rawType": "float64",
         "type": "float"
        },
        {
         "name": "High",
         "rawType": "float64",
         "type": "float"
        },
        {
         "name": "Low",
         "rawType": "float64",
         "type": "float"
        },
        {
         "name": "Open",
         "rawType": "float64",
         "type": "float"
        },
        {
         "name": "Volume",
         "rawType": "float64",
         "type": "float"
        },
        {
         "name": "Exchange",
         "rawType": "object",
         "type": "string"
        },
        {
         "name": "Shortname",
         "rawType": "object",
         "type": "string"
        },
        {
         "name": "Longname",
         "rawType": "object",
         "type": "string"
        },
        {
         "name": "Sector",
         "rawType": "object",
         "type": "string"
        },
        {
         "name": "Industry",
         "rawType": "object",
         "type": "string"
        },
        {
         "name": "Currentprice",
         "rawType": "float64",
         "type": "float"
        },
        {
         "name": "Marketcap",
         "rawType": "int64",
         "type": "integer"
        },
        {
         "name": "Ebitda",
         "rawType": "float64",
         "type": "float"
        },
        {
         "name": "Revenuegrowth",
         "rawType": "float64",
         "type": "float"
        },
        {
         "name": "City",
         "rawType": "object",
         "type": "string"
        },
        {
         "name": "State",
         "rawType": "object",
         "type": "string"
        },
        {
         "name": "Country",
         "rawType": "object",
         "type": "string"
        },
        {
         "name": "Fulltimeemployees",
         "rawType": "float64",
         "type": "float"
        },
        {
         "name": "Longbusinesssummary",
         "rawType": "object",
         "type": "string"
        },
        {
         "name": "Weight",
         "rawType": "float64",
         "type": "float"
        }
       ],
       "ref": "82c79b0b-cb15-4c01-a433-4df18fd80215",
       "rows": [
        [
         "426772",
         "2015-02-25",
         "PKG",
         "60.593231201171875",
         "82.0999984741211",
         "82.76000213623047",
         "81.66999816894531",
         "82.63999938964844",
         "585900.0",
         "NYQ",
         "Packaging Corporation of Americ",
         "Packaging Corporation of America",
         "Consumer Cyclical",
         "Packaging & Containers",
         "227.98",
         "20473718784",
         "1624999936.0",
         "0.127",
         "Lake Forest",
         "IL",
         "United States",
         "14900.0",
         "Packaging Corporation of America manufactures and sells containerboard and corrugated packaging products in the United States. The company operates through three segments: Packaging, Paper, and Corporate and Other. The Packaging segment offers various containerboard and corrugated packaging products, such as conventional shipping containers used to protect and transport manufactured goods; multi-color boxes and displays that help to merchandise the packaged product in retail locations; and honeycomb protective packaging products, as well as packaging for meat, fresh fruit and vegetables, processed food, beverages, and other industrial and consumer products. This segment sells its corrugated products through a direct sales and marketing organization, independent brokers, and distribution partners. The Paper segment manufactures and sells commodity and specialty papers, as well as communication papers, including cut-size office papers, and printing and converting papers. This segment sells white papers through its sales and marketing organization. The Corporate and Other segment includes corporate support staff services and related assets and liabilities; and transportation assets, such as rail cars and trucks for transportation. Packaging Corporation of America was founded in 1867 and is headquartered in Lake Forest, Illinois.",
         "0.0003683480888982"
        ],
        [
         "456261",
         "2012-07-17",
         "PPG",
         "42.51415252685547",
         "52.064998626708984",
         "52.15999984741211",
         "50.959999084472656",
         "51.29499816894531",
         "1810400.0",
         "NYQ",
         "PPG Industries, Inc.",
         "PPG Industries, Inc.",
         "Basic Materials",
         "Specialty Chemicals",
         "120.21",
         "27888719872",
         "2870000128.0",
         "-0.015",
         "Pittsburgh",
         "PA",
         "United States",
         "53000.0",
         "PPG Industries, Inc. manufactures and distributes paints, coatings, and specialty materials in the United States, Canada, the Asia Pacific, Latin America, Europe, the Middle East, and Africa. It operates through two segments, Performance Coatings and Industrial Coatings. The Performance Coatings segment offers coatings, solvents, adhesives, sealants, sundries, and software for automotive and commercial transport/fleet repair and refurbishing, light industrial coatings, and specialty coatings for signs; wood stains; paints, thermoplastics, pavement marking products, and other advanced technologies for pavement marking for government, commercial infrastructure, painting, and maintenance contractors; and coatings, sealants, transparencies, transparent armor, adhesives, engineered materials, and packaging and chemical management services for commercial, military, regional jet, and general aviation aircraft. The Industrial Coatings segment offers coatings, adhesives and sealants, and metal pretreatments, as well as services and coatings applications for appliances, agricultural and construction equipment, consumer electronics, automotive parts and accessories, building products, kitchenware, and transportation vehicles and other finished products; and on-site coatings services. It also provides coatings for metal cans, closures, plastic and aluminum tubes for food, beverage and personal care, promotional, and specialty packaging; amorphous precipitated silica for tire, battery separator, and other end-uses; TESLIN substrates for labels, e-passports, drivers' licenses, breathable membranes, and loyalty and identification cards; and organic light emitting diode materials, displays and lighting lens materials, optical lenses, color-change products, and photochromic dyes. PPG Industries, Inc. was incorporated in 1883 and is headquartered in Pittsburgh, Pennsylvania.",
         "0.0005017533343624"
        ],
        [
         "239251",
         "2022-08-12",
         "FFIV",
         "172.64999389648438",
         "172.64999389648438",
         "172.8800048828125",
         "170.5500030517578",
         "170.8800048828125",
         "363800.0",
         "NMS",
         "F5, Inc.",
         "F5, Inc.",
         "Technology",
         "Software - Infrastructure",
         "252.25",
         "14785608704",
         "782097984.0",
         "0.056",
         "Seattle",
         "WA",
         "United States",
         null,
         "F5, Inc. provides multicloud application security and delivery solutions in the United States, Europe, the Middle East, Africa, and the Asia Pacific region. The company's distributed cloud services enable its customers to deploy, secure, and operate applications in any architecture, from on-premises to the public cloud. It offers unified, security, networking, and application management solutions, such as web app and API protection; multi-cloud networking; application delivery and deployment; domain name system; content delivery network; and application deployment and orchestration. The company also provides application security and delivery products, including NGINX Plus; NGINX Management Suite; NGINX Ingress Controller; NGINX App Protect; BIG-IP Packaged Software; and BIG-IP Systems. In addition, it provides a range of professional services, including maintenance, consulting, training, and other technical support services. F5, Inc. sells its products to large enterprise businesses, public sector institutions, governments, and service providers through distributors, value-added resellers, managed service providers, systems integrators, and other indirect channel partners. It has partnerships with public cloud providers, such as Amazon Web Services, Microsoft Azure, and Google Cloud Platform. The company was formerly known as F5 Networks, Inc. and changed its name to F5, Inc. in November 2021. F5, Inc. was incorporated in 1996 and is headquartered in Seattle, Washington.",
         "0.0002660117962337"
        ],
        [
         "50228",
         "2021-10-26",
         "ANSS",
         "376.4700012207031",
         "376.4700012207031",
         "381.2200012207031",
         "375.9200134277344",
         "377.1600036621094",
         "225100.0",
         "NMS",
         "ANSYS, Inc.",
         "ANSYS, Inc.",
         "Technology",
         "Software - Application",
         "338.38",
         "29591330816",
         "836108992.0",
         "0.312",
         "Canonsburg",
         "PA",
         "United States",
         "6400.0",
         "ANSYS, Inc. develops and markets engineering simulation software and services for engineers, designers, researchers, and students in the United States, Japan, Germany, China, Hong Kong, South Korea, rest of Europe, the Middle East, Africa, and internationally. It offers structural analysis product suite that provides simulation tools for product design and optimization; the Ansys Mechanical product, an element analysis software; LS-DYNA solver for multiphysics simulation; and power analysis and optimization software suite. The company also offers electronics product suite that provides electromagnetic field simulation software for designing electronic and electromechanical products; Ansys High Frequency Structure Simulator product for radio frequency and microwave design; SCADE product suite, a solution for embedded software simulation, code production, and automated certification; fluids product suite that enables modeling of fluid flow and other related physical phenomena; Ansys Fluent computational fluid dynamics software package; Ansys RedHawk-SC for electronic design automation; Ansys Optics software; and mission-simulation, modeling, testing, and analysis software. In addition, it offers Ansys Granta MI system for materials information management; Ansys Granta Selector technology for materials selection and graphical analysis; CES EduPack product, a set of teaching resources; Granta Materials Data for Simulation; Ansys Lumerical product, a photonics simulation software solution; safety-certified embedded software solutions; Discovery product family for use in the simulation of product design; academic product suite for research and teaching settings. ANSYS, Inc. was founded in 1970 and is headquartered in Canonsburg, Pennsylvania.",
         "0.0005323854581097"
        ],
        [
         "296391",
         "2014-09-11",
         "HLT",
         "48.34137725830078",
         "50.9716796875",
         "51.71039962768555",
         "50.60232162475586",
         "50.88959884643555",
         "3296248.0",
         "NYQ",
         "Hilton Worldwide Holdings Inc.",
         "Hilton Worldwide Holdings Inc.",
         "Consumer Cyclical",
         "Lodging",
         "249.42",
         "60803608576",
         "2456999936.0",
         "0.063",
         "McLean",
         "VA",
         "United States",
         "178000.0",
         "Hilton Worldwide Holdings Inc., a hospitality company, engages in managing, franchising, owning, and leasing hotels and resorts. It operates through two segments, Management and Franchise, and Ownership. The company engages in the hotel management and licensing of its brands. It operates luxury hotels under the Waldorf Astoria Hotels & Resorts, LXR Hotels & Resorts, and Conrad Hotels & Resorts brand; lifestyle hotels under the Canopy by Hilton, Curio Collection by Hilton, Tapestry Collection by Hilton, Tempo by Hilton, and Motto by Hilton brand; full service hotels under the Signia by Hilton, Hilton Hotels & Resorts, and DoubleTree by Hilton brand; service hotels under the Hilton Garden Inn, Hampton by Hilton, and Tru by Hilton brand; all-suite hotels under the Embassy Suites by Hilton, Homewood Suites by Hilton, and Home2 Suites by Hilton brand; and economy hotel under the Spark by Hilton brand, as well as Hilton Grand Vacations. The company operates in North America, South America, and Central America, including various Caribbean nations; Europe, the Middle East, and Africa; and the Asia Pacific. The company was founded in 1919 and is headquartered in McLean, Virginia.",
         "0.0010939338013469"
        ]
       ],
       "shape": {
        "columns": 23,
        "rows": 5
       }
      },
      "text/html": [
       "<div>\n",
       "<style scoped>\n",
       "    .dataframe tbody tr th:only-of-type {\n",
       "        vertical-align: middle;\n",
       "    }\n",
       "\n",
       "    .dataframe tbody tr th {\n",
       "        vertical-align: top;\n",
       "    }\n",
       "\n",
       "    .dataframe thead th {\n",
       "        text-align: right;\n",
       "    }\n",
       "</style>\n",
       "<table border=\"1\" class=\"dataframe\">\n",
       "  <thead>\n",
       "    <tr style=\"text-align: right;\">\n",
       "      <th></th>\n",
       "      <th>Date</th>\n",
       "      <th>Symbol</th>\n",
       "      <th>Adj Close</th>\n",
       "      <th>Close</th>\n",
       "      <th>High</th>\n",
       "      <th>Low</th>\n",
       "      <th>Open</th>\n",
       "      <th>Volume</th>\n",
       "      <th>Exchange</th>\n",
       "      <th>Shortname</th>\n",
       "      <th>...</th>\n",
       "      <th>Currentprice</th>\n",
       "      <th>Marketcap</th>\n",
       "      <th>Ebitda</th>\n",
       "      <th>Revenuegrowth</th>\n",
       "      <th>City</th>\n",
       "      <th>State</th>\n",
       "      <th>Country</th>\n",
       "      <th>Fulltimeemployees</th>\n",
       "      <th>Longbusinesssummary</th>\n",
       "      <th>Weight</th>\n",
       "    </tr>\n",
       "  </thead>\n",
       "  <tbody>\n",
       "    <tr>\n",
       "      <th>426772</th>\n",
       "      <td>2015-02-25</td>\n",
       "      <td>PKG</td>\n",
       "      <td>60.593231</td>\n",
       "      <td>82.099998</td>\n",
       "      <td>82.760002</td>\n",
       "      <td>81.669998</td>\n",
       "      <td>82.639999</td>\n",
       "      <td>585900.0</td>\n",
       "      <td>NYQ</td>\n",
       "      <td>Packaging Corporation of Americ</td>\n",
       "      <td>...</td>\n",
       "      <td>227.98</td>\n",
       "      <td>20473718784</td>\n",
       "      <td>1.625000e+09</td>\n",
       "      <td>0.127</td>\n",
       "      <td>Lake Forest</td>\n",
       "      <td>IL</td>\n",
       "      <td>United States</td>\n",
       "      <td>14900.0</td>\n",
       "      <td>Packaging Corporation of America manufactures ...</td>\n",
       "      <td>0.000368</td>\n",
       "    </tr>\n",
       "    <tr>\n",
       "      <th>456261</th>\n",
       "      <td>2012-07-17</td>\n",
       "      <td>PPG</td>\n",
       "      <td>42.514153</td>\n",
       "      <td>52.064999</td>\n",
       "      <td>52.160000</td>\n",
       "      <td>50.959999</td>\n",
       "      <td>51.294998</td>\n",
       "      <td>1810400.0</td>\n",
       "      <td>NYQ</td>\n",
       "      <td>PPG Industries, Inc.</td>\n",
       "      <td>...</td>\n",
       "      <td>120.21</td>\n",
       "      <td>27888719872</td>\n",
       "      <td>2.870000e+09</td>\n",
       "      <td>-0.015</td>\n",
       "      <td>Pittsburgh</td>\n",
       "      <td>PA</td>\n",
       "      <td>United States</td>\n",
       "      <td>53000.0</td>\n",
       "      <td>PPG Industries, Inc. manufactures and distribu...</td>\n",
       "      <td>0.000502</td>\n",
       "    </tr>\n",
       "    <tr>\n",
       "      <th>239251</th>\n",
       "      <td>2022-08-12</td>\n",
       "      <td>FFIV</td>\n",
       "      <td>172.649994</td>\n",
       "      <td>172.649994</td>\n",
       "      <td>172.880005</td>\n",
       "      <td>170.550003</td>\n",
       "      <td>170.880005</td>\n",
       "      <td>363800.0</td>\n",
       "      <td>NMS</td>\n",
       "      <td>F5, Inc.</td>\n",
       "      <td>...</td>\n",
       "      <td>252.25</td>\n",
       "      <td>14785608704</td>\n",
       "      <td>7.820980e+08</td>\n",
       "      <td>0.056</td>\n",
       "      <td>Seattle</td>\n",
       "      <td>WA</td>\n",
       "      <td>United States</td>\n",
       "      <td>NaN</td>\n",
       "      <td>F5, Inc. provides multicloud application secur...</td>\n",
       "      <td>0.000266</td>\n",
       "    </tr>\n",
       "    <tr>\n",
       "      <th>50228</th>\n",
       "      <td>2021-10-26</td>\n",
       "      <td>ANSS</td>\n",
       "      <td>376.470001</td>\n",
       "      <td>376.470001</td>\n",
       "      <td>381.220001</td>\n",
       "      <td>375.920013</td>\n",
       "      <td>377.160004</td>\n",
       "      <td>225100.0</td>\n",
       "      <td>NMS</td>\n",
       "      <td>ANSYS, Inc.</td>\n",
       "      <td>...</td>\n",
       "      <td>338.38</td>\n",
       "      <td>29591330816</td>\n",
       "      <td>8.361090e+08</td>\n",
       "      <td>0.312</td>\n",
       "      <td>Canonsburg</td>\n",
       "      <td>PA</td>\n",
       "      <td>United States</td>\n",
       "      <td>6400.0</td>\n",
       "      <td>ANSYS, Inc. develops and markets engineering s...</td>\n",
       "      <td>0.000532</td>\n",
       "    </tr>\n",
       "    <tr>\n",
       "      <th>296391</th>\n",
       "      <td>2014-09-11</td>\n",
       "      <td>HLT</td>\n",
       "      <td>48.341377</td>\n",
       "      <td>50.971680</td>\n",
       "      <td>51.710400</td>\n",
       "      <td>50.602322</td>\n",
       "      <td>50.889599</td>\n",
       "      <td>3296248.0</td>\n",
       "      <td>NYQ</td>\n",
       "      <td>Hilton Worldwide Holdings Inc.</td>\n",
       "      <td>...</td>\n",
       "      <td>249.42</td>\n",
       "      <td>60803608576</td>\n",
       "      <td>2.457000e+09</td>\n",
       "      <td>0.063</td>\n",
       "      <td>McLean</td>\n",
       "      <td>VA</td>\n",
       "      <td>United States</td>\n",
       "      <td>178000.0</td>\n",
       "      <td>Hilton Worldwide Holdings Inc., a hospitality ...</td>\n",
       "      <td>0.001094</td>\n",
       "    </tr>\n",
       "  </tbody>\n",
       "</table>\n",
       "<p>5 rows × 23 columns</p>\n",
       "</div>"
      ],
      "text/plain": [
       "              Date Symbol   Adj Close       Close        High         Low  \\\n",
       "426772  2015-02-25    PKG   60.593231   82.099998   82.760002   81.669998   \n",
       "456261  2012-07-17    PPG   42.514153   52.064999   52.160000   50.959999   \n",
       "239251  2022-08-12   FFIV  172.649994  172.649994  172.880005  170.550003   \n",
       "50228   2021-10-26   ANSS  376.470001  376.470001  381.220001  375.920013   \n",
       "296391  2014-09-11    HLT   48.341377   50.971680   51.710400   50.602322   \n",
       "\n",
       "              Open     Volume Exchange                        Shortname  ...  \\\n",
       "426772   82.639999   585900.0      NYQ  Packaging Corporation of Americ  ...   \n",
       "456261   51.294998  1810400.0      NYQ             PPG Industries, Inc.  ...   \n",
       "239251  170.880005   363800.0      NMS                         F5, Inc.  ...   \n",
       "50228   377.160004   225100.0      NMS                      ANSYS, Inc.  ...   \n",
       "296391   50.889599  3296248.0      NYQ   Hilton Worldwide Holdings Inc.  ...   \n",
       "\n",
       "       Currentprice    Marketcap        Ebitda  Revenuegrowth         City  \\\n",
       "426772       227.98  20473718784  1.625000e+09          0.127  Lake Forest   \n",
       "456261       120.21  27888719872  2.870000e+09         -0.015   Pittsburgh   \n",
       "239251       252.25  14785608704  7.820980e+08          0.056      Seattle   \n",
       "50228        338.38  29591330816  8.361090e+08          0.312   Canonsburg   \n",
       "296391       249.42  60803608576  2.457000e+09          0.063       McLean   \n",
       "\n",
       "        State        Country Fulltimeemployees  \\\n",
       "426772     IL  United States           14900.0   \n",
       "456261     PA  United States           53000.0   \n",
       "239251     WA  United States               NaN   \n",
       "50228      PA  United States            6400.0   \n",
       "296391     VA  United States          178000.0   \n",
       "\n",
       "                                      Longbusinesssummary    Weight  \n",
       "426772  Packaging Corporation of America manufactures ...  0.000368  \n",
       "456261  PPG Industries, Inc. manufactures and distribu...  0.000502  \n",
       "239251  F5, Inc. provides multicloud application secur...  0.000266  \n",
       "50228   ANSYS, Inc. develops and markets engineering s...  0.000532  \n",
       "296391  Hilton Worldwide Holdings Inc., a hospitality ...  0.001094  \n",
       "\n",
       "[5 rows x 23 columns]"
      ]
     },
     "execution_count": 29,
     "metadata": {},
     "output_type": "execute_result"
    }
   ],
   "source": [
    "stocks_test.head()"
   ]
  },
  {
   "cell_type": "code",
   "execution_count": null,
   "metadata": {},
   "outputs": [
    {
     "data": {
      "application/vnd.microsoft.datawrangler.viewer.v0+json": {
       "columns": [
        {
         "name": "index",
         "rawType": "int64",
         "type": "integer"
        },
        {
         "name": "Symbol",
         "rawType": "object",
         "type": "string"
        },
        {
         "name": "Sector",
         "rawType": "object",
         "type": "string"
        },
        {
         "name": "Volume",
         "rawType": "float64",
         "type": "float"
        },
        {
         "name": "Currentprice",
         "rawType": "float64",
         "type": "float"
        },
        {
         "name": "Marketcap",
         "rawType": "int64",
         "type": "integer"
        },
        {
         "name": "Ebitda",
         "rawType": "float64",
         "type": "float"
        },
        {
         "name": "Revenuegrowth",
         "rawType": "float64",
         "type": "float"
        },
        {
         "name": "Weight",
         "rawType": "float64",
         "type": "float"
        }
       ],
       "ref": "038269f3-ea76-4857-a896-19c6b7c6150f",
       "rows": [
        [
         "426772",
         "PKG",
         "Consumer Cyclical",
         "585900.0",
         "227.98",
         "20473718784",
         "1624999936.0",
         "0.127",
         "0.0003683480888982"
        ],
        [
         "456261",
         "PPG",
         "Basic Materials",
         "1810400.0",
         "120.21",
         "27888719872",
         "2870000128.0",
         "-0.015",
         "0.0005017533343624"
        ],
        [
         "239251",
         "FFIV",
         "Technology",
         "363800.0",
         "252.25",
         "14785608704",
         "782097984.0",
         "0.056",
         "0.0002660117962337"
        ],
        [
         "50228",
         "ANSS",
         "Technology",
         "225100.0",
         "338.38",
         "29591330816",
         "836108992.0",
         "0.312",
         "0.0005323854581097"
        ],
        [
         "296391",
         "HLT",
         "Consumer Cyclical",
         "3296248.0",
         "249.42",
         "60803608576",
         "2456999936.0",
         "0.063",
         "0.0010939338013469"
        ]
       ],
       "shape": {
        "columns": 8,
        "rows": 5
       }
      },
      "text/html": [
       "<div>\n",
       "<style scoped>\n",
       "    .dataframe tbody tr th:only-of-type {\n",
       "        vertical-align: middle;\n",
       "    }\n",
       "\n",
       "    .dataframe tbody tr th {\n",
       "        vertical-align: top;\n",
       "    }\n",
       "\n",
       "    .dataframe thead th {\n",
       "        text-align: right;\n",
       "    }\n",
       "</style>\n",
       "<table border=\"1\" class=\"dataframe\">\n",
       "  <thead>\n",
       "    <tr style=\"text-align: right;\">\n",
       "      <th></th>\n",
       "      <th>Symbol</th>\n",
       "      <th>Sector</th>\n",
       "      <th>Volume</th>\n",
       "      <th>Currentprice</th>\n",
       "      <th>Marketcap</th>\n",
       "      <th>Ebitda</th>\n",
       "      <th>Revenuegrowth</th>\n",
       "      <th>Weight</th>\n",
       "    </tr>\n",
       "  </thead>\n",
       "  <tbody>\n",
       "    <tr>\n",
       "      <th>426772</th>\n",
       "      <td>PKG</td>\n",
       "      <td>Consumer Cyclical</td>\n",
       "      <td>585900.0</td>\n",
       "      <td>227.98</td>\n",
       "      <td>20473718784</td>\n",
       "      <td>1.625000e+09</td>\n",
       "      <td>0.127</td>\n",
       "      <td>0.000368</td>\n",
       "    </tr>\n",
       "    <tr>\n",
       "      <th>456261</th>\n",
       "      <td>PPG</td>\n",
       "      <td>Basic Materials</td>\n",
       "      <td>1810400.0</td>\n",
       "      <td>120.21</td>\n",
       "      <td>27888719872</td>\n",
       "      <td>2.870000e+09</td>\n",
       "      <td>-0.015</td>\n",
       "      <td>0.000502</td>\n",
       "    </tr>\n",
       "    <tr>\n",
       "      <th>239251</th>\n",
       "      <td>FFIV</td>\n",
       "      <td>Technology</td>\n",
       "      <td>363800.0</td>\n",
       "      <td>252.25</td>\n",
       "      <td>14785608704</td>\n",
       "      <td>7.820980e+08</td>\n",
       "      <td>0.056</td>\n",
       "      <td>0.000266</td>\n",
       "    </tr>\n",
       "    <tr>\n",
       "      <th>50228</th>\n",
       "      <td>ANSS</td>\n",
       "      <td>Technology</td>\n",
       "      <td>225100.0</td>\n",
       "      <td>338.38</td>\n",
       "      <td>29591330816</td>\n",
       "      <td>8.361090e+08</td>\n",
       "      <td>0.312</td>\n",
       "      <td>0.000532</td>\n",
       "    </tr>\n",
       "    <tr>\n",
       "      <th>296391</th>\n",
       "      <td>HLT</td>\n",
       "      <td>Consumer Cyclical</td>\n",
       "      <td>3296248.0</td>\n",
       "      <td>249.42</td>\n",
       "      <td>60803608576</td>\n",
       "      <td>2.457000e+09</td>\n",
       "      <td>0.063</td>\n",
       "      <td>0.001094</td>\n",
       "    </tr>\n",
       "  </tbody>\n",
       "</table>\n",
       "</div>"
      ],
      "text/plain": [
       "       Symbol             Sector     Volume  Currentprice    Marketcap  \\\n",
       "426772    PKG  Consumer Cyclical   585900.0        227.98  20473718784   \n",
       "456261    PPG    Basic Materials  1810400.0        120.21  27888719872   \n",
       "239251   FFIV         Technology   363800.0        252.25  14785608704   \n",
       "50228    ANSS         Technology   225100.0        338.38  29591330816   \n",
       "296391    HLT  Consumer Cyclical  3296248.0        249.42  60803608576   \n",
       "\n",
       "              Ebitda  Revenuegrowth    Weight  \n",
       "426772  1.625000e+09          0.127  0.000368  \n",
       "456261  2.870000e+09         -0.015  0.000502  \n",
       "239251  7.820980e+08          0.056  0.000266  \n",
       "50228   8.361090e+08          0.312  0.000532  \n",
       "296391  2.457000e+09          0.063  0.001094  "
      ]
     },
     "execution_count": 30,
     "metadata": {},
     "output_type": "execute_result"
    }
   ],
   "source": [
    "text_features, num_features, x_test = selectFeatures(stocks_test)  \n",
    "x_test.head()\n"
   ]
  },
  {
   "cell_type": "code",
   "execution_count": null,
   "metadata": {},
   "outputs": [
    {
     "name": "stdout",
     "output_type": "stream",
     "text": [
      "Removing Duplicate Rows\n",
      "Number of duplicate rows: 2026\n",
      "Shape after removing duplicates: (123567, 8)\n",
      "Imputing missing values by Mean\n",
      "Imputing missing values by Linear Regression\n",
      "               total missing  proportion\n",
      "Symbol                     0         0.0\n",
      "Sector                     0         0.0\n",
      "Volume                     0         0.0\n",
      "Currentprice               0         0.0\n",
      "Marketcap                  0         0.0\n",
      "Ebitda                     0         0.0\n",
      "Revenuegrowth              0         0.0\n",
      "Weight                     0         0.0\n",
      "cluster_2                  0         0.0\n",
      "cluster_3                  0         0.0\n",
      "cluster_4                  0         0.0\n",
      "cluster_5                  0         0.0\n",
      "cluster_6                  0         0.0\n",
      "cluster_7                  0         0.0\n",
      "Applying Log Transformation\n"
     ]
    },
    {
     "name": "stderr",
     "output_type": "stream",
     "text": [
      "/var/folders/0_/skr2d259613gs33jbnv_ytn80000gn/T/ipykernel_71617/3201287392.py:13: SettingWithCopyWarning: \n",
      "A value is trying to be set on a copy of a slice from a DataFrame.\n",
      "Try using .loc[row_indexer,col_indexer] = value instead\n",
      "\n",
      "See the caveats in the documentation: https://pandas.pydata.org/pandas-docs/stable/user_guide/indexing.html#returning-a-view-versus-a-copy\n",
      "  df[feature] = df.groupby(groupby_col)[feature].transform(lambda x: x.fillna(x.mean()))\n",
      "/var/folders/0_/skr2d259613gs33jbnv_ytn80000gn/T/ipykernel_71617/3201287392.py:41: SettingWithCopyWarning: \n",
      "A value is trying to be set on a copy of a slice from a DataFrame.\n",
      "Try using .loc[row_indexer,col_indexer] = value instead\n",
      "\n",
      "See the caveats in the documentation: https://pandas.pydata.org/pandas-docs/stable/user_guide/indexing.html#returning-a-view-versus-a-copy\n",
      "  df[feature] = np.log1p(df[feature])\n"
     ]
    },
    {
     "name": "stdout",
     "output_type": "stream",
     "text": [
      "Normalizing Features\n"
     ]
    },
    {
     "name": "stderr",
     "output_type": "stream",
     "text": [
      "/var/folders/0_/skr2d259613gs33jbnv_ytn80000gn/T/ipykernel_71617/3201287392.py:51: SettingWithCopyWarning: \n",
      "A value is trying to be set on a copy of a slice from a DataFrame.\n",
      "Try using .loc[row_indexer,col_indexer] = value instead\n",
      "\n",
      "See the caveats in the documentation: https://pandas.pydata.org/pandas-docs/stable/user_guide/indexing.html#returning-a-view-versus-a-copy\n",
      "  df[features] = scaler.fit_transform(df[features])\n"
     ]
    },
    {
     "data": {
      "image/png": "[encoded data removed]",
      "text/plain": [
       "<Figure size 1800x800 with 6 Axes>"
      ]
     },
     "metadata": {},
     "output_type": "display_data"
    }
   ],
   "source": [
    "x_test = performFeatureEngineeing(x_test)"
   ]
  },
  {
   "cell_type": "code",
   "execution_count": null,
   "metadata": {},
   "outputs": [
    {
     "data": {
      "application/vnd.microsoft.datawrangler.viewer.v0+json": {
       "columns": [
        {
         "name": "index",
         "rawType": "int64",
         "type": "integer"
        },
        {
         "name": "Symbol",
         "rawType": "object",
         "type": "string"
        },
        {
         "name": "Sector",
         "rawType": "object",
         "type": "string"
        },
        {
         "name": "Volume",
         "rawType": "float64",
         "type": "float"
        },
        {
         "name": "Currentprice",
         "rawType": "float64",
         "type": "float"
        },
        {
         "name": "Marketcap",
         "rawType": "float64",
         "type": "float"
        },
        {
         "name": "Ebitda",
         "rawType": "float64",
         "type": "float"
        },
        {
         "name": "Revenuegrowth",
         "rawType": "float64",
         "type": "float"
        },
        {
         "name": "Weight",
         "rawType": "float64",
         "type": "float"
        }
       ],
       "ref": "d6ae2f52-69d7-4726-9fa2-6878d1b793e9",
       "rows": [
        [
         "426772",
         "PKG",
         "Consumer Cyclical",
         "-1.1703837859569284",
         "0.7163185061471308",
         "-0.6671747830368784",
         "-0.3548776347199051",
         "0.4553066473329855",
         "-0.2834555480022836"
        ],
        [
         "456261",
         "PPG",
         "Basic Materials",
         "-0.30406166615955355",
         "-0.0002587934509597231",
         "-0.4122692410206242",
         "-0.28842844766506465",
         "-0.5921488808001919",
         "-0.2669598070571046"
        ],
        [
         "239251",
         "FFIV",
         "Technology",
         "-1.5363275181492768",
         "0.8298047968240317",
         "-0.935611950313007",
         "-0.3998656996513345",
         "-0.05080144522786004",
         "-0.29611106152622274"
        ],
        [
         "50228",
         "ANSS",
         "Technology",
         "-1.9049696978222888",
         "1.1595797749263443",
         "-0.3633968750984359",
         "-0.396982979153238",
         "1.637477798627256",
         "-0.2631724135938233"
        ],
        [
         "296391",
         "HLT",
         "Consumer Cyclical",
         "0.15609947332014457",
         "0.8171456136863554",
         "0.2305418785907775",
         "-0.3104714378495136",
         "0.0005856569046913321",
         "-0.193762424810437"
        ],
        [
         "320988",
         "PODD",
         "Healthcare",
         "-1.8371017663700386",
         "0.8917668215560693",
         "-0.7419761070564654",
         "-0.41969359942832674",
         "1.3043963724650727",
         "-0.28740510475645165"
        ],
        [
         "405020",
         "NTAP",
         "Technology",
         "-0.24191757323879015",
         "-0.016735759954836758",
         "-0.5333175011840285",
         "-0.357172663113451",
         "0.09512735078890473",
         "-0.27542903288360626"
        ],
        [
         "392883",
         "MSFT",
         "Technology",
         "1.9714296398662625",
         "1.4459186989982267",
         "3.5109188467123866",
         "6.846558440152025",
         "0.6797792712733105",
         "6.692387804496172"
        ],
        [
         "323259",
         "ICE",
         "Financial Services",
         "0.5786886193371803",
         "0.24960556850005375",
         "0.5193871539576822",
         "-0.1449622731607229",
         "0.7664592054068458",
         "-0.13708222942238332"
        ],
        [
         "391663",
         "MSFT",
         "Technology",
         "2.5422911975179345",
         "1.4459186989982267",
         "3.5109188467123866",
         "6.846558440152025",
         "0.6797792712733105",
         "6.692387804496172"
        ],
        [
         "274746",
         "GIS",
         "Consumer Defensive",
         "0.3813527549202926",
         "-0.7090016266547269",
         "-0.22345136253817577",
         "-0.21666334696081155",
         "-0.5684962219251195",
         "-0.2509998900391713"
        ],
        [
         "176669",
         "DG",
         "Consumer Defensive",
         "-0.6759878690335656",
         "-0.505536121306343",
         "-0.8301593766427334",
         "-0.2801301045262749",
         "-0.15460553446784323",
         "-0.2916238590655618"
        ],
        [
         "575094",
         "VRTX",
         "Healthcare",
         "-0.45100516950202246",
         "1.339830572309149",
         "0.6596814423149042",
         "-0.20428083609312256",
         "0.37901932747146977",
         "-0.1015238853922628"
        ],
        [
         "18009",
         "ALB",
         "Basic Materials",
         "-0.16911906749956468",
         "-0.340023674053101",
         "-1.2242112388880328",
         "-0.4915162471478626",
         "-4.63131826027911",
         "-0.30582518730658753"
        ],
        [
         "24509",
         "ALL",
         "Financial Services",
         "-0.5283769032226545",
         "0.5328185243575752",
         "0.08965392305358234",
         "-0.11107053459496716",
         "0.5921224295840603",
         "-0.21499192099617034"
        ],
        [
         "599456",
         "WST",
         "Healthcare",
         "-1.6401351061895912",
         "1.1361695954851934",
         "-0.5360897265334402",
         "-0.4018617342896295",
         "-0.48238004945172713",
         "-0.2756088113737654"
        ],
        [
         "538275",
         "TDG",
         "Industrials",
         "-1.8207265033557514",
         "2.6524903165575306",
         "0.36716233390845393",
         "-0.23409491072988997",
         "0.8127359561737281",
         "-0.16941027872161182"
        ],
        [
         "456539",
         "PPG",
         "Basic Materials",
         "-0.8771024209526997",
         "-0.0002587934509597231",
         "-0.4122692410206242",
         "-0.28842844766506465",
         "-0.5921488808001919",
         "-0.2669598070571046"
        ],
        [
         "455680",
         "PPG",
         "Basic Materials",
         "-0.3050803418888385",
         "-0.0002587934509597231",
         "-0.4122692410206242",
         "-0.28842844766506465",
         "-0.5921488808001919",
         "-0.2669598070571046"
        ],
        [
         "167462",
         "DXCM",
         "Healthcare",
         "0.4067963756154076",
         "-0.45376664930325705",
         "-0.3180692762123558",
         "-0.3967539559008096",
         "-0.320577968793182",
         "-0.2594534638829448"
        ],
        [
         "156518",
         "CSGP",
         "Real Estate",
         "-0.12326409458955846",
         "-0.5801420555128532",
         "-0.3719073352437407",
         "-0.4325190911446189",
         "0.3300803465378245",
         "-0.2638481700491316"
        ],
        [
         "536963",
         "TT",
         "Industrials",
         "-0.6840854274446251",
         "1.2813145781239113",
         "0.5054546105138813",
         "-0.24459868422038644",
         "0.365068154823263",
         "-0.14029495883717027"
        ],
        [
         "33740",
         "AMZN",
         "Consumer Cyclical",
         "2.4925010238927126",
         "0.7011629177849171",
         "3.249768473308032",
         "5.513892455230053",
         "0.33709051074920215",
         "4.825729130534542"
        ],
        [
         "432973",
         "PARA",
         "Communication Services",
         "0.2307972509787199",
         "-2.637798663667879",
         "-1.4848768720773782",
         "-0.2748183855545358",
         "-0.9228247504057986",
         "-0.3121085619062992"
        ],
        [
         "153632",
         "GLW",
         "Technology",
         "0.10705317652069712",
         "-1.0365093439264264",
         "-0.10443431687892173",
         "-0.30246550610125406",
         "0.04436312707109113",
         "-0.23889312292726475"
        ],
        [
         "183078",
         "DPZ",
         "Consumer Cyclical",
         "-1.3147278158813274",
         "1.418770322603408",
         "-0.9394563329978421",
         "-0.39244564618527644",
         "-0.2371490427515526",
         "-0.29626405758278523"
        ],
        [
         "158875",
         "CSGP",
         "Real Estate",
         "-0.03242244804068675",
         "-0.5801420555128532",
         "-0.3719073352437407",
         "-0.4325190911446189",
         "0.3300803465378245",
         "-0.2638481700491316"
        ],
        [
         "337791",
         "ISRG",
         "Healthcare",
         "-0.378567501763748",
         "1.651968551438961",
         "1.156162104542266",
         "-0.3079041994691521",
         "0.7398911977936174",
         "0.08601353775209301"
        ],
        [
         "185414",
         "DOV",
         "Industrials",
         "0.09879465748363021",
         "0.5077015614947136",
         "-0.47117227298096515",
         "-0.34735536843623527",
         "-0.37413886581194394",
         "-0.27123623010828524"
        ],
        [
         "573683",
         "VRTX",
         "Healthcare",
         "-0.33007458423749075",
         "1.339830572309149",
         "0.6596814423149042",
         "-0.20428083609312256",
         "0.37901932747146977",
         "-0.1015238853922628"
        ],
        [
         "218260",
         "EQIX",
         "Real Estate",
         "-0.9952379149893835",
         "2.2930047664548736",
         "0.5490556910069974",
         "-0.26265433951200395",
         "0.8718328973012237",
         "-0.13005765201840716"
        ],
        [
         "142102",
         "CMCSA",
         "Communication Services",
         "1.6925737646399612",
         "-1.2713300160375094",
         "0.9543770853157131",
         "1.548450883204497",
         "0.015205542160481884",
         "-0.003944584739613794"
        ],
        [
         "361522",
         "KIM",
         "Real Estate",
         "0.2876543046572444",
         "-1.8050475589723785",
         "-0.8815669924959292",
         "-0.3777830069110222",
         "0.5308529748958201",
         "-0.29388301609295625"
        ],
        [
         "517624",
         "SBUX",
         "Consumer Cyclical",
         "0.9712881822101984",
         "-0.3486007980081739",
         "0.6387149665758395",
         "-0.08401049129776585",
         "-0.7275565028541338",
         "-0.10722922407669935"
        ],
        [
         "540484",
         "TDG",
         "Industrials",
         "-1.8788113271833127",
         "2.6524903165575306",
         "0.36716233390845393",
         "-0.23409491072988997",
         "0.8127359561737281",
         "-0.16941027872161182"
        ],
        [
         "375124",
         "LKQ",
         "Consumer Cyclical",
         "0.2507018586984251",
         "-1.3104911190072417",
         "-1.292892127577247",
         "-0.3491667381969141",
         "-0.4435493314224832",
         "-0.3076778896637318"
        ],
        [
         "340081",
         "INVH",
         "Real Estate",
         "-0.28969047948655996",
         "-1.461084031294718",
         "-0.69939999932905",
         "-0.3664792318728765",
         "-0.0360847394823289",
         "-0.2852010485752039"
        ],
        [
         "288800",
         "HCA",
         "Healthcare",
         "-0.4055362320561525",
         "1.037855571716879",
         "0.42429825250690834",
         "0.29210786469700034",
         "0.11678242742105337",
         "-0.1579690203028624"
        ],
        [
         "287860",
         "HCA",
         "Healthcare",
         "0.4462388880285776",
         "1.037855571716879",
         "0.42429825250690834",
         "0.29210786469700034",
         "0.11678242742105337",
         "-0.1579690203028624"
        ],
        [
         "529816",
         "TSLA",
         "Consumer Cyclical",
         "2.5729503075787745",
         "1.4051870148028303",
         "2.788350351197836",
         "0.26526132639435185",
         "0.109570765647083",
         "2.6431921852429334"
        ],
        [
         "611043",
         "WTW",
         "Financial Services",
         "-1.0844629528583836",
         "1.08829696186408",
         "-0.29918758418354224",
         "-0.3038532065851764",
         "-0.04343961158216614",
         "-0.25784300330017"
        ],
        [
         "153055",
         "GLW",
         "Technology",
         "1.063857033311173",
         "-1.0365093439264264",
         "-0.10443431687892173",
         "-0.30246550610125406",
         "0.04436312707109113",
         "-0.23889312292726475"
        ],
        [
         "398536",
         "MSI",
         "Technology",
         "-1.000157418808201",
         "1.5286323821195493",
         "0.4416038910988562",
         "-0.2733773156536978",
         "0.2099305666917296",
         "-0.15434452834311435"
        ],
        [
         "535926",
         "TT",
         "Industrials",
         "-0.03725227787101007",
         "1.2813145781239113",
         "0.5054546105138813",
         "-0.24459868422038644",
         "0.365068154823263",
         "-0.14029495883717027"
        ],
        [
         "249826",
         "FRT",
         "Real Estate",
         "-0.3277525562523441",
         "-0.08006557869339109",
         "-1.2935634455090836",
         "-0.4021645743047017",
         "-0.0360847394823289",
         "-0.30769524829820427"
        ],
        [
         "578481",
         "VTRS",
         "Healthcare",
         "-0.1417868720380051",
         "-2.4710701943994886",
         "-0.9268380262503209",
         "-0.1968033244241755",
         "-0.8571891147645728",
         "-0.29575920093363434"
        ],
        [
         "117889",
         "CE",
         "Basic Materials",
         "-0.56116265930611",
         "-0.6308744823364588",
         "-1.4997438107120702",
         "-0.34281536768060017",
         "-0.6954831515643176",
         "-0.312410553609451"
        ],
        [
         "476712",
         "PHM",
         "Consumer Cyclical",
         "0.529628406907395",
         "-0.09411939164990973",
         "-0.5832929981519132",
         "-0.2393936084383622",
         "0.39294552038805725",
         "-0.2785790236653189"
        ],
        [
         "118412",
         "CE",
         "Basic Materials",
         "-0.6942408167425009",
         "-0.6308744823364588",
         "-1.4997438107120702",
         "-0.34281536768060017",
         "-0.6954831515643176",
         "-0.312410553609451"
        ],
        [
         "90979",
         "BWA",
         "Consumer Cyclical",
         "0.07640721580502362",
         "-1.469956834188336",
         "-1.5555807184059205",
         "-0.3411608132803772",
         "-0.8571891147645728",
         "-0.3134973750451092"
        ]
       ],
       "shape": {
        "columns": 8,
        "rows": 123567
       }
      },
      "text/html": [
       "<div>\n",
       "<style scoped>\n",
       "    .dataframe tbody tr th:only-of-type {\n",
       "        vertical-align: middle;\n",
       "    }\n",
       "\n",
       "    .dataframe tbody tr th {\n",
       "        vertical-align: top;\n",
       "    }\n",
       "\n",
       "    .dataframe thead th {\n",
       "        text-align: right;\n",
       "    }\n",
       "</style>\n",
       "<table border=\"1\" class=\"dataframe\">\n",
       "  <thead>\n",
       "    <tr style=\"text-align: right;\">\n",
       "      <th></th>\n",
       "      <th>Symbol</th>\n",
       "      <th>Sector</th>\n",
       "      <th>Volume</th>\n",
       "      <th>Currentprice</th>\n",
       "      <th>Marketcap</th>\n",
       "      <th>Ebitda</th>\n",
       "      <th>Revenuegrowth</th>\n",
       "      <th>Weight</th>\n",
       "    </tr>\n",
       "  </thead>\n",
       "  <tbody>\n",
       "    <tr>\n",
       "      <th>426772</th>\n",
       "      <td>PKG</td>\n",
       "      <td>Consumer Cyclical</td>\n",
       "      <td>-1.170384</td>\n",
       "      <td>0.716319</td>\n",
       "      <td>-0.667175</td>\n",
       "      <td>-0.354878</td>\n",
       "      <td>0.455307</td>\n",
       "      <td>-0.283456</td>\n",
       "    </tr>\n",
       "    <tr>\n",
       "      <th>456261</th>\n",
       "      <td>PPG</td>\n",
       "      <td>Basic Materials</td>\n",
       "      <td>-0.304062</td>\n",
       "      <td>-0.000259</td>\n",
       "      <td>-0.412269</td>\n",
       "      <td>-0.288428</td>\n",
       "      <td>-0.592149</td>\n",
       "      <td>-0.266960</td>\n",
       "    </tr>\n",
       "    <tr>\n",
       "      <th>239251</th>\n",
       "      <td>FFIV</td>\n",
       "      <td>Technology</td>\n",
       "      <td>-1.536328</td>\n",
       "      <td>0.829805</td>\n",
       "      <td>-0.935612</td>\n",
       "      <td>-0.399866</td>\n",
       "      <td>-0.050801</td>\n",
       "      <td>-0.296111</td>\n",
       "    </tr>\n",
       "    <tr>\n",
       "      <th>50228</th>\n",
       "      <td>ANSS</td>\n",
       "      <td>Technology</td>\n",
       "      <td>-1.904970</td>\n",
       "      <td>1.159580</td>\n",
       "      <td>-0.363397</td>\n",
       "      <td>-0.396983</td>\n",
       "      <td>1.637478</td>\n",
       "      <td>-0.263172</td>\n",
       "    </tr>\n",
       "    <tr>\n",
       "      <th>296391</th>\n",
       "      <td>HLT</td>\n",
       "      <td>Consumer Cyclical</td>\n",
       "      <td>0.156099</td>\n",
       "      <td>0.817146</td>\n",
       "      <td>0.230542</td>\n",
       "      <td>-0.310471</td>\n",
       "      <td>0.000586</td>\n",
       "      <td>-0.193762</td>\n",
       "    </tr>\n",
       "    <tr>\n",
       "      <th>...</th>\n",
       "      <td>...</td>\n",
       "      <td>...</td>\n",
       "      <td>...</td>\n",
       "      <td>...</td>\n",
       "      <td>...</td>\n",
       "      <td>...</td>\n",
       "      <td>...</td>\n",
       "      <td>...</td>\n",
       "    </tr>\n",
       "    <tr>\n",
       "      <th>174345</th>\n",
       "      <td>DFS</td>\n",
       "      <td>Financial Services</td>\n",
       "      <td>-0.362518</td>\n",
       "      <td>0.408041</td>\n",
       "      <td>-0.046110</td>\n",
       "      <td>-0.206091</td>\n",
       "      <td>3.205253</td>\n",
       "      <td>-0.232292</td>\n",
       "    </tr>\n",
       "    <tr>\n",
       "      <th>476216</th>\n",
       "      <td>PHM</td>\n",
       "      <td>Consumer Cyclical</td>\n",
       "      <td>0.365519</td>\n",
       "      <td>-0.094119</td>\n",
       "      <td>-0.583293</td>\n",
       "      <td>-0.239394</td>\n",
       "      <td>0.392946</td>\n",
       "      <td>-0.278579</td>\n",
       "    </tr>\n",
       "    <tr>\n",
       "      <th>314029</th>\n",
       "      <td>INCY</td>\n",
       "      <td>Healthcare</td>\n",
       "      <td>-0.782057</td>\n",
       "      <td>-0.621318</td>\n",
       "      <td>-1.025300</td>\n",
       "      <td>-0.437312</td>\n",
       "      <td>1.185935</td>\n",
       "      <td>-0.299501</td>\n",
       "    </tr>\n",
       "    <tr>\n",
       "      <th>451330</th>\n",
       "      <td>PNW</td>\n",
       "      <td>Utilities</td>\n",
       "      <td>-1.009241</td>\n",
       "      <td>-0.387372</td>\n",
       "      <td>-1.286668</td>\n",
       "      <td>-0.336028</td>\n",
       "      <td>0.123987</td>\n",
       "      <td>-0.307516</td>\n",
       "    </tr>\n",
       "    <tr>\n",
       "      <th>413608</th>\n",
       "      <td>NVDA</td>\n",
       "      <td>Technology</td>\n",
       "      <td>4.333103</td>\n",
       "      <td>0.126948</td>\n",
       "      <td>3.524209</td>\n",
       "      <td>2.823955</td>\n",
       "      <td>5.742236</td>\n",
       "      <td>6.803228</td>\n",
       "    </tr>\n",
       "  </tbody>\n",
       "</table>\n",
       "<p>123567 rows × 8 columns</p>\n",
       "</div>"
      ],
      "text/plain": [
       "       Symbol              Sector    Volume  Currentprice  Marketcap  \\\n",
       "426772    PKG   Consumer Cyclical -1.170384      0.716319  -0.667175   \n",
       "456261    PPG     Basic Materials -0.304062     -0.000259  -0.412269   \n",
       "239251   FFIV          Technology -1.536328      0.829805  -0.935612   \n",
       "50228    ANSS          Technology -1.904970      1.159580  -0.363397   \n",
       "296391    HLT   Consumer Cyclical  0.156099      0.817146   0.230542   \n",
       "...       ...                 ...       ...           ...        ...   \n",
       "174345    DFS  Financial Services -0.362518      0.408041  -0.046110   \n",
       "476216    PHM   Consumer Cyclical  0.365519     -0.094119  -0.583293   \n",
       "314029   INCY          Healthcare -0.782057     -0.621318  -1.025300   \n",
       "451330    PNW           Utilities -1.009241     -0.387372  -1.286668   \n",
       "413608   NVDA          Technology  4.333103      0.126948   3.524209   \n",
       "\n",
       "          Ebitda  Revenuegrowth    Weight  \n",
       "426772 -0.354878       0.455307 -0.283456  \n",
       "456261 -0.288428      -0.592149 -0.266960  \n",
       "239251 -0.399866      -0.050801 -0.296111  \n",
       "50228  -0.396983       1.637478 -0.263172  \n",
       "296391 -0.310471       0.000586 -0.193762  \n",
       "...          ...            ...       ...  \n",
       "174345 -0.206091       3.205253 -0.232292  \n",
       "476216 -0.239394       0.392946 -0.278579  \n",
       "314029 -0.437312       1.185935 -0.299501  \n",
       "451330 -0.336028       0.123987 -0.307516  \n",
       "413608  2.823955       5.742236  6.803228  \n",
       "\n",
       "[123567 rows x 8 columns]"
      ]
     },
     "execution_count": 70,
     "metadata": {},
     "output_type": "execute_result"
    }
   ],
   "source": [
    "x_test"
   ]
  },
  {
   "cell_type": "code",
   "execution_count": null,
   "metadata": {},
   "outputs": [
    {
     "name": "stdout",
     "output_type": "stream",
     "text": [
      "Silhouette Score on Test: 0.23528653181069972\n"
     ]
    }
   ],
   "source": [
    "# Predict cluster labels for the cleaned test data\n",
    "test_labels = kmeans.predict(x_test[num_features])\n",
    "\n",
    "score = silhouette_score(x_test[num_features], test_labels)\n",
    "print(\"Silhouette Score on Test:\", score)"
   ]
  },
  {
   "cell_type": "code",
   "execution_count": null,
   "metadata": {},
   "outputs": [],
   "source": [
    "x_test_df = x_test.copy()\n",
    "x_test_df['cluster'] = test_labels"
   ]
  },
  {
   "cell_type": "code",
   "execution_count": null,
   "metadata": {},
   "outputs": [
    {
     "data": {
      "text/plain": [
       "array([2, 3, 4, 1, 0], dtype=int32)"
      ]
     },
     "execution_count": 75,
     "metadata": {},
     "output_type": "execute_result"
    }
   ],
   "source": [
    "x_test_df['cluster'].unique()"
   ]
  },
  {
   "cell_type": "code",
   "execution_count": null,
   "metadata": {},
   "outputs": [
    {
     "data": {
      "application/vnd.microsoft.datawrangler.viewer.v0+json": {
       "columns": [
        {
         "name": "index",
         "rawType": "int64",
         "type": "integer"
        },
        {
         "name": "Symbol",
         "rawType": "object",
         "type": "string"
        },
        {
         "name": "Sector",
         "rawType": "object",
         "type": "string"
        }
       ],
       "ref": "8d961523-1a17-40ad-b1bd-722913f310df",
       "rows": [
        [
         "392883",
         "MSFT",
         "Technology"
        ],
        [
         "391663",
         "MSFT",
         "Technology"
        ],
        [
         "33740",
         "AMZN",
         "Consumer Cyclical"
        ],
        [
         "28107",
         "GOOG",
         "Communication Services"
        ],
        [
         "392244",
         "MSFT",
         "Technology"
        ],
        [
         "387380",
         "META",
         "Communication Services"
        ],
        [
         "26778",
         "GOOG",
         "Communication Services"
        ],
        [
         "32333",
         "AMZN",
         "Consumer Cyclical"
        ],
        [
         "394035",
         "MSFT",
         "Technology"
        ],
        [
         "412371",
         "NVDA",
         "Technology"
        ],
        [
         "33619",
         "AMZN",
         "Consumer Cyclical"
        ],
        [
         "27596",
         "GOOG",
         "Communication Services"
        ],
        [
         "391598",
         "MSFT",
         "Technology"
        ],
        [
         "33326",
         "AMZN",
         "Consumer Cyclical"
        ],
        [
         "24650",
         "GOOG",
         "Communication Services"
        ],
        [
         "35166",
         "AMZN",
         "Consumer Cyclical"
        ],
        [
         "32798",
         "AMZN",
         "Consumer Cyclical"
        ],
        [
         "386165",
         "META",
         "Communication Services"
        ],
        [
         "386930",
         "META",
         "Communication Services"
        ],
        [
         "392970",
         "MSFT",
         "Technology"
        ],
        [
         "386015",
         "META",
         "Communication Services"
        ],
        [
         "28136",
         "GOOG",
         "Communication Services"
        ],
        [
         "27274",
         "GOOG",
         "Communication Services"
        ],
        [
         "27719",
         "GOOG",
         "Communication Services"
        ],
        [
         "32373",
         "AMZN",
         "Consumer Cyclical"
        ],
        [
         "26896",
         "GOOG",
         "Communication Services"
        ],
        [
         "32370",
         "AMZN",
         "Consumer Cyclical"
        ],
        [
         "386974",
         "META",
         "Communication Services"
        ],
        [
         "34714",
         "AMZN",
         "Consumer Cyclical"
        ],
        [
         "394169",
         "MSFT",
         "Technology"
        ],
        [
         "394160",
         "MSFT",
         "Technology"
        ],
        [
         "27329",
         "GOOG",
         "Communication Services"
        ],
        [
         "393013",
         "MSFT",
         "Technology"
        ],
        [
         "34566",
         "AMZN",
         "Consumer Cyclical"
        ],
        [
         "391929",
         "MSFT",
         "Technology"
        ],
        [
         "34669",
         "AMZN",
         "Consumer Cyclical"
        ],
        [
         "394372",
         "MSFT",
         "Technology"
        ],
        [
         "25585",
         "GOOG",
         "Communication Services"
        ],
        [
         "385132",
         "META",
         "Communication Services"
        ],
        [
         "33052",
         "AMZN",
         "Consumer Cyclical"
        ],
        [
         "394237",
         "MSFT",
         "Technology"
        ],
        [
         "28269",
         "GOOG",
         "Communication Services"
        ],
        [
         "413657",
         "NVDA",
         "Technology"
        ],
        [
         "385567",
         "META",
         "Communication Services"
        ],
        [
         "412246",
         "NVDA",
         "Technology"
        ],
        [
         "32926",
         "AMZN",
         "Consumer Cyclical"
        ],
        [
         "394168",
         "MSFT",
         "Technology"
        ],
        [
         "28030",
         "GOOG",
         "Communication Services"
        ],
        [
         "33873",
         "AMZN",
         "Consumer Cyclical"
        ],
        [
         "28058",
         "GOOG",
         "Communication Services"
        ]
       ],
       "shape": {
        "columns": 2,
        "rows": 3738
       }
      },
      "text/html": [
       "<div>\n",
       "<style scoped>\n",
       "    .dataframe tbody tr th:only-of-type {\n",
       "        vertical-align: middle;\n",
       "    }\n",
       "\n",
       "    .dataframe tbody tr th {\n",
       "        vertical-align: top;\n",
       "    }\n",
       "\n",
       "    .dataframe thead th {\n",
       "        text-align: right;\n",
       "    }\n",
       "</style>\n",
       "<table border=\"1\" class=\"dataframe\">\n",
       "  <thead>\n",
       "    <tr style=\"text-align: right;\">\n",
       "      <th></th>\n",
       "      <th>Symbol</th>\n",
       "      <th>Sector</th>\n",
       "    </tr>\n",
       "  </thead>\n",
       "  <tbody>\n",
       "    <tr>\n",
       "      <th>392883</th>\n",
       "      <td>MSFT</td>\n",
       "      <td>Technology</td>\n",
       "    </tr>\n",
       "    <tr>\n",
       "      <th>391663</th>\n",
       "      <td>MSFT</td>\n",
       "      <td>Technology</td>\n",
       "    </tr>\n",
       "    <tr>\n",
       "      <th>33740</th>\n",
       "      <td>AMZN</td>\n",
       "      <td>Consumer Cyclical</td>\n",
       "    </tr>\n",
       "    <tr>\n",
       "      <th>28107</th>\n",
       "      <td>GOOG</td>\n",
       "      <td>Communication Services</td>\n",
       "    </tr>\n",
       "    <tr>\n",
       "      <th>392244</th>\n",
       "      <td>MSFT</td>\n",
       "      <td>Technology</td>\n",
       "    </tr>\n",
       "    <tr>\n",
       "      <th>...</th>\n",
       "      <td>...</td>\n",
       "      <td>...</td>\n",
       "    </tr>\n",
       "    <tr>\n",
       "      <th>387765</th>\n",
       "      <td>META</td>\n",
       "      <td>Communication Services</td>\n",
       "    </tr>\n",
       "    <tr>\n",
       "      <th>410975</th>\n",
       "      <td>NVDA</td>\n",
       "      <td>Technology</td>\n",
       "    </tr>\n",
       "    <tr>\n",
       "      <th>33216</th>\n",
       "      <td>AMZN</td>\n",
       "      <td>Consumer Cyclical</td>\n",
       "    </tr>\n",
       "    <tr>\n",
       "      <th>33752</th>\n",
       "      <td>AMZN</td>\n",
       "      <td>Consumer Cyclical</td>\n",
       "    </tr>\n",
       "    <tr>\n",
       "      <th>413608</th>\n",
       "      <td>NVDA</td>\n",
       "      <td>Technology</td>\n",
       "    </tr>\n",
       "  </tbody>\n",
       "</table>\n",
       "<p>3738 rows × 2 columns</p>\n",
       "</div>"
      ],
      "text/plain": [
       "       Symbol                  Sector\n",
       "392883   MSFT              Technology\n",
       "391663   MSFT              Technology\n",
       "33740    AMZN       Consumer Cyclical\n",
       "28107    GOOG  Communication Services\n",
       "392244   MSFT              Technology\n",
       "...       ...                     ...\n",
       "387765   META  Communication Services\n",
       "410975   NVDA              Technology\n",
       "33216    AMZN       Consumer Cyclical\n",
       "33752    AMZN       Consumer Cyclical\n",
       "413608   NVDA              Technology\n",
       "\n",
       "[3738 rows x 2 columns]"
      ]
     },
     "execution_count": 78,
     "metadata": {},
     "output_type": "execute_result"
    }
   ],
   "source": [
    "x_test_df[x_test_df['cluster'] == 1][['Symbol', 'Sector']]"
   ]
  },
  {
   "cell_type": "code",
   "execution_count": null,
   "metadata": {},
   "outputs": [
    {
     "data": {
      "application/vnd.microsoft.datawrangler.viewer.v0+json": {
       "columns": [
        {
         "name": "index",
         "rawType": "int64",
         "type": "integer"
        },
        {
         "name": "Symbol",
         "rawType": "object",
         "type": "string"
        },
        {
         "name": "Sector",
         "rawType": "object",
         "type": "string"
        }
       ],
       "ref": "85c70a94-45af-4221-8431-0a94cb5472f1",
       "rows": [
        [
         "456261",
         "PPG",
         "Basic Materials"
        ],
        [
         "176669",
         "DG",
         "Consumer Defensive"
        ],
        [
         "18009",
         "ALB",
         "Basic Materials"
        ],
        [
         "456539",
         "PPG",
         "Basic Materials"
        ],
        [
         "455680",
         "PPG",
         "Basic Materials"
        ],
        [
         "249826",
         "FRT",
         "Real Estate"
        ],
        [
         "117889",
         "CE",
         "Basic Materials"
        ],
        [
         "118412",
         "CE",
         "Basic Materials"
        ],
        [
         "90979",
         "BWA",
         "Consumer Cyclical"
        ],
        [
         "330021",
         "IFF",
         "Basic Materials"
        ],
        [
         "497116",
         "RVTY",
         "Healthcare"
        ],
        [
         "223722",
         "EQR",
         "Real Estate"
        ],
        [
         "207634",
         "ENPH",
         "Technology"
        ],
        [
         "463707",
         "PFG",
         "Financial Services"
        ],
        [
         "100569",
         "BLDR",
         "Industrials"
        ],
        [
         "566176",
         "VLO",
         "Energy"
        ],
        [
         "118102",
         "CE",
         "Basic Materials"
        ],
        [
         "417990",
         "ON",
         "Technology"
        ],
        [
         "329651",
         "IFF",
         "Basic Materials"
        ],
        [
         "196157",
         "EMN",
         "Basic Materials"
        ],
        [
         "119736",
         "CE",
         "Basic Materials"
        ],
        [
         "348473",
         "JBHT",
         "Industrials"
        ],
        [
         "466696",
         "PFG",
         "Financial Services"
        ],
        [
         "188995",
         "DHI",
         "Consumer Cyclical"
        ],
        [
         "328929",
         "IFF",
         "Basic Materials"
        ],
        [
         "110019",
         "KMX",
         "Consumer Cyclical"
        ],
        [
         "274308",
         "GIS",
         "Consumer Defensive"
        ],
        [
         "208491",
         "ENPH",
         "Technology"
        ],
        [
         "107666",
         "KMX",
         "Consumer Cyclical"
        ],
        [
         "463206",
         "PFG",
         "Financial Services"
        ],
        [
         "419086",
         "ON",
         "Technology"
        ],
        [
         "291483",
         "HSIC",
         "Healthcare"
        ],
        [
         "662",
         "AOS",
         "Industrials"
        ],
        [
         "191920",
         "DTE",
         "Utilities"
        ],
        [
         "107302",
         "KMX",
         "Consumer Cyclical"
        ],
        [
         "250085",
         "FRT",
         "Real Estate"
        ],
        [
         "206648",
         "ENPH",
         "Technology"
        ],
        [
         "356652",
         "K",
         "Consumer Defensive"
        ],
        [
         "187825",
         "DHI",
         "Consumer Cyclical"
        ],
        [
         "144484",
         "ED",
         "Utilities"
        ],
        [
         "119724",
         "CE",
         "Basic Materials"
        ],
        [
         "3275",
         "AOS",
         "Industrials"
        ],
        [
         "375016",
         "LKQ",
         "Consumer Cyclical"
        ],
        [
         "98982",
         "BLDR",
         "Industrials"
        ],
        [
         "17166",
         "ALB",
         "Basic Materials"
        ],
        [
         "593496",
         "WEC",
         "Utilities"
        ],
        [
         "198238",
         "EMN",
         "Basic Materials"
        ],
        [
         "514873",
         "SWK",
         "Industrials"
        ],
        [
         "374591",
         "LKQ",
         "Consumer Cyclical"
        ],
        [
         "615393",
         "XYL",
         "Industrials"
        ]
       ],
       "shape": {
        "columns": 2,
        "rows": 25537
       }
      },
      "text/html": [
       "<div>\n",
       "<style scoped>\n",
       "    .dataframe tbody tr th:only-of-type {\n",
       "        vertical-align: middle;\n",
       "    }\n",
       "\n",
       "    .dataframe tbody tr th {\n",
       "        vertical-align: top;\n",
       "    }\n",
       "\n",
       "    .dataframe thead th {\n",
       "        text-align: right;\n",
       "    }\n",
       "</style>\n",
       "<table border=\"1\" class=\"dataframe\">\n",
       "  <thead>\n",
       "    <tr style=\"text-align: right;\">\n",
       "      <th></th>\n",
       "      <th>Symbol</th>\n",
       "      <th>Sector</th>\n",
       "    </tr>\n",
       "  </thead>\n",
       "  <tbody>\n",
       "    <tr>\n",
       "      <th>456261</th>\n",
       "      <td>PPG</td>\n",
       "      <td>Basic Materials</td>\n",
       "    </tr>\n",
       "    <tr>\n",
       "      <th>176669</th>\n",
       "      <td>DG</td>\n",
       "      <td>Consumer Defensive</td>\n",
       "    </tr>\n",
       "    <tr>\n",
       "      <th>18009</th>\n",
       "      <td>ALB</td>\n",
       "      <td>Basic Materials</td>\n",
       "    </tr>\n",
       "    <tr>\n",
       "      <th>456539</th>\n",
       "      <td>PPG</td>\n",
       "      <td>Basic Materials</td>\n",
       "    </tr>\n",
       "    <tr>\n",
       "      <th>455680</th>\n",
       "      <td>PPG</td>\n",
       "      <td>Basic Materials</td>\n",
       "    </tr>\n",
       "    <tr>\n",
       "      <th>...</th>\n",
       "      <td>...</td>\n",
       "      <td>...</td>\n",
       "    </tr>\n",
       "    <tr>\n",
       "      <th>593313</th>\n",
       "      <td>WEC</td>\n",
       "      <td>Utilities</td>\n",
       "    </tr>\n",
       "    <tr>\n",
       "      <th>81974</th>\n",
       "      <td>BBY</td>\n",
       "      <td>Consumer Cyclical</td>\n",
       "    </tr>\n",
       "    <tr>\n",
       "      <th>52324</th>\n",
       "      <td>ADM</td>\n",
       "      <td>Consumer Defensive</td>\n",
       "    </tr>\n",
       "    <tr>\n",
       "      <th>278750</th>\n",
       "      <td>GPN</td>\n",
       "      <td>Industrials</td>\n",
       "    </tr>\n",
       "    <tr>\n",
       "      <th>451330</th>\n",
       "      <td>PNW</td>\n",
       "      <td>Utilities</td>\n",
       "    </tr>\n",
       "  </tbody>\n",
       "</table>\n",
       "<p>25537 rows × 2 columns</p>\n",
       "</div>"
      ],
      "text/plain": [
       "       Symbol              Sector\n",
       "456261    PPG     Basic Materials\n",
       "176669     DG  Consumer Defensive\n",
       "18009     ALB     Basic Materials\n",
       "456539    PPG     Basic Materials\n",
       "455680    PPG     Basic Materials\n",
       "...       ...                 ...\n",
       "593313    WEC           Utilities\n",
       "81974     BBY   Consumer Cyclical\n",
       "52324     ADM  Consumer Defensive\n",
       "278750    GPN         Industrials\n",
       "451330    PNW           Utilities\n",
       "\n",
       "[25537 rows x 2 columns]"
      ]
     },
     "execution_count": 79,
     "metadata": {},
     "output_type": "execute_result"
    }
   ],
   "source": [
    "x_test_df[x_test_df['cluster'] == 3][['Symbol', 'Sector']]"
   ]
  },
  {
   "cell_type": "code",
   "execution_count": null,
   "metadata": {},
   "outputs": [
    {
     "data": {
      "image/png": "[encoded data removed]",
      "text/plain": [
       "<Figure size 1000x600 with 2 Axes>"
      ]
     },
     "metadata": {},
     "output_type": "display_data"
    }
   ],
   "source": [
    "test_cluster_summary = x_test_df.groupby('cluster')[num_features].mean().reset_index()\n",
    "# Heat map of feature averages by cluster\n",
    "plt.figure(figsize=(10, 6))\n",
    "sns.heatmap(test_cluster_summary[num_features], annot=True, cmap='coolwarm', center=0)\n",
    "plt.title('Heatmap of Feature Averages by Cluster')\n",
    "plt.xlabel('Feature')\n",
    "plt.ylabel('Cluster')\n",
    "plt.tight_layout()\n",
    "plt.show()"
   ]
  },
  {
   "cell_type": "markdown",
   "metadata": {},
   "source": [
    "## Conclusion\n",
    "\n",
    "The silhoutte score indicates that the clusterse are reasonably good though there are some overlaps.\n",
    "\n",
    "The clusters provide a good investment strategies for customers. \n",
    "\n",
    "**Cluster 0:**    \n",
    "Steady Performers   \n",
    "Business Insight: Suitable for balanced investment strategies seeking consistency\n",
    "\n",
    "**Cluster 1**:  \n",
    "Market Giants    \n",
    "Business Insight: Blue-chip, high-cap firms. Ideal for core holdings and low-risk institutional investing.\n",
    "\n",
    "**Cluster 2**:   \n",
    "Over valued stocks with weak foundation   \n",
    "Business Insight: Caution advised on trading these stocks\n",
    "\n",
    "**Cluster 3**:   \n",
    "Low value, Low growth stocks   \n",
    "Business Insight: may be good for short team. These are distressed stocks not advisable for long term investing.\n",
    "\n",
    "**Cluster 4**:   \n",
    "Average/Neutral performers  \n",
    "Business Insight: Considered safe stocks but not exciting. "
   ]
  },
  {
   "cell_type": "markdown",
   "metadata": {},
   "source": [
    "# Quantitative Models for Stock Outperformance"
   ]
  },
  {
   "cell_type": "code",
   "execution_count": null,
   "metadata": {},
   "outputs": [
    {
     "name": "stdout",
     "output_type": "stream",
     "text": [
      "\n",
      " Adding Month and Date for Index data.\n"
     ]
    }
   ],
   "source": [
    "def de_index(df):\n",
    "    print(\"\\n Adding Month and Date for Index data.\")\n",
    "    df['Month'] = df['Date'].astype(str).str[:7]\n",
    "    df['Year'] = df['Date'].astype(str).str[:4]\n",
    "    df['Daily Return'] = (df['S&P500'] / df['S&P500'].shift(1)) - 1\n",
    "    return df\n",
    "\n",
    "df_sp500_index = de_index(df_sp500_index)"
   ]
  },
  {
   "cell_type": "code",
   "execution_count": null,
   "metadata": {},
   "outputs": [
    {
     "name": "stdout",
     "output_type": "stream",
     "text": [
      "\n",
      " ******************** Cleaning: S&P500 Index ********************\n",
      "Rows before cleanup: 2517\n",
      "Rows after cleanup: 2516\n",
      "Percentage of rows removed: 0.04%\n",
      "\n",
      " ******************** Cleaning: S&P500 Stocks ********************\n",
      "Rows before cleanup: 617831\n",
      "Rows after cleanup: 540645\n",
      "Percentage of rows removed: 12.49%\n"
     ]
    }
   ],
   "source": [
    "def remove_empty_or_nan_rows(df, name=\"DataFrame\"):\n",
    "    print(f\"\\n ******************** Cleaning: {name} ********************\")\n",
    "\n",
    "    rows_before = df.shape[0]\n",
    "    print(f\"Rows before cleanup: {rows_before}\")\n",
    "\n",
    "    # Replace blank strings with NaN and drop rows with any NaN\n",
    "    df_cleaned = df.replace(r'^\\s*$', np.nan, regex=True)\n",
    "    df_cleaned = df_cleaned.dropna(how='any')\n",
    "    df_cleaned = df_cleaned.reset_index(drop=True)\n",
    "\n",
    "    rows_after = df_cleaned.shape[0]\n",
    "    print(f\"Rows after cleanup: {rows_after}\")\n",
    "\n",
    "    # Calculate and print % of rows dropped\n",
    "    rows_dropped = rows_before - rows_after\n",
    "    percent_dropped = (rows_dropped / rows_before) * 100 if rows_before > 0 else 0\n",
    "    print(f\"Percentage of rows removed: {percent_dropped:.2f}%\")\n",
    "\n",
    "    return df_cleaned\n",
    "\n",
    "df_sp500_index = remove_empty_or_nan_rows(df_sp500_index, \"S&P500 Index\")\n",
    "df_companies_and_stock = remove_empty_or_nan_rows(df_stock_compeny_master, \"S&P500 Stocks\")\n"
   ]
  },
  {
   "cell_type": "code",
   "execution_count": null,
   "metadata": {},
   "outputs": [
    {
     "name": "stdout",
     "output_type": "stream",
     "text": [
      "Dropped 115937 rows.\n"
     ]
    }
   ],
   "source": [
    "initial_rows = len(df_companies_and_stock)\n",
    "df_companies_and_stock = df_companies_and_stock[\n",
    "    (df_companies_and_stock['Revenuegrowth'] >= 0) &\n",
    "    (df_companies_and_stock['Ebitda'] >= 0)\n",
    "]\n",
    "print(f\"Dropped {initial_rows - len(df_companies_and_stock)} rows.\")\n",
    "\n",
    "def apply_log1p_transform(df, columns, inplace=True):\n",
    "    if not inplace:\n",
    "        df = df.copy()\n",
    "\n",
    "    for col in columns:\n",
    "        new_col = f\"log1p_{col}\"\n",
    "        df.loc[:, new_col] = np.log1p(df[col])  # safer assignment\n",
    "\n",
    "    return df\n",
    "\n",
    "df_companies_and_stock = apply_log1p_transform(df_companies_and_stock, ['Revenuegrowth', 'Ebitda'])"
   ]
  },
  {
   "cell_type": "code",
   "execution_count": null,
   "metadata": {},
   "outputs": [],
   "source": [
    "\n",
    "def apply_log1p_transform(df, columns, inplace=True):\n",
    "    if not inplace:\n",
    "        df = df.copy()\n",
    "\n",
    "    for col in columns:\n",
    "        new_col = f\"log1p_{col}\"\n",
    "        df[new_col] = np.log1p(df[col])\n",
    "\n",
    "    return df\n",
    "\n",
    "df_companies_and_stock = apply_log1p_transform(df_companies_and_stock, ['Revenuegrowth', 'Ebitda'])\n",
    "\n",
    "# Merge index data\n",
    "df_quantative_ml = pd.merge(df_companies_and_stock, df_sp500_index[['Date', 'S&P500', 'Daily Return']],\n",
    "              on='Date', how='inner')\n",
    "\n",
    "# Sort by Symbol and Date\n",
    "df_quantative_ml.sort_values([\"Symbol\", \"Date\"], inplace=True)"
   ]
  },
  {
   "cell_type": "code",
   "execution_count": null,
   "metadata": {},
   "outputs": [
    {
     "data": {
      "text/html": [
       "<div>\n",
       "<style scoped>\n",
       "    .dataframe tbody tr th:only-of-type {\n",
       "        vertical-align: middle;\n",
       "    }\n",
       "\n",
       "    .dataframe tbody tr th {\n",
       "        vertical-align: top;\n",
       "    }\n",
       "\n",
       "    .dataframe thead th {\n",
       "        text-align: right;\n",
       "    }\n",
       "</style>\n",
       "<table border=\"1\" class=\"dataframe\">\n",
       "  <thead>\n",
       "    <tr style=\"text-align: right;\">\n",
       "      <th></th>\n",
       "      <th>Date</th>\n",
       "      <th>Symbol</th>\n",
       "      <th>Adj Close</th>\n",
       "      <th>Close</th>\n",
       "      <th>High</th>\n",
       "      <th>Low</th>\n",
       "      <th>Open</th>\n",
       "      <th>Volume</th>\n",
       "      <th>Exchange</th>\n",
       "      <th>Shortname</th>\n",
       "      <th>...</th>\n",
       "      <th>City</th>\n",
       "      <th>State</th>\n",
       "      <th>Country</th>\n",
       "      <th>Fulltimeemployees</th>\n",
       "      <th>Longbusinesssummary</th>\n",
       "      <th>Weight</th>\n",
       "      <th>log1p_Revenuegrowth</th>\n",
       "      <th>log1p_Ebitda</th>\n",
       "      <th>S&amp;P500</th>\n",
       "      <th>Daily Return</th>\n",
       "    </tr>\n",
       "  </thead>\n",
       "  <tbody>\n",
       "    <tr>\n",
       "      <th>2516</th>\n",
       "      <td>2014-12-23</td>\n",
       "      <td>ABBV</td>\n",
       "      <td>42.545006</td>\n",
       "      <td>64.349998</td>\n",
       "      <td>67.320000</td>\n",
       "      <td>64.019997</td>\n",
       "      <td>67.230003</td>\n",
       "      <td>12123000.0</td>\n",
       "      <td>NYQ</td>\n",
       "      <td>AbbVie Inc.</td>\n",
       "      <td>...</td>\n",
       "      <td>North Chicago</td>\n",
       "      <td>IL</td>\n",
       "      <td>United States</td>\n",
       "      <td>50000.0</td>\n",
       "      <td>AbbVie Inc. discovers, develops, manufactures,...</td>\n",
       "      <td>0.005582</td>\n",
       "      <td>0.037296</td>\n",
       "      <td>23.967029</td>\n",
       "      <td>2082.17</td>\n",
       "      <td>0.001746</td>\n",
       "    </tr>\n",
       "    <tr>\n",
       "      <th>2517</th>\n",
       "      <td>2014-12-24</td>\n",
       "      <td>ABBV</td>\n",
       "      <td>43.774754</td>\n",
       "      <td>66.209999</td>\n",
       "      <td>66.949997</td>\n",
       "      <td>64.750000</td>\n",
       "      <td>64.750000</td>\n",
       "      <td>4705500.0</td>\n",
       "      <td>NYQ</td>\n",
       "      <td>AbbVie Inc.</td>\n",
       "      <td>...</td>\n",
       "      <td>North Chicago</td>\n",
       "      <td>IL</td>\n",
       "      <td>United States</td>\n",
       "      <td>50000.0</td>\n",
       "      <td>AbbVie Inc. discovers, develops, manufactures,...</td>\n",
       "      <td>0.005582</td>\n",
       "      <td>0.037296</td>\n",
       "      <td>23.967029</td>\n",
       "      <td>2081.88</td>\n",
       "      <td>-0.000139</td>\n",
       "    </tr>\n",
       "    <tr>\n",
       "      <th>2518</th>\n",
       "      <td>2014-12-26</td>\n",
       "      <td>ABBV</td>\n",
       "      <td>44.283840</td>\n",
       "      <td>66.980003</td>\n",
       "      <td>67.239998</td>\n",
       "      <td>66.510002</td>\n",
       "      <td>66.510002</td>\n",
       "      <td>4158200.0</td>\n",
       "      <td>NYQ</td>\n",
       "      <td>AbbVie Inc.</td>\n",
       "      <td>...</td>\n",
       "      <td>North Chicago</td>\n",
       "      <td>IL</td>\n",
       "      <td>United States</td>\n",
       "      <td>50000.0</td>\n",
       "      <td>AbbVie Inc. discovers, develops, manufactures,...</td>\n",
       "      <td>0.005582</td>\n",
       "      <td>0.037296</td>\n",
       "      <td>23.967029</td>\n",
       "      <td>2088.77</td>\n",
       "      <td>0.003310</td>\n",
       "    </tr>\n",
       "    <tr>\n",
       "      <th>2519</th>\n",
       "      <td>2014-12-29</td>\n",
       "      <td>ABBV</td>\n",
       "      <td>44.389626</td>\n",
       "      <td>67.139999</td>\n",
       "      <td>67.370003</td>\n",
       "      <td>66.419998</td>\n",
       "      <td>66.580002</td>\n",
       "      <td>3872800.0</td>\n",
       "      <td>NYQ</td>\n",
       "      <td>AbbVie Inc.</td>\n",
       "      <td>...</td>\n",
       "      <td>North Chicago</td>\n",
       "      <td>IL</td>\n",
       "      <td>United States</td>\n",
       "      <td>50000.0</td>\n",
       "      <td>AbbVie Inc. discovers, develops, manufactures,...</td>\n",
       "      <td>0.005582</td>\n",
       "      <td>0.037296</td>\n",
       "      <td>23.967029</td>\n",
       "      <td>2090.57</td>\n",
       "      <td>0.000862</td>\n",
       "    </tr>\n",
       "    <tr>\n",
       "      <th>2520</th>\n",
       "      <td>2014-12-30</td>\n",
       "      <td>ABBV</td>\n",
       "      <td>43.834248</td>\n",
       "      <td>66.300003</td>\n",
       "      <td>67.160004</td>\n",
       "      <td>66.019997</td>\n",
       "      <td>66.769997</td>\n",
       "      <td>5568800.0</td>\n",
       "      <td>NYQ</td>\n",
       "      <td>AbbVie Inc.</td>\n",
       "      <td>...</td>\n",
       "      <td>North Chicago</td>\n",
       "      <td>IL</td>\n",
       "      <td>United States</td>\n",
       "      <td>50000.0</td>\n",
       "      <td>AbbVie Inc. discovers, develops, manufactures,...</td>\n",
       "      <td>0.005582</td>\n",
       "      <td>0.037296</td>\n",
       "      <td>23.967029</td>\n",
       "      <td>2080.35</td>\n",
       "      <td>-0.004889</td>\n",
       "    </tr>\n",
       "  </tbody>\n",
       "</table>\n",
       "<p>5 rows × 27 columns</p>\n",
       "</div>"
      ],
      "text/plain": [
       "           Date Symbol  Adj Close      Close       High        Low       Open  \\\n",
       "2516 2014-12-23   ABBV  42.545006  64.349998  67.320000  64.019997  67.230003   \n",
       "2517 2014-12-24   ABBV  43.774754  66.209999  66.949997  64.750000  64.750000   \n",
       "2518 2014-12-26   ABBV  44.283840  66.980003  67.239998  66.510002  66.510002   \n",
       "2519 2014-12-29   ABBV  44.389626  67.139999  67.370003  66.419998  66.580002   \n",
       "2520 2014-12-30   ABBV  43.834248  66.300003  67.160004  66.019997  66.769997   \n",
       "\n",
       "          Volume Exchange    Shortname  ...           City State  \\\n",
       "2516  12123000.0      NYQ  AbbVie Inc.  ...  North Chicago    IL   \n",
       "2517   4705500.0      NYQ  AbbVie Inc.  ...  North Chicago    IL   \n",
       "2518   4158200.0      NYQ  AbbVie Inc.  ...  North Chicago    IL   \n",
       "2519   3872800.0      NYQ  AbbVie Inc.  ...  North Chicago    IL   \n",
       "2520   5568800.0      NYQ  AbbVie Inc.  ...  North Chicago    IL   \n",
       "\n",
       "            Country  Fulltimeemployees  \\\n",
       "2516  United States            50000.0   \n",
       "2517  United States            50000.0   \n",
       "2518  United States            50000.0   \n",
       "2519  United States            50000.0   \n",
       "2520  United States            50000.0   \n",
       "\n",
       "                                    Longbusinesssummary    Weight  \\\n",
       "2516  AbbVie Inc. discovers, develops, manufactures,...  0.005582   \n",
       "2517  AbbVie Inc. discovers, develops, manufactures,...  0.005582   \n",
       "2518  AbbVie Inc. discovers, develops, manufactures,...  0.005582   \n",
       "2519  AbbVie Inc. discovers, develops, manufactures,...  0.005582   \n",
       "2520  AbbVie Inc. discovers, develops, manufactures,...  0.005582   \n",
       "\n",
       "      log1p_Revenuegrowth log1p_Ebitda   S&P500 Daily Return  \n",
       "2516             0.037296    23.967029  2082.17     0.001746  \n",
       "2517             0.037296    23.967029  2081.88    -0.000139  \n",
       "2518             0.037296    23.967029  2088.77     0.003310  \n",
       "2519             0.037296    23.967029  2090.57     0.000862  \n",
       "2520             0.037296    23.967029  2080.35    -0.004889  \n",
       "\n",
       "[5 rows x 27 columns]"
      ]
     },
     "execution_count": 67,
     "metadata": {},
     "output_type": "execute_result"
    }
   ],
   "source": [
    "df_quantative_ml.head()"
   ]
  },
  {
   "cell_type": "code",
   "execution_count": null,
   "metadata": {},
   "outputs": [],
   "source": [
    "def dataEngineeringForQuantativeMl(df):\n",
    "    df['Return'] = df.groupby('Symbol')['Adj Close'].pct_change()\n",
    "\n",
    "    # 20-day rolling volatility (stock)\n",
    "    df['Volatility'] = df.groupby('Symbol')['Return'].rolling(20).std().reset_index(0, drop=True)\n",
    "\n",
    "    # 20-day simple moving average (stock)\n",
    "    df['SMA_20'] = df.groupby('Symbol')['Adj Close'].rolling(20).mean().reset_index(0, drop=True)\n",
    "\n",
    "    # 20-day momentum (price change over 20 days)\n",
    "    df['Momentum_20'] = df.groupby('Symbol')['Adj Close'].pct_change(20)\n",
    "\n",
    "    # Lag features to prevent data leakage\n",
    "    df['Volatility_Lag'] = df.groupby('Symbol')['Volatility'].shift(1)\n",
    "    df['Momentum_20_Lag'] = df.groupby('Symbol')['Momentum_20'].shift(1)\n",
    "    df['Return_Lag'] = df.groupby('Symbol')['Return'].shift(1)\n",
    "\n",
    "    # 20 days moving average\n",
    "    df['SMA_20'] = df.groupby('Symbol')['Adj Close'].transform(lambda x: x.rolling(window=20).mean())\n",
    "\n",
    "    # Fill NA for fundamentals\n",
    "    fundamental_features = ['Marketcap', 'Revenuegrowth', 'Ebitda', 'SMA_20', ]\n",
    "    df[fundamental_features] = df[fundamental_features].fillna(0)\n",
    "\n",
    "    # Drop rows with missing values\n",
    "    df.dropna(inplace=True)\n",
    "\n",
    "     # A. Volatility Classification Target (High vs Low risk)\n",
    "    vol_thresh = df.groupby('Date')['Volatility_Lag'].transform(lambda x: x.quantile(0.7))\n",
    "    df['RiskClass'] = (df['Volatility_Lag'] > vol_thresh).astype(int)\n",
    "\n",
    "    # B. Outperformance Classification Target (compare stock return to index daily return)\n",
    "    df['Outperformer'] = (df['Return'] > df['Daily Return']).astype(int)\n",
    "    df['DateInt'] = df['Date'].astype(np.int64)\n",
    "\n",
    "    return df\n",
    "\n",
    "df_quantative_ml = dataEngineeringForQuantativeMl(df_quantative_ml)\n"
   ]
  },
  {
   "cell_type": "code",
   "execution_count": null,
   "metadata": {},
   "outputs": [],
   "source": [
    "def splitData(df):\n",
    "    df['DateInt'] = df['Date'].astype(np.int64)\n",
    "    split_point = df['DateInt'].quantile(0.8)\n",
    "\n",
    "    train = df[df['DateInt'] <= split_point]\n",
    "    test = df[df['DateInt'] > split_point]\n",
    "    return test, train\n",
    "\n",
    "test, train = splitData(df_quantative_ml)"
   ]
  },
  {
   "cell_type": "code",
   "execution_count": null,
   "metadata": {},
   "outputs": [],
   "source": [
    "def scaleData(test, train):\n",
    "    feature_cols = [\"Return\", \"Volatility\", \"Momentum_20\", \"SMA_20\", \"Marketcap\", \"Revenuegrowth\", \"Ebitda\", \"Currentprice\"]\n",
    "\n",
    "    # Scale features\n",
    "    scaler = StandardScaler()\n",
    "    X_train = scaler.fit_transform(train[feature_cols])\n",
    "    X_test = scaler.transform(test[feature_cols])\n",
    "\n",
    "    # Targets\n",
    "    y_train_risk = train['RiskClass']\n",
    "    y_test_risk = test['RiskClass']\n",
    "\n",
    "    y_train_perf = train['Outperformer']\n",
    "    y_test_perf = test['Outperformer']\n",
    "\n",
    "    return X_train, X_test, y_train_risk, y_test_risk, y_train_perf, y_test_perf, feature_cols\n",
    "\n",
    "X_train, X_test, y_train_risk, y_test_risk, y_train_perf, y_test_perf, feature_cols = scaleData(test, train)"
   ]
  },
  {
   "cell_type": "code",
   "execution_count": null,
   "metadata": {},
   "outputs": [
    {
     "name": "stdout",
     "output_type": "stream",
     "text": [
      "(231789, 8) (231789,)\n",
      "(57870, 8) (57870,)\n"
     ]
    }
   ],
   "source": [
    "print(X_train.shape, y_train_perf.shape)\n",
    "print(X_test.shape, y_test_perf.shape)"
   ]
  },
  {
   "cell_type": "code",
   "execution_count": null,
   "metadata": {},
   "outputs": [],
   "source": [
    "def train_and_evaluate(model, X_train, y_train, X_test, y_test, model_name=\"Model\"):\n",
    "    # Fit the model\n",
    "    model.fit(X_train, y_train)\n",
    "\n",
    "    # Predict labels and probabilities\n",
    "    y_pred = model.predict(X_test)\n",
    "    y_proba = model.predict_proba(X_test)[:, 1]  # probability for class 1\n",
    "\n",
    "    # Evaluation metrics\n",
    "    print(f\"{model_name} Performance\")\n",
    "    print(\"Accuracy:\", accuracy_score(y_test, y_pred))\n",
    "    print(\"AUC Score:\", roc_auc_score(y_test, y_proba))\n",
    "\n",
    "    # Confusion Matrix\n",
    "    cm = confusion_matrix(y_test, y_pred)\n",
    "    print(\"Confusion Matrix:\\n\", cm)\n",
    "\n",
    "    # Classification Report\n",
    "    print(\"Classification Report:\\n\", classification_report(y_test, y_pred))\n",
    "\n",
    "    return y_pred, y_proba"
   ]
  },
  {
   "cell_type": "code",
   "execution_count": null,
   "metadata": {},
   "outputs": [
    {
     "name": "stdout",
     "output_type": "stream",
     "text": [
      "XGBoost model Performance\n",
      "Accuracy: 0.8035424226715051\n",
      "AUC Score: 0.8788092002878367\n",
      "Confusion Matrix:\n",
      " [[23124  6116]\n",
      " [ 5253 23377]]\n",
      "Classification Report:\n",
      "               precision    recall  f1-score   support\n",
      "\n",
      "           0       0.81      0.79      0.80     29240\n",
      "           1       0.79      0.82      0.80     28630\n",
      "\n",
      "    accuracy                           0.80     57870\n",
      "   macro avg       0.80      0.80      0.80     57870\n",
      "weighted avg       0.80      0.80      0.80     57870\n",
      "\n"
     ]
    }
   ],
   "source": [
    "perf_model = XGBClassifier(n_estimators=100, random_state=42)\n",
    "perf_pred, perf_proba = train_and_evaluate(\n",
    "    perf_model,\n",
    "    X_train,\n",
    "    y_train_perf,\n",
    "    X_test,\n",
    "    y_test_perf,\n",
    "    model_name=\"XGBoost model\"\n",
    ")"
   ]
  },
  {
   "cell_type": "code",
   "execution_count": null,
   "metadata": {},
   "outputs": [],
   "source": [
    "# Confusion matrix heatmap function\n",
    "def plot_confusion_matrix(y_true, y_pred, labels=None, title=\"Confusion Matrix\"):\n",
    "    cm = confusion_matrix(y_true, y_pred)\n",
    "    plt.figure(figsize=(6, 5))\n",
    "    sns.heatmap(cm, annot=True, fmt='d', cmap='Blues',\n",
    "                xticklabels=labels, yticklabels=labels)\n",
    "    plt.xlabel('Predicted Label')\n",
    "    plt.ylabel('True Label')\n",
    "    plt.title(title)\n",
    "    plt.tight_layout()\n",
    "    plt.show()"
   ]
  },
  {
   "cell_type": "code",
   "execution_count": null,
   "metadata": {},
   "outputs": [],
   "source": [
    "def print_confusion_metrics(y_true, y_pred):\n",
    "    precision = precision_score(y_true, y_pred)\n",
    "    recall = recall_score(y_true, y_pred)\n",
    "    f1 = f1_score(y_true, y_pred)\n",
    "    accuracy = accuracy_score(y_true, y_pred)\n",
    "\n",
    "    print(f\"Accuracy: {accuracy:.2f}\")\n",
    "    print(f\"Precision: {precision:.2f}\")\n",
    "    print(f\"Recall: {recall:.2f}\")\n",
    "    print(f\"F1 Score: {f1:.2f}\")"
   ]
  },
  {
   "cell_type": "code",
   "execution_count": null,
   "metadata": {},
   "outputs": [
    {
     "data": {
      "image/png": "[encoded data removed]",
      "text/plain": [
       "<Figure size 600x500 with 2 Axes>"
      ]
     },
     "metadata": {},
     "output_type": "display_data"
    },
    {
     "name": "stdout",
     "output_type": "stream",
     "text": [
      "Accuracy: 0.80\n",
      "Precision: 0.79\n",
      "Recall: 0.82\n",
      "F1 Score: 0.80\n"
     ]
    }
   ],
   "source": [
    "# Compute confusion matrix\n",
    "plot_confusion_matrix(\n",
    "    y_test_perf,\n",
    "    perf_pred,\n",
    "    labels=[\"Underperformer\", \"Outperformer\"],\n",
    "    title=\"XGBoost model - Confusion Matrix\"\n",
    ")\n",
    "\n",
    "print_confusion_metrics(y_test_perf, perf_pred)"
   ]
  },
  {
   "cell_type": "code",
   "execution_count": null,
   "metadata": {},
   "outputs": [
    {
     "data": {
      "image/png": "[encoded data removed]",
      "text/plain": [
       "<Figure size 1000x500 with 1 Axes>"
      ]
     },
     "metadata": {},
     "output_type": "display_data"
    }
   ],
   "source": [
    "plt.figure(figsize=(10,5))\n",
    "sns.barplot(x=feature_cols, y=perf_model.feature_importances_)\n",
    "plt.title(\"XGBoost Model Feature Importance\")\n",
    "plt.show()"
   ]
  },
  {
   "cell_type": "code",
   "execution_count": null,
   "metadata": {},
   "outputs": [],
   "source": [
    "def dataEngineeringFor20DayPrediction(df):\n",
    "    df['10d_return'] = df.groupby('Symbol')['Adj Close'].pct_change(10)\n",
    "    df['Outperformer'] = (df['10d_return'] > df['10d_return'].median()).astype(int)\n",
    "    # Calculate 20-day stock return\n",
    "    df['Return_20d'] = df.groupby('Symbol')['Adj Close'].pct_change(20)\n",
    "\n",
    "    # Calculate 20-day index return\n",
    "    df['Index_Return_20d'] = df['S&P500'].pct_change(20)\n",
    "\n",
    "    # Create the outperformer target:\n",
    "    # If stock return > index return over same 20-day window\n",
    "    df['Outperformer_20d'] = (df['Return_20d'] > df['Index_Return_20d']).astype(int)\n",
    "    df['DateInt'] = df['Date'].astype(np.int64)\n",
    "    return df\n",
    "\n",
    "df_quantative_ml = dataEngineeringFor20DayPrediction(df_quantative_ml)"
   ]
  },
  {
   "cell_type": "code",
   "execution_count": null,
   "metadata": {},
   "outputs": [],
   "source": [
    "test, train = splitData(df_quantative_ml)"
   ]
  },
  {
   "cell_type": "code",
   "execution_count": null,
   "metadata": {},
   "outputs": [],
   "source": [
    "def scaleDataFor20Day(test, train):\n",
    "    feature_cols = [\"Return\", \"Volatility\", \"Momentum_20\", \"SMA_20\", \"Marketcap\", \"Revenuegrowth\", \"Ebitda\", \"Currentprice\"]\n",
    "\n",
    "    # Scale features\n",
    "    scaler = StandardScaler()\n",
    "    X_train = scaler.fit_transform(train[feature_cols])\n",
    "    X_test = scaler.transform(test[feature_cols])\n",
    "\n",
    "    # Targets: 20-day Outperformance\n",
    "    y_train = train['Outperformer_20d']\n",
    "    y_test = test['Outperformer_20d']\n",
    "\n",
    "    return X_train, X_test, y_train, y_test, feature_cols\n",
    "\n",
    "X_train, X_test, y_train, y_test, feature_cols = scaleDataFor20Day(test, train)"
   ]
  },
  {
   "cell_type": "code",
   "execution_count": null,
   "metadata": {},
   "outputs": [
    {
     "name": "stdout",
     "output_type": "stream",
     "text": [
      "XGBoost Performance\n",
      "Accuracy: 0.8284603421461897\n",
      "AUC Score: 0.9183769083339695\n",
      "Confusion Matrix:\n",
      " [[23569  6308]\n",
      " [ 3619 24374]]\n",
      "Classification Report:\n",
      "               precision    recall  f1-score   support\n",
      "\n",
      "           0       0.87      0.79      0.83     29877\n",
      "           1       0.79      0.87      0.83     27993\n",
      "\n",
      "    accuracy                           0.83     57870\n",
      "   macro avg       0.83      0.83      0.83     57870\n",
      "weighted avg       0.83      0.83      0.83     57870\n",
      "\n",
      "Accuracy: 0.83\n",
      "Precision: 0.79\n",
      "Recall: 0.87\n",
      "F1 Score: 0.83\n"
     ]
    },
    {
     "data": {
      "text/plain": [
       "['..\\\\saved_models\\\\XGBClassifier.pkl']"
      ]
     },
     "execution_count": 81,
     "metadata": {},
     "output_type": "execute_result"
    }
   ],
   "source": [
    "# Train and evaluate the XGBoost model 2\n",
    "model = XGBClassifier(n_estimators=100, random_state=42)\n",
    "\n",
    "y_pred, y_pred_proba = train_and_evaluate(\n",
    "    model,\n",
    "    X_train,\n",
    "    y_train,\n",
    "    X_test,\n",
    "    y_test,\n",
    "    model_name=\"XGBoost\"\n",
    ")\n",
    "\n",
    "# Confusion matrix\n",
    "print_confusion_metrics(y_test, y_pred)\n",
    "\n",
    "# Save each KMeans model with the cluster count in the filename\n",
    "model_path = os.path.join(SAVED_MODEL_DIR, 'XGBClassifier.pkl')\n",
    "joblib.dump(model, model_path)"
   ]
  },
  {
   "cell_type": "code",
   "execution_count": null,
   "metadata": {},
   "outputs": [
    {
     "data": {
      "image/png": "[encoded data removed]",
      "text/plain": [
       "<Figure size 600x500 with 2 Axes>"
      ]
     },
     "metadata": {},
     "output_type": "display_data"
    }
   ],
   "source": [
    "plot_confusion_matrix(y_test, y_pred, labels=[\"Class 0\", \"Class 1\"], title=\"XGBoost Confusion Matrix\")\n"
   ]
  },
  {
   "cell_type": "code",
   "execution_count": null,
   "metadata": {},
   "outputs": [
    {
     "data": {
      "image/png": "[encoded data removed]",
      "text/plain": [
       "<Figure size 600x500 with 1 Axes>"
      ]
     },
     "metadata": {},
     "output_type": "display_data"
    }
   ],
   "source": [
    "#Ploting the curve function\n",
    "def plot_roc_curve(y_test, y_proba, label=\"Model\"):\n",
    "    # Check if y_proba is available\n",
    "    if y_proba is None:\n",
    "        print(f\"ROC curve cannot be plotted for {label}: predict_proba not available.\")\n",
    "        return\n",
    "\n",
    "    fpr, tpr, _ = roc_curve(y_test, y_proba)\n",
    "    # Use the imported auc function from sklearn.metrics\n",
    "    roc_auc_value = auc(fpr, tpr) # This now correctly calls the imported function\n",
    "\n",
    "    plt.figure(figsize=(6, 5))\n",
    "    # Use the calculated scalar AUC value for the label\n",
    "    plt.plot(fpr, tpr, label=f\"{label} (AUC = {roc_auc_value:.2f})\")\n",
    "    plt.plot([0, 1], [0, 1], 'k--')\n",
    "    plt.xlabel(\"False Positive Rate\")\n",
    "    plt.ylabel(\"True Positive Rate\")\n",
    "    plt.title(\"ROC Curve\")\n",
    "    plt.legend(loc=\"lower right\")\n",
    "    plt.grid()\n",
    "    plt.tight_layout()\n",
    "    plt.show()\n",
    "\n",
    "plot_roc_curve(y_test, y_pred_proba, label=\"XGBoost\")"
   ]
  },
  {
   "cell_type": "markdown",
   "metadata": {},
   "source": [
    "# Hyperparameter tuning\n"
   ]
  },
  {
   "cell_type": "code",
   "execution_count": null,
   "metadata": {},
   "outputs": [],
   "source": [
    "df_quantative_ml = pd.get_dummies(df_quantative_ml, columns=['Sector', 'Industry'])"
   ]
  },
  {
   "cell_type": "code",
   "execution_count": null,
   "metadata": {},
   "outputs": [
    {
     "name": "stdout",
     "output_type": "stream",
     "text": [
      "['Date', 'Symbol', 'Adj Close', 'Close', 'High', 'Low', 'Open', 'Volume', 'Exchange', 'Shortname', 'Longname', 'Currentprice', 'Marketcap', 'Ebitda', 'Revenuegrowth', 'City', 'State', 'Country', 'Fulltimeemployees', 'Longbusinesssummary', 'Weight', 'log1p_Revenuegrowth', 'log1p_Ebitda', 'S&P500', 'Daily Return', 'Return', 'Volatility', 'SMA_20', 'Momentum_20', 'Volatility_Lag', 'Momentum_20_Lag', 'Return_Lag', 'RiskClass', 'Outperformer', 'DateInt', '10d_return', 'Return_20d', 'Index_Return_20d', 'Outperformer_20d', 'Sector_Basic Materials', 'Sector_Communication Services', 'Sector_Consumer Cyclical', 'Sector_Consumer Defensive', 'Sector_Energy', 'Sector_Financial Services', 'Sector_Healthcare', 'Sector_Industrials', 'Sector_Real Estate', 'Sector_Technology', 'Sector_Utilities', 'Industry_Advertising Agencies', 'Industry_Aerospace & Defense', 'Industry_Airlines', 'Industry_Apparel Retail', 'Industry_Asset Management', 'Industry_Auto Manufacturers', 'Industry_Auto Parts', 'Industry_Beverages - Brewers', 'Industry_Biotechnology', 'Industry_Communication Equipment', 'Industry_Computer Hardware', 'Industry_Consulting Services', 'Industry_Copper', 'Industry_Diagnostics & Research', 'Industry_Discount Stores', 'Industry_Drug Manufacturers - General', 'Industry_Electronic Components', 'Industry_Electronic Gaming & Multimedia', 'Industry_Engineering & Construction', 'Industry_Entertainment', 'Industry_Farm Products', 'Industry_Financial Data & Stock Exchanges', 'Industry_Household & Personal Products', 'Industry_Industrial Distribution', 'Industry_Insurance - Property & Casualty', 'Industry_Insurance Brokers', 'Industry_Integrated Freight & Logistics', 'Industry_Internet Content & Information', 'Industry_Internet Retail', 'Industry_Lodging', 'Industry_Medical Care Facilities', 'Industry_Medical Devices', 'Industry_Medical Distribution', 'Industry_Medical Instruments & Supplies', 'Industry_Oil & Gas E&P', 'Industry_Oil & Gas Equipment & Services', 'Industry_Oil & Gas Midstream', 'Industry_Packaging & Containers', 'Industry_Pollution & Treatment Controls', 'Industry_REIT - Healthcare Facilities', 'Industry_REIT - Hotel & Motel', 'Industry_REIT - Residential', 'Industry_REIT - Retail', 'Industry_REIT - Specialty', 'Industry_Real Estate Services', 'Industry_Residential Construction', 'Industry_Restaurants', 'Industry_Semiconductor Equipment & Materials', 'Industry_Semiconductors', 'Industry_Software - Application', 'Industry_Software - Infrastructure', 'Industry_Solar', 'Industry_Specialty Business Services', 'Industry_Specialty Chemicals', 'Industry_Specialty Industrial Machinery', 'Industry_Telecom Services', 'Industry_Tobacco', 'Industry_Travel Services', 'Industry_Utilities - Regulated Electric', 'RSI', 'MACD', 'ATR', 'BB_width', 'OBV', 'Rolling_Return_5', 'Rolling_Vol_5']\n"
     ]
    }
   ],
   "source": [
    "\n",
    "def compute_rsi(series, length=14):\n",
    "    delta = series.diff()\n",
    "    gain = (delta.where(delta > 0, 0)).rolling(window=length).mean()\n",
    "    loss = (-delta.where(delta < 0, 0)).rolling(window=length).mean()\n",
    "    rs = gain / loss\n",
    "    rsi = 100 - (100 / (1 + rs))\n",
    "    return rsi\n",
    "\n",
    "def compute_macd(series, fast=12, slow=26):\n",
    "    ema_fast = series.ewm(span=fast, adjust=False).mean()\n",
    "    ema_slow = series.ewm(span=slow, adjust=False).mean()\n",
    "    return ema_fast - ema_slow\n",
    "\n",
    "def compute_atr(df, length=14):\n",
    "    high_low = df['High'] - df['Low']\n",
    "    high_close = np.abs(df['High'] - df['Close'].shift())\n",
    "    low_close = np.abs(df['Low'] - df['Close'].shift())\n",
    "    tr = pd.concat([high_low, high_close, low_close], axis=1).max(axis=1)\n",
    "    atr = tr.rolling(window=length).mean()\n",
    "    return atr\n",
    "\n",
    "def compute_bollinger_band_width(series, length=20, num_std=2):\n",
    "    sma = series.rolling(window=length).mean()\n",
    "    std = series.rolling(window=length).std()\n",
    "    upper = sma + num_std * std\n",
    "    lower = sma - num_std * std\n",
    "    return upper - lower\n",
    "\n",
    "def compute_obv(close, volume):\n",
    "    direction = np.sign(close.diff()).fillna(0)\n",
    "    obv = (volume * direction).cumsum()\n",
    "    return obv\n",
    "\n",
    "def dataEngineeringForHyperParam(df):\n",
    "    df = df.copy()\n",
    "\n",
    "    # Replace pandas_ta indicators with manual ones\n",
    "    df['RSI'] = compute_rsi(df['Close'])\n",
    "    df['MACD'] = compute_macd(df['Close'])\n",
    "    df['ATR'] = compute_atr(df)\n",
    "    df['BB_width'] = compute_bollinger_band_width(df['Close'])\n",
    "    df['OBV'] = compute_obv(df['Close'], df['Volume'])\n",
    "\n",
    "    # Add rolling statistics\n",
    "    df['Rolling_Return_5'] = df.groupby('Symbol')['Return'].rolling(5).mean().reset_index(0, drop=True)\n",
    "    df['Rolling_Vol_5'] = df.groupby('Symbol')['Return'].rolling(5).std().reset_index(0, drop=True)\n",
    "\n",
    "    # Final feature selection\n",
    "    feature_cols = ['Return', 'Volatility', 'Momentum_20', 'SMA_20',\n",
    "                    'Marketcap', 'Revenuegrowth', 'Ebitda', 'Currentprice']\n",
    "    X = df[feature_cols]\n",
    "    y = df['Outperformer_20d']\n",
    "\n",
    "    return X, y, df\n",
    "\n",
    "\n",
    "X, y,df_quantative_ml = dataEngineeringForHyperParam(df_quantative_ml)\n",
    "print(df_quantative_ml.columns.tolist())\n"
   ]
  },
  {
   "cell_type": "code",
   "execution_count": null,
   "metadata": {},
   "outputs": [
    {
     "name": "stdout",
     "output_type": "stream",
     "text": [
      "Fitting 3 folds for each of 243 candidates, totalling 729 fits\n"
     ]
    },
    {
     "name": "stderr",
     "output_type": "stream",
     "text": [
      "C:\\Users\\atul1\\AppData\\Local\\Packages\\PythonSoftwareFoundation.Python.3.12_qbz5n2kfra8p0\\LocalCache\\local-packages\\Python312\\site-packages\\xgboost\\training.py:183: UserWarning: [23:58:06] WARNING: C:\\actions-runner\\_work\\xgboost\\xgboost\\src\\learner.cc:738: \n",
      "Parameters: { \"use_label_encoder\" } are not used.\n",
      "\n",
      "  bst.update(dtrain, iteration=i, fobj=obj)\n"
     ]
    },
    {
     "data": {
      "text/html": [
       "<style>#sk-container-id-1 {\n",
       "  /* Definition of color scheme common for light and dark mode */\n",
       "  --sklearn-color-text: #000;\n",
       "  --sklearn-color-text-muted: #666;\n",
       "  --sklearn-color-line: gray;\n",
       "  /* Definition of color scheme for unfitted estimators */\n",
       "  --sklearn-color-unfitted-level-0: #fff5e6;\n",
       "  --sklearn-color-unfitted-level-1: #f6e4d2;\n",
       "  --sklearn-color-unfitted-level-2: #ffe0b3;\n",
       "  --sklearn-color-unfitted-level-3: chocolate;\n",
       "  /* Definition of color scheme for fitted estimators */\n",
       "  --sklearn-color-fitted-level-0: #f0f8ff;\n",
       "  --sklearn-color-fitted-level-1: #d4ebff;\n",
       "  --sklearn-color-fitted-level-2: #b3dbfd;\n",
       "  --sklearn-color-fitted-level-3: cornflowerblue;\n",
       "\n",
       "  /* Specific color for light theme */\n",
       "  --sklearn-color-text-on-default-background: var(--sg-text-color, var(--theme-code-foreground, var(--jp-content-font-color1, black)));\n",
       "  --sklearn-color-background: var(--sg-background-color, var(--theme-background, var(--jp-layout-color0, white)));\n",
       "  --sklearn-color-border-box: var(--sg-text-color, var(--theme-code-foreground, var(--jp-content-font-color1, black)));\n",
       "  --sklearn-color-icon: #696969;\n",
       "\n",
       "  @media (prefers-color-scheme: dark) {\n",
       "    /* Redefinition of color scheme for dark theme */\n",
       "    --sklearn-color-text-on-default-background: var(--sg-text-color, var(--theme-code-foreground, var(--jp-content-font-color1, white)));\n",
       "    --sklearn-color-background: var(--sg-background-color, var(--theme-background, var(--jp-layout-color0, #111)));\n",
       "    --sklearn-color-border-box: var(--sg-text-color, var(--theme-code-foreground, var(--jp-content-font-color1, white)));\n",
       "    --sklearn-color-icon: #878787;\n",
       "  }\n",
       "}\n",
       "\n",
       "#sk-container-id-1 {\n",
       "  color: var(--sklearn-color-text);\n",
       "}\n",
       "\n",
       "#sk-container-id-1 pre {\n",
       "  padding: 0;\n",
       "}\n",
       "\n",
       "#sk-container-id-1 input.sk-hidden--visually {\n",
       "  border: 0;\n",
       "  clip: rect(1px 1px 1px 1px);\n",
       "  clip: rect(1px, 1px, 1px, 1px);\n",
       "  height: 1px;\n",
       "  margin: -1px;\n",
       "  overflow: hidden;\n",
       "  padding: 0;\n",
       "  position: absolute;\n",
       "  width: 1px;\n",
       "}\n",
       "\n",
       "#sk-container-id-1 div.sk-dashed-wrapped {\n",
       "  border: 1px dashed var(--sklearn-color-line);\n",
       "  margin: 0 0.4em 0.5em 0.4em;\n",
       "  box-sizing: border-box;\n",
       "  padding-bottom: 0.4em;\n",
       "  background-color: var(--sklearn-color-background);\n",
       "}\n",
       "\n",
       "#sk-container-id-1 div.sk-container {\n",
       "  /* jupyter's `normalize.less` sets `[hidden] { display: none; }`\n",
       "     but bootstrap.min.css set `[hidden] { display: none !important; }`\n",
       "     so we also need the `!important` here to be able to override the\n",
       "     default hidden behavior on the sphinx rendered scikit-learn.org.\n",
       "     See: https://github.com/scikit-learn/scikit-learn/issues/21755 */\n",
       "  display: inline-block !important;\n",
       "  position: relative;\n",
       "}\n",
       "\n",
       "#sk-container-id-1 div.sk-text-repr-fallback {\n",
       "  display: none;\n",
       "}\n",
       "\n",
       "div.sk-parallel-item,\n",
       "div.sk-serial,\n",
       "div.sk-item {\n",
       "  /* draw centered vertical line to link estimators */\n",
       "  background-image: linear-gradient(var(--sklearn-color-text-on-default-background), var(--sklearn-color-text-on-default-background));\n",
       "  background-size: 2px 100%;\n",
       "  background-repeat: no-repeat;\n",
       "  background-position: center center;\n",
       "}\n",
       "\n",
       "/* Parallel-specific style estimator block */\n",
       "\n",
       "#sk-container-id-1 div.sk-parallel-item::after {\n",
       "  content: \"\";\n",
       "  width: 100%;\n",
       "  border-bottom: 2px solid var(--sklearn-color-text-on-default-background);\n",
       "  flex-grow: 1;\n",
       "}\n",
       "\n",
       "#sk-container-id-1 div.sk-parallel {\n",
       "  display: flex;\n",
       "  align-items: stretch;\n",
       "  justify-content: center;\n",
       "  background-color: var(--sklearn-color-background);\n",
       "  position: relative;\n",
       "}\n",
       "\n",
       "#sk-container-id-1 div.sk-parallel-item {\n",
       "  display: flex;\n",
       "  flex-direction: column;\n",
       "}\n",
       "\n",
       "#sk-container-id-1 div.sk-parallel-item:first-child::after {\n",
       "  align-self: flex-end;\n",
       "  width: 50%;\n",
       "}\n",
       "\n",
       "#sk-container-id-1 div.sk-parallel-item:last-child::after {\n",
       "  align-self: flex-start;\n",
       "  width: 50%;\n",
       "}\n",
       "\n",
       "#sk-container-id-1 div.sk-parallel-item:only-child::after {\n",
       "  width: 0;\n",
       "}\n",
       "\n",
       "/* Serial-specific style estimator block */\n",
       "\n",
       "#sk-container-id-1 div.sk-serial {\n",
       "  display: flex;\n",
       "  flex-direction: column;\n",
       "  align-items: center;\n",
       "  background-color: var(--sklearn-color-background);\n",
       "  padding-right: 1em;\n",
       "  padding-left: 1em;\n",
       "}\n",
       "\n",
       "\n",
       "/* Toggleable style: style used for estimator/Pipeline/ColumnTransformer box that is\n",
       "clickable and can be expanded/collapsed.\n",
       "- Pipeline and ColumnTransformer use this feature and define the default style\n",
       "- Estimators will overwrite some part of the style using the `sk-estimator` class\n",
       "*/\n",
       "\n",
       "/* Pipeline and ColumnTransformer style (default) */\n",
       "\n",
       "#sk-container-id-1 div.sk-toggleable {\n",
       "  /* Default theme specific background. It is overwritten whether we have a\n",
       "  specific estimator or a Pipeline/ColumnTransformer */\n",
       "  background-color: var(--sklearn-color-background);\n",
       "}\n",
       "\n",
       "/* Toggleable label */\n",
       "#sk-container-id-1 label.sk-toggleable__label {\n",
       "  cursor: pointer;\n",
       "  display: flex;\n",
       "  width: 100%;\n",
       "  margin-bottom: 0;\n",
       "  padding: 0.5em;\n",
       "  box-sizing: border-box;\n",
       "  text-align: center;\n",
       "  align-items: start;\n",
       "  justify-content: space-between;\n",
       "  gap: 0.5em;\n",
       "}\n",
       "\n",
       "#sk-container-id-1 label.sk-toggleable__label .caption {\n",
       "  font-size: 0.6rem;\n",
       "  font-weight: lighter;\n",
       "  color: var(--sklearn-color-text-muted);\n",
       "}\n",
       "\n",
       "#sk-container-id-1 label.sk-toggleable__label-arrow:before {\n",
       "  /* Arrow on the left of the label */\n",
       "  content: \"▸\";\n",
       "  float: left;\n",
       "  margin-right: 0.25em;\n",
       "  color: var(--sklearn-color-icon);\n",
       "}\n",
       "\n",
       "#sk-container-id-1 label.sk-toggleable__label-arrow:hover:before {\n",
       "  color: var(--sklearn-color-text);\n",
       "}\n",
       "\n",
       "/* Toggleable content - dropdown */\n",
       "\n",
       "#sk-container-id-1 div.sk-toggleable__content {\n",
       "  max-height: 0;\n",
       "  max-width: 0;\n",
       "  overflow: hidden;\n",
       "  text-align: left;\n",
       "  /* unfitted */\n",
       "  background-color: var(--sklearn-color-unfitted-level-0);\n",
       "}\n",
       "\n",
       "#sk-container-id-1 div.sk-toggleable__content.fitted {\n",
       "  /* fitted */\n",
       "  background-color: var(--sklearn-color-fitted-level-0);\n",
       "}\n",
       "\n",
       "#sk-container-id-1 div.sk-toggleable__content pre {\n",
       "  margin: 0.2em;\n",
       "  border-radius: 0.25em;\n",
       "  color: var(--sklearn-color-text);\n",
       "  /* unfitted */\n",
       "  background-color: var(--sklearn-color-unfitted-level-0);\n",
       "}\n",
       "\n",
       "#sk-container-id-1 div.sk-toggleable__content.fitted pre {\n",
       "  /* unfitted */\n",
       "  background-color: var(--sklearn-color-fitted-level-0);\n",
       "}\n",
       "\n",
       "#sk-container-id-1 input.sk-toggleable__control:checked~div.sk-toggleable__content {\n",
       "  /* Expand drop-down */\n",
       "  max-height: 200px;\n",
       "  max-width: 100%;\n",
       "  overflow: auto;\n",
       "}\n",
       "\n",
       "#sk-container-id-1 input.sk-toggleable__control:checked~label.sk-toggleable__label-arrow:before {\n",
       "  content: \"▾\";\n",
       "}\n",
       "\n",
       "/* Pipeline/ColumnTransformer-specific style */\n",
       "\n",
       "#sk-container-id-1 div.sk-label input.sk-toggleable__control:checked~label.sk-toggleable__label {\n",
       "  color: var(--sklearn-color-text);\n",
       "  background-color: var(--sklearn-color-unfitted-level-2);\n",
       "}\n",
       "\n",
       "#sk-container-id-1 div.sk-label.fitted input.sk-toggleable__control:checked~label.sk-toggleable__label {\n",
       "  background-color: var(--sklearn-color-fitted-level-2);\n",
       "}\n",
       "\n",
       "/* Estimator-specific style */\n",
       "\n",
       "/* Colorize estimator box */\n",
       "#sk-container-id-1 div.sk-estimator input.sk-toggleable__control:checked~label.sk-toggleable__label {\n",
       "  /* unfitted */\n",
       "  background-color: var(--sklearn-color-unfitted-level-2);\n",
       "}\n",
       "\n",
       "#sk-container-id-1 div.sk-estimator.fitted input.sk-toggleable__control:checked~label.sk-toggleable__label {\n",
       "  /* fitted */\n",
       "  background-color: var(--sklearn-color-fitted-level-2);\n",
       "}\n",
       "\n",
       "#sk-container-id-1 div.sk-label label.sk-toggleable__label,\n",
       "#sk-container-id-1 div.sk-label label {\n",
       "  /* The background is the default theme color */\n",
       "  color: var(--sklearn-color-text-on-default-background);\n",
       "}\n",
       "\n",
       "/* On hover, darken the color of the background */\n",
       "#sk-container-id-1 div.sk-label:hover label.sk-toggleable__label {\n",
       "  color: var(--sklearn-color-text);\n",
       "  background-color: var(--sklearn-color-unfitted-level-2);\n",
       "}\n",
       "\n",
       "/* Label box, darken color on hover, fitted */\n",
       "#sk-container-id-1 div.sk-label.fitted:hover label.sk-toggleable__label.fitted {\n",
       "  color: var(--sklearn-color-text);\n",
       "  background-color: var(--sklearn-color-fitted-level-2);\n",
       "}\n",
       "\n",
       "/* Estimator label */\n",
       "\n",
       "#sk-container-id-1 div.sk-label label {\n",
       "  font-family: monospace;\n",
       "  font-weight: bold;\n",
       "  display: inline-block;\n",
       "  line-height: 1.2em;\n",
       "}\n",
       "\n",
       "#sk-container-id-1 div.sk-label-container {\n",
       "  text-align: center;\n",
       "}\n",
       "\n",
       "/* Estimator-specific */\n",
       "#sk-container-id-1 div.sk-estimator {\n",
       "  font-family: monospace;\n",
       "  border: 1px dotted var(--sklearn-color-border-box);\n",
       "  border-radius: 0.25em;\n",
       "  box-sizing: border-box;\n",
       "  margin-bottom: 0.5em;\n",
       "  /* unfitted */\n",
       "  background-color: var(--sklearn-color-unfitted-level-0);\n",
       "}\n",
       "\n",
       "#sk-container-id-1 div.sk-estimator.fitted {\n",
       "  /* fitted */\n",
       "  background-color: var(--sklearn-color-fitted-level-0);\n",
       "}\n",
       "\n",
       "/* on hover */\n",
       "#sk-container-id-1 div.sk-estimator:hover {\n",
       "  /* unfitted */\n",
       "  background-color: var(--sklearn-color-unfitted-level-2);\n",
       "}\n",
       "\n",
       "#sk-container-id-1 div.sk-estimator.fitted:hover {\n",
       "  /* fitted */\n",
       "  background-color: var(--sklearn-color-fitted-level-2);\n",
       "}\n",
       "\n",
       "/* Specification for estimator info (e.g. \"i\" and \"?\") */\n",
       "\n",
       "/* Common style for \"i\" and \"?\" */\n",
       "\n",
       ".sk-estimator-doc-link,\n",
       "a:link.sk-estimator-doc-link,\n",
       "a:visited.sk-estimator-doc-link {\n",
       "  float: right;\n",
       "  font-size: smaller;\n",
       "  line-height: 1em;\n",
       "  font-family: monospace;\n",
       "  background-color: var(--sklearn-color-background);\n",
       "  border-radius: 1em;\n",
       "  height: 1em;\n",
       "  width: 1em;\n",
       "  text-decoration: none !important;\n",
       "  margin-left: 0.5em;\n",
       "  text-align: center;\n",
       "  /* unfitted */\n",
       "  border: var(--sklearn-color-unfitted-level-1) 1pt solid;\n",
       "  color: var(--sklearn-color-unfitted-level-1);\n",
       "}\n",
       "\n",
       ".sk-estimator-doc-link.fitted,\n",
       "a:link.sk-estimator-doc-link.fitted,\n",
       "a:visited.sk-estimator-doc-link.fitted {\n",
       "  /* fitted */\n",
       "  border: var(--sklearn-color-fitted-level-1) 1pt solid;\n",
       "  color: var(--sklearn-color-fitted-level-1);\n",
       "}\n",
       "\n",
       "/* On hover */\n",
       "div.sk-estimator:hover .sk-estimator-doc-link:hover,\n",
       ".sk-estimator-doc-link:hover,\n",
       "div.sk-label-container:hover .sk-estimator-doc-link:hover,\n",
       ".sk-estimator-doc-link:hover {\n",
       "  /* unfitted */\n",
       "  background-color: var(--sklearn-color-unfitted-level-3);\n",
       "  color: var(--sklearn-color-background);\n",
       "  text-decoration: none;\n",
       "}\n",
       "\n",
       "div.sk-estimator.fitted:hover .sk-estimator-doc-link.fitted:hover,\n",
       ".sk-estimator-doc-link.fitted:hover,\n",
       "div.sk-label-container:hover .sk-estimator-doc-link.fitted:hover,\n",
       ".sk-estimator-doc-link.fitted:hover {\n",
       "  /* fitted */\n",
       "  background-color: var(--sklearn-color-fitted-level-3);\n",
       "  color: var(--sklearn-color-background);\n",
       "  text-decoration: none;\n",
       "}\n",
       "\n",
       "/* Span, style for the box shown on hovering the info icon */\n",
       ".sk-estimator-doc-link span {\n",
       "  display: none;\n",
       "  z-index: 9999;\n",
       "  position: relative;\n",
       "  font-weight: normal;\n",
       "  right: .2ex;\n",
       "  padding: .5ex;\n",
       "  margin: .5ex;\n",
       "  width: min-content;\n",
       "  min-width: 20ex;\n",
       "  max-width: 50ex;\n",
       "  color: var(--sklearn-color-text);\n",
       "  box-shadow: 2pt 2pt 4pt #999;\n",
       "  /* unfitted */\n",
       "  background: var(--sklearn-color-unfitted-level-0);\n",
       "  border: .5pt solid var(--sklearn-color-unfitted-level-3);\n",
       "}\n",
       "\n",
       ".sk-estimator-doc-link.fitted span {\n",
       "  /* fitted */\n",
       "  background: var(--sklearn-color-fitted-level-0);\n",
       "  border: var(--sklearn-color-fitted-level-3);\n",
       "}\n",
       "\n",
       ".sk-estimator-doc-link:hover span {\n",
       "  display: block;\n",
       "}\n",
       "\n",
       "/* \"?\"-specific style due to the `<a>` HTML tag */\n",
       "\n",
       "#sk-container-id-1 a.estimator_doc_link {\n",
       "  float: right;\n",
       "  font-size: 1rem;\n",
       "  line-height: 1em;\n",
       "  font-family: monospace;\n",
       "  background-color: var(--sklearn-color-background);\n",
       "  border-radius: 1rem;\n",
       "  height: 1rem;\n",
       "  width: 1rem;\n",
       "  text-decoration: none;\n",
       "  /* unfitted */\n",
       "  color: var(--sklearn-color-unfitted-level-1);\n",
       "  border: var(--sklearn-color-unfitted-level-1) 1pt solid;\n",
       "}\n",
       "\n",
       "#sk-container-id-1 a.estimator_doc_link.fitted {\n",
       "  /* fitted */\n",
       "  border: var(--sklearn-color-fitted-level-1) 1pt solid;\n",
       "  color: var(--sklearn-color-fitted-level-1);\n",
       "}\n",
       "\n",
       "/* On hover */\n",
       "#sk-container-id-1 a.estimator_doc_link:hover {\n",
       "  /* unfitted */\n",
       "  background-color: var(--sklearn-color-unfitted-level-3);\n",
       "  color: var(--sklearn-color-background);\n",
       "  text-decoration: none;\n",
       "}\n",
       "\n",
       "#sk-container-id-1 a.estimator_doc_link.fitted:hover {\n",
       "  /* fitted */\n",
       "  background-color: var(--sklearn-color-fitted-level-3);\n",
       "}\n",
       "</style><div id=\"sk-container-id-1\" class=\"sk-top-container\"><div class=\"sk-text-repr-fallback\"><pre>GridSearchCV(cv=3,\n",
       "             estimator=XGBClassifier(base_score=None, booster=None,\n",
       "                                     callbacks=None, colsample_bylevel=None,\n",
       "                                     colsample_bynode=None,\n",
       "                                     colsample_bytree=None, device=None,\n",
       "                                     early_stopping_rounds=None,\n",
       "                                     enable_categorical=False,\n",
       "                                     eval_metric=&#x27;logloss&#x27;, feature_types=None,\n",
       "                                     feature_weights=None, gamma=None,\n",
       "                                     grow_policy=None, importance_type=None,\n",
       "                                     interaction_constraint...\n",
       "                                     max_delta_step=None, max_depth=None,\n",
       "                                     max_leaves=None, min_child_weight=None,\n",
       "                                     missing=nan, monotone_constraints=None,\n",
       "                                     multi_strategy=None, n_estimators=None,\n",
       "                                     n_jobs=None, num_parallel_tree=None, ...),\n",
       "             n_jobs=-1,\n",
       "             param_grid={&#x27;colsample_bytree&#x27;: [0.7, 0.8, 1.0],\n",
       "                         &#x27;learning_rate&#x27;: [0.01, 0.05, 0.1],\n",
       "                         &#x27;max_depth&#x27;: [3, 5, 7], &#x27;n_estimators&#x27;: [50, 100, 200],\n",
       "                         &#x27;subsample&#x27;: [0.7, 0.8, 1.0]},\n",
       "             scoring=&#x27;accuracy&#x27;, verbose=2)</pre><b>In a Jupyter environment, please rerun this cell to show the HTML representation or trust the notebook. <br />On GitHub, the HTML representation is unable to render, please try loading this page with nbviewer.org.</b></div><div class=\"sk-container\" hidden><div class=\"sk-item sk-dashed-wrapped\"><div class=\"sk-label-container\"><div class=\"sk-label fitted sk-toggleable\"><input class=\"sk-toggleable__control sk-hidden--visually\" id=\"sk-estimator-id-1\" type=\"checkbox\" ><label for=\"sk-estimator-id-1\" class=\"sk-toggleable__label fitted sk-toggleable__label-arrow\"><div><div>GridSearchCV</div></div><div><a class=\"sk-estimator-doc-link fitted\" rel=\"noreferrer\" target=\"_blank\" href=\"https://scikit-learn.org/1.6/modules/generated/sklearn.model_selection.GridSearchCV.html\">?<span>Documentation for GridSearchCV</span></a><span class=\"sk-estimator-doc-link fitted\">i<span>Fitted</span></span></div></label><div class=\"sk-toggleable__content fitted\"><pre>GridSearchCV(cv=3,\n",
       "             estimator=XGBClassifier(base_score=None, booster=None,\n",
       "                                     callbacks=None, colsample_bylevel=None,\n",
       "                                     colsample_bynode=None,\n",
       "                                     colsample_bytree=None, device=None,\n",
       "                                     early_stopping_rounds=None,\n",
       "                                     enable_categorical=False,\n",
       "                                     eval_metric=&#x27;logloss&#x27;, feature_types=None,\n",
       "                                     feature_weights=None, gamma=None,\n",
       "                                     grow_policy=None, importance_type=None,\n",
       "                                     interaction_constraint...\n",
       "                                     max_delta_step=None, max_depth=None,\n",
       "                                     max_leaves=None, min_child_weight=None,\n",
       "                                     missing=nan, monotone_constraints=None,\n",
       "                                     multi_strategy=None, n_estimators=None,\n",
       "                                     n_jobs=None, num_parallel_tree=None, ...),\n",
       "             n_jobs=-1,\n",
       "             param_grid={&#x27;colsample_bytree&#x27;: [0.7, 0.8, 1.0],\n",
       "                         &#x27;learning_rate&#x27;: [0.01, 0.05, 0.1],\n",
       "                         &#x27;max_depth&#x27;: [3, 5, 7], &#x27;n_estimators&#x27;: [50, 100, 200],\n",
       "                         &#x27;subsample&#x27;: [0.7, 0.8, 1.0]},\n",
       "             scoring=&#x27;accuracy&#x27;, verbose=2)</pre></div> </div></div><div class=\"sk-parallel\"><div class=\"sk-parallel-item\"><div class=\"sk-item\"><div class=\"sk-label-container\"><div class=\"sk-label fitted sk-toggleable\"><input class=\"sk-toggleable__control sk-hidden--visually\" id=\"sk-estimator-id-2\" type=\"checkbox\" ><label for=\"sk-estimator-id-2\" class=\"sk-toggleable__label fitted sk-toggleable__label-arrow\"><div><div>best_estimator_: XGBClassifier</div></div></label><div class=\"sk-toggleable__content fitted\"><pre>XGBClassifier(base_score=None, booster=None, callbacks=None,\n",
       "              colsample_bylevel=None, colsample_bynode=None,\n",
       "              colsample_bytree=1.0, device=None, early_stopping_rounds=None,\n",
       "              enable_categorical=False, eval_metric=&#x27;logloss&#x27;,\n",
       "              feature_types=None, feature_weights=None, gamma=None,\n",
       "              grow_policy=None, importance_type=None,\n",
       "              interaction_constraints=None, learning_rate=0.01, max_bin=None,\n",
       "              max_cat_threshold=None, max_cat_to_onehot=None,\n",
       "              max_delta_step=None, max_depth=5, max_leaves=None,\n",
       "              min_child_weight=None, missing=nan, monotone_constraints=None,\n",
       "              multi_strategy=None, n_estimators=200, n_jobs=None,\n",
       "              num_parallel_tree=None, ...)</pre></div> </div></div><div class=\"sk-serial\"><div class=\"sk-item\"><div class=\"sk-estimator fitted sk-toggleable\"><input class=\"sk-toggleable__control sk-hidden--visually\" id=\"sk-estimator-id-3\" type=\"checkbox\" ><label for=\"sk-estimator-id-3\" class=\"sk-toggleable__label fitted sk-toggleable__label-arrow\"><div><div>XGBClassifier</div></div><div><a class=\"sk-estimator-doc-link fitted\" rel=\"noreferrer\" target=\"_blank\" href=\"https://xgboost.readthedocs.io/en/release_3.0.0/python/python_api.html#xgboost.XGBClassifier\">?<span>Documentation for XGBClassifier</span></a></div></label><div class=\"sk-toggleable__content fitted\"><pre>XGBClassifier(base_score=None, booster=None, callbacks=None,\n",
       "              colsample_bylevel=None, colsample_bynode=None,\n",
       "              colsample_bytree=1.0, device=None, early_stopping_rounds=None,\n",
       "              enable_categorical=False, eval_metric=&#x27;logloss&#x27;,\n",
       "              feature_types=None, feature_weights=None, gamma=None,\n",
       "              grow_policy=None, importance_type=None,\n",
       "              interaction_constraints=None, learning_rate=0.01, max_bin=None,\n",
       "              max_cat_threshold=None, max_cat_to_onehot=None,\n",
       "              max_delta_step=None, max_depth=5, max_leaves=None,\n",
       "              min_child_weight=None, missing=nan, monotone_constraints=None,\n",
       "              multi_strategy=None, n_estimators=200, n_jobs=None,\n",
       "              num_parallel_tree=None, ...)</pre></div> </div></div></div></div></div></div></div></div></div>"
      ],
      "text/plain": [
       "GridSearchCV(cv=3,\n",
       "             estimator=XGBClassifier(base_score=None, booster=None,\n",
       "                                     callbacks=None, colsample_bylevel=None,\n",
       "                                     colsample_bynode=None,\n",
       "                                     colsample_bytree=None, device=None,\n",
       "                                     early_stopping_rounds=None,\n",
       "                                     enable_categorical=False,\n",
       "                                     eval_metric='logloss', feature_types=None,\n",
       "                                     feature_weights=None, gamma=None,\n",
       "                                     grow_policy=None, importance_type=None,\n",
       "                                     interaction_constraint...\n",
       "                                     max_delta_step=None, max_depth=None,\n",
       "                                     max_leaves=None, min_child_weight=None,\n",
       "                                     missing=nan, monotone_constraints=None,\n",
       "                                     multi_strategy=None, n_estimators=None,\n",
       "                                     n_jobs=None, num_parallel_tree=None, ...),\n",
       "             n_jobs=-1,\n",
       "             param_grid={'colsample_bytree': [0.7, 0.8, 1.0],\n",
       "                         'learning_rate': [0.01, 0.05, 0.1],\n",
       "                         'max_depth': [3, 5, 7], 'n_estimators': [50, 100, 200],\n",
       "                         'subsample': [0.7, 0.8, 1.0]},\n",
       "             scoring='accuracy', verbose=2)"
      ]
     },
     "execution_count": 86,
     "metadata": {},
     "output_type": "execute_result"
    }
   ],
   "source": [
    "X_train, X_test, y_train, y_test = train_test_split(X, y, shuffle=False)\n",
    "param_grid = {\n",
    "    'n_estimators': [50, 100, 200],\n",
    "    'max_depth': [3, 5, 7],\n",
    "    'learning_rate': [0.01, 0.05, 0.1],\n",
    "    'subsample': [0.7, 0.8, 1.0],\n",
    "    'colsample_bytree': [0.7, 0.8, 1.0]\n",
    "}\n",
    "\n",
    "xgb = XGBClassifier(random_state=42, use_label_encoder=False, eval_metric='logloss')\n",
    "\n",
    "# Set up GridSearch\n",
    "grid_search = GridSearchCV(\n",
    "    estimator=xgb,\n",
    "    param_grid=param_grid,\n",
    "    cv=3,\n",
    "    scoring='accuracy',\n",
    "    verbose=2,\n",
    "    n_jobs=-1\n",
    ")\n",
    "\n",
    "grid_search.fit(X_train, y_train)"
   ]
  },
  {
   "cell_type": "code",
   "execution_count": null,
   "metadata": {},
   "outputs": [
    {
     "name": "stdout",
     "output_type": "stream",
     "text": [
      "Best Parameters: {'colsample_bytree': 1.0, 'learning_rate': 0.01, 'max_depth': 5, 'n_estimators': 200, 'subsample': 0.8}\n",
      "Best CV Score: 0.8252425726079813\n"
     ]
    }
   ],
   "source": [
    "print(\"Best Parameters:\", grid_search.best_params_)\n",
    "print(\"Best CV Score:\", grid_search.best_score_)\n"
   ]
  },
  {
   "cell_type": "code",
   "execution_count": null,
   "metadata": {},
   "outputs": [
    {
     "name": "stdout",
     "output_type": "stream",
     "text": [
      "              precision    recall  f1-score   support\n",
      "\n",
      "           0       0.81      0.85      0.83     35430\n",
      "           1       0.84      0.81      0.83     36985\n",
      "\n",
      "    accuracy                           0.83     72415\n",
      "   macro avg       0.83      0.83      0.83     72415\n",
      "weighted avg       0.83      0.83      0.83     72415\n",
      "\n",
      "Test Accuracy: 0.8254919560864462\n"
     ]
    }
   ],
   "source": [
    "best_model = grid_search.best_estimator_\n",
    "y_pred = best_model.predict(X_test)\n",
    "\n",
    "print(classification_report(y_test, y_pred))\n",
    "print(\"Test Accuracy:\", accuracy_score(y_test, y_pred))\n",
    "y_pred = best_model.predict(X_test)\n"
   ]
  },
  {
   "cell_type": "code",
   "execution_count": null,
   "metadata": {},
   "outputs": [
    {
     "data": {
      "text/plain": [
       "['..\\\\saved_models\\\\best_model_XGB.pkl']"
      ]
     },
     "execution_count": 89,
     "metadata": {},
     "output_type": "execute_result"
    }
   ],
   "source": [
    "# Save each KMeans model with the cluster count in the filename\n",
    "model_path = os.path.join(SAVED_MODEL_DIR, 'best_model_XGB.pkl')\n",
    "joblib.dump(best_model, model_path)"
   ]
  },
  {
   "cell_type": "code",
   "execution_count": null,
   "metadata": {},
   "outputs": [
    {
     "name": "stdout",
     "output_type": "stream",
     "text": [
      "              precision    recall  f1-score   support\n",
      "\n",
      "           0       0.81      0.85      0.83     35430\n",
      "           1       0.84      0.81      0.83     36985\n",
      "\n",
      "    accuracy                           0.83     72415\n",
      "   macro avg       0.83      0.83      0.83     72415\n",
      "weighted avg       0.83      0.83      0.83     72415\n",
      "\n",
      "Test Accuracy: 0.8254919560864462\n"
     ]
    },
    {
     "data": {
      "image/png": "[encoded data removed]",
      "text/plain": [
       "<Figure size 600x500 with 2 Axes>"
      ]
     },
     "metadata": {},
     "output_type": "display_data"
    }
   ],
   "source": [
    "# Classification report\n",
    "print(classification_report(y_test, y_pred))\n",
    "\n",
    "# Accuracy score\n",
    "print(\"Test Accuracy:\", accuracy_score(y_test, y_pred))\n",
    "\n",
    "# Confusion matrix\n",
    "plot_confusion_matrix(\n",
    "    y_test,\n",
    "    y_pred,\n",
    "    labels=[\"Underperformer (0)\", \"Outperformer (1)\"],\n",
    "    title=\"Confusion Matrix\"\n",
    ")"
   ]
  },
  {
   "cell_type": "code",
   "execution_count": null,
   "metadata": {},
   "outputs": [
    {
     "name": "stdout",
     "output_type": "stream",
     "text": [
      "Test ROC AUC: 0.7052\n"
     ]
    },
    {
     "data": {
      "image/png": "[encoded data removed]",
      "text/plain": [
       "<Figure size 800x600 with 1 Axes>"
      ]
     },
     "metadata": {},
     "output_type": "display_data"
    }
   ],
   "source": [
    "# Get predicted probabilities for the positive class\n",
    "# Probability of class 1 (Outperformer)\n",
    "y_pred_proba = model.predict_proba(X_test)[:, 1]\n",
    "\n",
    "# Calculate ROC AUC score\n",
    "auc = roc_auc_score(y_test, y_pred_proba)\n",
    "print(f\"Test ROC AUC: {auc:.4f}\")\n",
    "\n",
    "# Calculate ROC curve values\n",
    "fpr, tpr, thresholds = roc_curve(y_test, y_pred_proba)\n",
    "\n",
    "# Plot ROC curve\n",
    "plt.figure(figsize=(8, 6))\n",
    "plt.plot(fpr, tpr, label=f'ROC Curve (AUC = {auc:.2f})')\n",
    "plt.plot([0, 1], [0, 1], 'k--', label='Random Classifier')\n",
    "plt.xlabel('False Positive Rate')\n",
    "plt.ylabel('True Positive Rate')\n",
    "plt.title('ROC Curve - Outperformance Model')\n",
    "plt.legend()\n",
    "plt.grid(True)\n",
    "plt.show()"
   ]
  }
 ],
 "metadata": {
  "kernelspec": {
   "display_name": "Python 3",
   "language": "python",
   "name": "python3"
  },
  "language_info": {
   "codemirror_mode": {
    "name": "ipython",
    "version": 3
   },
   "file_extension": ".py",
   "mimetype": "text/x-python",
   "name": "python",
   "nbconvert_exporter": "python",
   "pygments_lexer": "ipython3",
   "version": "3.12.10"
  }
 },
 "nbformat": 4,
 "nbformat_minor": 2
}
